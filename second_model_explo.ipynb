{
 "cells": [
  {
   "cell_type": "code",
   "execution_count": null,
   "metadata": {},
   "outputs": [],
   "source": [
    "# simple LSTM char\n",
    "# mot clé QSPR"
   ]
  },
  {
   "cell_type": "code",
   "execution_count": 1,
   "metadata": {},
   "outputs": [],
   "source": [
    "import pandas as pd\n",
    "import numpy as np\n",
    "import tensorflow as tf\n",
    "from feature_extractor import fingerprint_features\n",
    "import sklearn\n",
    "from sklearn.model_selection import train_test_split\n",
    "from tensorflow import keras"
   ]
  },
  {
   "cell_type": "code",
   "execution_count": 2,
   "metadata": {},
   "outputs": [],
   "source": [
    "df = pd.read_csv(\"dataset_single.csv\")"
   ]
  },
  {
   "cell_type": "code",
   "execution_count": 4,
   "metadata": {},
   "outputs": [],
   "source": [
    "train_df, test_df = train_test_split(df, test_size=0.1)\n",
    "train_df, val_df = train_test_split(train_df, test_size=0.2)"
   ]
  },
  {
   "cell_type": "code",
   "execution_count": null,
   "metadata": {},
   "outputs": [],
   "source": []
  },
  {
   "cell_type": "code",
   "execution_count": 6,
   "metadata": {},
   "outputs": [
    {
     "data": {
      "text/plain": [
       "P1         int64\n",
       "mol_id    object\n",
       "smiles    object\n",
       "dtype: object"
      ]
     },
     "execution_count": 6,
     "metadata": {},
     "output_type": "execute_result"
    }
   ],
   "source": [
    "train_df.dtypes"
   ]
  },
  {
   "cell_type": "code",
   "execution_count": 7,
   "metadata": {},
   "outputs": [],
   "source": [
    "tokenizer = keras.preprocessing.text.Tokenizer(char_level=True)"
   ]
  },
  {
   "cell_type": "code",
   "execution_count": 8,
   "metadata": {},
   "outputs": [
    {
     "data": {
      "text/html": [
       "<div>\n",
       "<style scoped>\n",
       "    .dataframe tbody tr th:only-of-type {\n",
       "        vertical-align: middle;\n",
       "    }\n",
       "\n",
       "    .dataframe tbody tr th {\n",
       "        vertical-align: top;\n",
       "    }\n",
       "\n",
       "    .dataframe thead th {\n",
       "        text-align: right;\n",
       "    }\n",
       "</style>\n",
       "<table border=\"1\" class=\"dataframe\">\n",
       "  <thead>\n",
       "    <tr style=\"text-align: right;\">\n",
       "      <th></th>\n",
       "      <th>P1</th>\n",
       "      <th>mol_id</th>\n",
       "      <th>smiles</th>\n",
       "    </tr>\n",
       "  </thead>\n",
       "  <tbody>\n",
       "    <tr>\n",
       "      <th>17</th>\n",
       "      <td>0</td>\n",
       "      <td>CID581177</td>\n",
       "      <td>CN(C)C1(c2nnnn2-c2ccc(Cl)cc2)CCCCC1</td>\n",
       "    </tr>\n",
       "    <tr>\n",
       "      <th>1440</th>\n",
       "      <td>1</td>\n",
       "      <td>CID9551907</td>\n",
       "      <td>CCC1=C/C(=C(\\Cc2ccccn2)NO)C(=O)C=C1O</td>\n",
       "    </tr>\n",
       "    <tr>\n",
       "      <th>2642</th>\n",
       "      <td>1</td>\n",
       "      <td>CID659821</td>\n",
       "      <td>O=C(Nc1cccc(Oc2c(F)c(F)c(F)c(F)c2F)c1)N1CC2CC(...</td>\n",
       "    </tr>\n",
       "    <tr>\n",
       "      <th>4838</th>\n",
       "      <td>1</td>\n",
       "      <td>CID2890260</td>\n",
       "      <td>C=C(C)c1cccc(C(C)(C)NC(=O)NC2CN3CCC2CC3)c1</td>\n",
       "    </tr>\n",
       "    <tr>\n",
       "      <th>1537</th>\n",
       "      <td>1</td>\n",
       "      <td>CID2249427</td>\n",
       "      <td>COc1ccccc1NC(=O)C(=O)NCc1ccccc1</td>\n",
       "    </tr>\n",
       "    <tr>\n",
       "      <th>...</th>\n",
       "      <td>...</td>\n",
       "      <td>...</td>\n",
       "      <td>...</td>\n",
       "    </tr>\n",
       "    <tr>\n",
       "      <th>2598</th>\n",
       "      <td>1</td>\n",
       "      <td>CID2406214</td>\n",
       "      <td>N#CCSc1nnc(Cc2cccc3ccccc23)n1C1CCCCC1</td>\n",
       "    </tr>\n",
       "    <tr>\n",
       "      <th>2906</th>\n",
       "      <td>1</td>\n",
       "      <td>CID649511</td>\n",
       "      <td>Cc1cc(NC(=O)CSc2nc3ccccc3n2CC(=O)N2CCCCC2)no1</td>\n",
       "    </tr>\n",
       "    <tr>\n",
       "      <th>2065</th>\n",
       "      <td>1</td>\n",
       "      <td>CID651915</td>\n",
       "      <td>CS(=O)(=O)N1CCc2cc(-c3csc(NCC4CCCO4)n3)ccc21</td>\n",
       "    </tr>\n",
       "    <tr>\n",
       "      <th>965</th>\n",
       "      <td>1</td>\n",
       "      <td>CID974496</td>\n",
       "      <td>Cc1csc(NC(=O)CSc2nnc(C)s2)n1</td>\n",
       "    </tr>\n",
       "    <tr>\n",
       "      <th>3264</th>\n",
       "      <td>1</td>\n",
       "      <td>CID3529927</td>\n",
       "      <td>Cc1ccc(/C=c2\\sc3nnc(-c4ccccc4Cl)n3c2=O)o1</td>\n",
       "    </tr>\n",
       "  </tbody>\n",
       "</table>\n",
       "<p>3599 rows × 3 columns</p>\n",
       "</div>"
      ],
      "text/plain": [
       "      P1      mol_id                                             smiles\n",
       "17     0   CID581177                CN(C)C1(c2nnnn2-c2ccc(Cl)cc2)CCCCC1\n",
       "1440   1  CID9551907               CCC1=C/C(=C(\\Cc2ccccn2)NO)C(=O)C=C1O\n",
       "2642   1   CID659821  O=C(Nc1cccc(Oc2c(F)c(F)c(F)c(F)c2F)c1)N1CC2CC(...\n",
       "4838   1  CID2890260         C=C(C)c1cccc(C(C)(C)NC(=O)NC2CN3CCC2CC3)c1\n",
       "1537   1  CID2249427                    COc1ccccc1NC(=O)C(=O)NCc1ccccc1\n",
       "...   ..         ...                                                ...\n",
       "2598   1  CID2406214              N#CCSc1nnc(Cc2cccc3ccccc23)n1C1CCCCC1\n",
       "2906   1   CID649511      Cc1cc(NC(=O)CSc2nc3ccccc3n2CC(=O)N2CCCCC2)no1\n",
       "2065   1   CID651915       CS(=O)(=O)N1CCc2cc(-c3csc(NCC4CCCO4)n3)ccc21\n",
       "965    1   CID974496                       Cc1csc(NC(=O)CSc2nnc(C)s2)n1\n",
       "3264   1  CID3529927          Cc1ccc(/C=c2\\sc3nnc(-c4ccccc4Cl)n3c2=O)o1\n",
       "\n",
       "[3599 rows x 3 columns]"
      ]
     },
     "execution_count": 8,
     "metadata": {},
     "output_type": "execute_result"
    }
   ],
   "source": [
    "train_df"
   ]
  },
  {
   "cell_type": "code",
   "execution_count": 3,
   "metadata": {},
   "outputs": [
    {
     "name": "stdout",
     "output_type": "stream",
     "text": [
      "(120, 56)\n"
     ]
    }
   ],
   "source": [
    "# define SMILES characters ----------------------------------------------------\n",
    "SMILES_CHARS = [' ',\n",
    "                '#', '%', '(', ')', '+', '-', '.', '/',\n",
    "                '0', '1', '2', '3', '4', '5', '6', '7', '8', '9',\n",
    "                '=', '@',\n",
    "                'A', 'B', 'C', 'F', 'H', 'I', 'K', 'L', 'M', 'N', 'O', 'P',\n",
    "                'R', 'S', 'T', 'V', 'X', 'Z',\n",
    "                '[', '\\\\', ']',\n",
    "                'a', 'b', 'c', 'e', 'g', 'i', 'l', 'n', 'o', 'p', 'r', 's',\n",
    "                't', 'u']\n",
    "                \n",
    "# define encoder and decoder --------------------------------------------------\n",
    "smi2index = dict( (c,i) for i,c in enumerate( SMILES_CHARS ) )\n",
    "index2smi = dict( (i,c) for i,c in enumerate( SMILES_CHARS ) )\n",
    "\n",
    "def smiles_encoder( smiles, maxlen=120 ):\n",
    "    X = np.zeros( ( maxlen, len( SMILES_CHARS ) ) )\n",
    "    for i, c in enumerate( smiles ):\n",
    "        X[i, smi2index[c] ] = 1\n",
    "    return X\n",
    "\n",
    "def smiles_decoder( X ):\n",
    "    smi = ''\n",
    "    X = X.argmax( axis=-1 )\n",
    "    for i in X:\n",
    "        smi += index2smi[ i ]\n",
    "    return smi\n",
    "\n",
    "# get a taste of caffeine -----------------------------------------------------\n",
    "caffeine_smiles = 'CN1C=NC2=C1C(=O)N(C(=O)N2C)C'\n",
    "\n",
    "caffeine_encoding = smiles_encoder(caffeine_smiles)\n",
    "\n",
    "print(caffeine_encoding.shape) # (120, 56)"
   ]
  },
  {
   "cell_type": "code",
   "execution_count": 7,
   "metadata": {},
   "outputs": [
    {
     "data": {
      "text/plain": [
       "{' ': 0,\n",
       " '#': 1,\n",
       " '%': 2,\n",
       " '(': 3,\n",
       " ')': 4,\n",
       " '+': 5,\n",
       " '-': 6,\n",
       " '.': 7,\n",
       " '/': 8,\n",
       " '0': 9,\n",
       " '1': 10,\n",
       " '2': 11,\n",
       " '3': 12,\n",
       " '4': 13,\n",
       " '5': 14,\n",
       " '6': 15,\n",
       " '7': 16,\n",
       " '8': 17,\n",
       " '9': 18,\n",
       " '=': 19,\n",
       " '@': 20,\n",
       " 'A': 21,\n",
       " 'B': 22,\n",
       " 'C': 23,\n",
       " 'F': 24,\n",
       " 'H': 25,\n",
       " 'I': 26,\n",
       " 'K': 27,\n",
       " 'L': 28,\n",
       " 'M': 29,\n",
       " 'N': 30,\n",
       " 'O': 31,\n",
       " 'P': 32,\n",
       " 'R': 33,\n",
       " 'S': 34,\n",
       " 'T': 35,\n",
       " 'V': 36,\n",
       " 'X': 37,\n",
       " 'Z': 38,\n",
       " '[': 39,\n",
       " '\\\\': 40,\n",
       " ']': 41,\n",
       " 'a': 42,\n",
       " 'b': 43,\n",
       " 'c': 44,\n",
       " 'e': 45,\n",
       " 'g': 46,\n",
       " 'i': 47,\n",
       " 'l': 48,\n",
       " 'n': 49,\n",
       " 'o': 50,\n",
       " 'p': 51,\n",
       " 'r': 52,\n",
       " 's': 53,\n",
       " 't': 54,\n",
       " 'u': 55}"
      ]
     },
     "execution_count": 7,
     "metadata": {},
     "output_type": "execute_result"
    }
   ],
   "source": [
    "smi2index"
   ]
  },
  {
   "cell_type": "code",
   "execution_count": 6,
   "metadata": {},
   "outputs": [
    {
     "data": {
      "text/plain": [
       "28"
      ]
     },
     "execution_count": 6,
     "metadata": {},
     "output_type": "execute_result"
    }
   ],
   "source": [
    "len(caffeine_smiles)"
   ]
  },
  {
   "cell_type": "code",
   "execution_count": 5,
   "metadata": {},
   "outputs": [
    {
     "data": {
      "text/plain": [
       "56"
      ]
     },
     "execution_count": 5,
     "metadata": {},
     "output_type": "execute_result"
    }
   ],
   "source": [
    "len(SMILES_CHARS)"
   ]
  },
  {
   "cell_type": "code",
   "execution_count": 4,
   "metadata": {},
   "outputs": [
    {
     "data": {
      "text/plain": [
       "array([[0., 0., 0., ..., 0., 0., 0.],\n",
       "       [0., 0., 0., ..., 0., 0., 0.],\n",
       "       [0., 0., 0., ..., 0., 0., 0.],\n",
       "       ...,\n",
       "       [0., 0., 0., ..., 0., 0., 0.],\n",
       "       [0., 0., 0., ..., 0., 0., 0.],\n",
       "       [0., 0., 0., ..., 0., 0., 0.]])"
      ]
     },
     "execution_count": 4,
     "metadata": {},
     "output_type": "execute_result"
    }
   ],
   "source": [
    "caffeine_encoding"
   ]
  },
  {
   "cell_type": "code",
   "execution_count": 10,
   "metadata": {},
   "outputs": [
    {
     "ename": "ImportError",
     "evalue": "cannot import name 'mol2vec' from 'rdkit' (C:\\Users\\J0545269\\Miniconda3\\envs\\lbc\\lib\\site-packages\\rdkit\\__init__.py)",
     "output_type": "error",
     "traceback": [
      "\u001b[1;31m---------------------------------------------------------------------------\u001b[0m",
      "\u001b[1;31mImportError\u001b[0m                               Traceback (most recent call last)",
      "\u001b[1;32mc:\\Users\\J0545269\\OneDrive - TOTAL\\ML_TEST\\ML_TEST\\second_model_explo.ipynb Cell 13'\u001b[0m in \u001b[0;36m<cell line: 1>\u001b[1;34m()\u001b[0m\n\u001b[1;32m----> <a href='vscode-notebook-cell:/c%3A/Users/J0545269/OneDrive%20-%20TOTAL/ML_TEST/ML_TEST/second_model_explo.ipynb#ch0000014?line=0'>1</a>\u001b[0m \u001b[39mfrom\u001b[39;00m \u001b[39mrdkit\u001b[39;00m \u001b[39mimport\u001b[39;00m Chem, mol2vec\n",
      "\u001b[1;31mImportError\u001b[0m: cannot import name 'mol2vec' from 'rdkit' (C:\\Users\\J0545269\\Miniconda3\\envs\\lbc\\lib\\site-packages\\rdkit\\__init__.py)"
     ]
    }
   ],
   "source": [
    "from rdkit import Chem, mol2vec"
   ]
  },
  {
   "cell_type": "code",
   "execution_count": 12,
   "metadata": {},
   "outputs": [],
   "source": [
    "from gensim.models import word2vec"
   ]
  },
  {
   "cell_type": "code",
   "execution_count": 14,
   "metadata": {},
   "outputs": [],
   "source": [
    "from mol2vec import features"
   ]
  },
  {
   "cell_type": "code",
   "execution_count": null,
   "metadata": {},
   "outputs": [],
   "source": [
    "from mol2vec.features import mol2alt_sentence, MolSentence, DfVec, sentences2vec"
   ]
  },
  {
   "cell_type": "code",
   "execution_count": 9,
   "metadata": {},
   "outputs": [
    {
     "ename": "ImportError",
     "evalue": "cannot import name 'mol2vec' from 'rdkit' (C:\\Users\\J0545269\\Miniconda3\\envs\\lbc\\lib\\site-packages\\rdkit\\__init__.py)",
     "output_type": "error",
     "traceback": [
      "\u001b[1;31m---------------------------------------------------------------------------\u001b[0m",
      "\u001b[1;31mImportError\u001b[0m                               Traceback (most recent call last)",
      "\u001b[1;32mc:\\Users\\J0545269\\OneDrive - TOTAL\\ML_TEST\\ML_TEST\\second_model_explo.ipynb Cell 13'\u001b[0m in \u001b[0;36m<cell line: 1>\u001b[1;34m()\u001b[0m\n\u001b[1;32m----> <a href='vscode-notebook-cell:/c%3A/Users/J0545269/OneDrive%20-%20TOTAL/ML_TEST/ML_TEST/second_model_explo.ipynb#ch0000013?line=0'>1</a>\u001b[0m \u001b[39mfrom\u001b[39;00m \u001b[39mrdkit\u001b[39;00m \u001b[39mimport\u001b[39;00m Chem, mol2vec\n\u001b[0;32m      <a href='vscode-notebook-cell:/c%3A/Users/J0545269/OneDrive%20-%20TOTAL/ML_TEST/ML_TEST/second_model_explo.ipynb#ch0000013?line=1'>2</a>\u001b[0m \u001b[39mfrom\u001b[39;00m \u001b[39mmol2vec\u001b[39;00m\u001b[39m.\u001b[39;00m\u001b[39mfeatures\u001b[39;00m \u001b[39mimport\u001b[39;00m mol2alt_sentence, MolSentence, DfVec, sentences2vec\n\u001b[0;32m      <a href='vscode-notebook-cell:/c%3A/Users/J0545269/OneDrive%20-%20TOTAL/ML_TEST/ML_TEST/second_model_explo.ipynb#ch0000013?line=2'>3</a>\u001b[0m \u001b[39mfrom\u001b[39;00m \u001b[39mgensim\u001b[39;00m\u001b[39m.\u001b[39;00m\u001b[39mmodels\u001b[39;00m \u001b[39mimport\u001b[39;00m word2vec\n",
      "\u001b[1;31mImportError\u001b[0m: cannot import name 'mol2vec' from 'rdkit' (C:\\Users\\J0545269\\Miniconda3\\envs\\lbc\\lib\\site-packages\\rdkit\\__init__.py)"
     ]
    }
   ],
   "source": [
    "\n",
    "from mol2vec.features import mol2alt_sentence, MolSentence, DfVec, sentences2vec\n",
    "from gensim.models import word2vec"
   ]
  },
  {
   "cell_type": "code",
   "execution_count": 3,
   "metadata": {},
   "outputs": [
    {
     "name": "stdout",
     "output_type": "stream",
     "text": [
      ">>> create mol from smiles ... \n"
     ]
    }
   ],
   "source": [
    "\n",
    "# import rdkit/mol2vec/word2vec -----------------------------------------------\n",
    "from rdkit import Chem\n",
    "from mol2vec.features import mol2alt_sentence, MolSentence, DfVec, sentences2vec\n",
    "from gensim.models import word2vec\n",
    "\n",
    "\n",
    "print(\">>> create mol from smiles ... \")\n",
    "df['mol'] = df['smiles'].apply(lambda x: Chem.MolFromSmiles(x)) \n",
    "\n"
   ]
  },
  {
   "cell_type": "code",
   "execution_count": 13,
   "metadata": {},
   "outputs": [],
   "source": [
    "import gensim.downloader"
   ]
  },
  {
   "cell_type": "code",
   "execution_count": 14,
   "metadata": {},
   "outputs": [
    {
     "name": "stdout",
     "output_type": "stream",
     "text": [
      "['fasttext-wiki-news-subwords-300', 'conceptnet-numberbatch-17-06-300', 'word2vec-ruscorpora-300', 'word2vec-google-news-300', 'glove-wiki-gigaword-50', 'glove-wiki-gigaword-100', 'glove-wiki-gigaword-200', 'glove-wiki-gigaword-300', 'glove-twitter-25', 'glove-twitter-50', 'glove-twitter-100', 'glove-twitter-200', '__testing_word2vec-matrix-synopsis']\n"
     ]
    }
   ],
   "source": [
    "print(list(gensim.downloader.info()['models'].keys()))"
   ]
  },
  {
   "cell_type": "code",
   "execution_count": 16,
   "metadata": {},
   "outputs": [
    {
     "ename": "AttributeError",
     "evalue": "type object 'Word2Vec' has no attribute 'downloader'",
     "output_type": "error",
     "traceback": [
      "\u001b[1;31m---------------------------------------------------------------------------\u001b[0m",
      "\u001b[1;31mAttributeError\u001b[0m                            Traceback (most recent call last)",
      "\u001b[1;32mc:\\Users\\J0545269\\OneDrive - TOTAL\\ML_TEST\\ML_TEST\\second_model_explo.ipynb Cell 22'\u001b[0m in \u001b[0;36m<cell line: 2>\u001b[1;34m()\u001b[0m\n\u001b[0;32m      <a href='vscode-notebook-cell:/c%3A/Users/J0545269/OneDrive%20-%20TOTAL/ML_TEST/ML_TEST/second_model_explo.ipynb#ch0000021?line=0'>1</a>\u001b[0m \u001b[39mfrom\u001b[39;00m \u001b[39mgensim\u001b[39;00m\u001b[39m.\u001b[39;00m\u001b[39mmodels\u001b[39;00m \u001b[39mimport\u001b[39;00m word2vec\n\u001b[1;32m----> <a href='vscode-notebook-cell:/c%3A/Users/J0545269/OneDrive%20-%20TOTAL/ML_TEST/ML_TEST/second_model_explo.ipynb#ch0000021?line=1'>2</a>\u001b[0m model \u001b[39m=\u001b[39m word2vec\u001b[39m.\u001b[39;49mWord2Vec\u001b[39m.\u001b[39;49mdownloader\u001b[39m.\u001b[39mload(\u001b[39m\"\u001b[39m\u001b[39mglove-wiki-gigaword-50\u001b[39m\u001b[39m\"\u001b[39m)\n",
      "\u001b[1;31mAttributeError\u001b[0m: type object 'Word2Vec' has no attribute 'downloader'"
     ]
    }
   ],
   "source": [
    "from gensim.models import word2vec\n",
    "model = word2vec.Word2Vec.downloader.load(\"glove-wiki-gigaword-50\")"
   ]
  },
  {
   "cell_type": "code",
   "execution_count": 18,
   "metadata": {},
   "outputs": [
    {
     "ename": "FileNotFoundError",
     "evalue": "[Errno 2] No such file or directory: '../input/mlchem/logP_dataset.csv'",
     "output_type": "error",
     "traceback": [
      "\u001b[1;31m---------------------------------------------------------------------------\u001b[0m",
      "\u001b[1;31mFileNotFoundError\u001b[0m                         Traceback (most recent call last)",
      "\u001b[1;32mc:\\Users\\J0545269\\OneDrive - TOTAL\\ML_TEST\\ML_TEST\\second_model_explo.ipynb Cell 23'\u001b[0m in \u001b[0;36m<cell line: 1>\u001b[1;34m()\u001b[0m\n\u001b[1;32m----> <a href='vscode-notebook-cell:/c%3A/Users/J0545269/OneDrive%20-%20TOTAL/ML_TEST/ML_TEST/second_model_explo.ipynb#ch0000025?line=0'>1</a>\u001b[0m df\u001b[39m=\u001b[39m pd\u001b[39m.\u001b[39;49mread_csv(\u001b[39m'\u001b[39;49m\u001b[39m../input/mlchem/logP_dataset.csv\u001b[39;49m\u001b[39m'\u001b[39;49m, names\u001b[39m=\u001b[39;49m[\u001b[39m'\u001b[39;49m\u001b[39msmiles\u001b[39;49m\u001b[39m'\u001b[39;49m, \u001b[39m'\u001b[39;49m\u001b[39mlogP\u001b[39;49m\u001b[39m'\u001b[39;49m])\n\u001b[0;32m      <a href='vscode-notebook-cell:/c%3A/Users/J0545269/OneDrive%20-%20TOTAL/ML_TEST/ML_TEST/second_model_explo.ipynb#ch0000025?line=1'>2</a>\u001b[0m df\u001b[39m.\u001b[39mhead()\n",
      "File \u001b[1;32m~\\Miniconda3\\envs\\lbc\\lib\\site-packages\\pandas\\util\\_decorators.py:311\u001b[0m, in \u001b[0;36mdeprecate_nonkeyword_arguments.<locals>.decorate.<locals>.wrapper\u001b[1;34m(*args, **kwargs)\u001b[0m\n\u001b[0;32m    <a href='file:///c%3A/Users/J0545269/Miniconda3/envs/lbc/lib/site-packages/pandas/util/_decorators.py?line=304'>305</a>\u001b[0m \u001b[39mif\u001b[39;00m \u001b[39mlen\u001b[39m(args) \u001b[39m>\u001b[39m num_allow_args:\n\u001b[0;32m    <a href='file:///c%3A/Users/J0545269/Miniconda3/envs/lbc/lib/site-packages/pandas/util/_decorators.py?line=305'>306</a>\u001b[0m     warnings\u001b[39m.\u001b[39mwarn(\n\u001b[0;32m    <a href='file:///c%3A/Users/J0545269/Miniconda3/envs/lbc/lib/site-packages/pandas/util/_decorators.py?line=306'>307</a>\u001b[0m         msg\u001b[39m.\u001b[39mformat(arguments\u001b[39m=\u001b[39marguments),\n\u001b[0;32m    <a href='file:///c%3A/Users/J0545269/Miniconda3/envs/lbc/lib/site-packages/pandas/util/_decorators.py?line=307'>308</a>\u001b[0m         \u001b[39mFutureWarning\u001b[39;00m,\n\u001b[0;32m    <a href='file:///c%3A/Users/J0545269/Miniconda3/envs/lbc/lib/site-packages/pandas/util/_decorators.py?line=308'>309</a>\u001b[0m         stacklevel\u001b[39m=\u001b[39mstacklevel,\n\u001b[0;32m    <a href='file:///c%3A/Users/J0545269/Miniconda3/envs/lbc/lib/site-packages/pandas/util/_decorators.py?line=309'>310</a>\u001b[0m     )\n\u001b[1;32m--> <a href='file:///c%3A/Users/J0545269/Miniconda3/envs/lbc/lib/site-packages/pandas/util/_decorators.py?line=310'>311</a>\u001b[0m \u001b[39mreturn\u001b[39;00m func(\u001b[39m*\u001b[39;49margs, \u001b[39m*\u001b[39;49m\u001b[39m*\u001b[39;49mkwargs)\n",
      "File \u001b[1;32m~\\Miniconda3\\envs\\lbc\\lib\\site-packages\\pandas\\io\\parsers\\readers.py:680\u001b[0m, in \u001b[0;36mread_csv\u001b[1;34m(filepath_or_buffer, sep, delimiter, header, names, index_col, usecols, squeeze, prefix, mangle_dupe_cols, dtype, engine, converters, true_values, false_values, skipinitialspace, skiprows, skipfooter, nrows, na_values, keep_default_na, na_filter, verbose, skip_blank_lines, parse_dates, infer_datetime_format, keep_date_col, date_parser, dayfirst, cache_dates, iterator, chunksize, compression, thousands, decimal, lineterminator, quotechar, quoting, doublequote, escapechar, comment, encoding, encoding_errors, dialect, error_bad_lines, warn_bad_lines, on_bad_lines, delim_whitespace, low_memory, memory_map, float_precision, storage_options)\u001b[0m\n\u001b[0;32m    <a href='file:///c%3A/Users/J0545269/Miniconda3/envs/lbc/lib/site-packages/pandas/io/parsers/readers.py?line=664'>665</a>\u001b[0m kwds_defaults \u001b[39m=\u001b[39m _refine_defaults_read(\n\u001b[0;32m    <a href='file:///c%3A/Users/J0545269/Miniconda3/envs/lbc/lib/site-packages/pandas/io/parsers/readers.py?line=665'>666</a>\u001b[0m     dialect,\n\u001b[0;32m    <a href='file:///c%3A/Users/J0545269/Miniconda3/envs/lbc/lib/site-packages/pandas/io/parsers/readers.py?line=666'>667</a>\u001b[0m     delimiter,\n\u001b[1;32m   (...)\u001b[0m\n\u001b[0;32m    <a href='file:///c%3A/Users/J0545269/Miniconda3/envs/lbc/lib/site-packages/pandas/io/parsers/readers.py?line=675'>676</a>\u001b[0m     defaults\u001b[39m=\u001b[39m{\u001b[39m\"\u001b[39m\u001b[39mdelimiter\u001b[39m\u001b[39m\"\u001b[39m: \u001b[39m\"\u001b[39m\u001b[39m,\u001b[39m\u001b[39m\"\u001b[39m},\n\u001b[0;32m    <a href='file:///c%3A/Users/J0545269/Miniconda3/envs/lbc/lib/site-packages/pandas/io/parsers/readers.py?line=676'>677</a>\u001b[0m )\n\u001b[0;32m    <a href='file:///c%3A/Users/J0545269/Miniconda3/envs/lbc/lib/site-packages/pandas/io/parsers/readers.py?line=677'>678</a>\u001b[0m kwds\u001b[39m.\u001b[39mupdate(kwds_defaults)\n\u001b[1;32m--> <a href='file:///c%3A/Users/J0545269/Miniconda3/envs/lbc/lib/site-packages/pandas/io/parsers/readers.py?line=679'>680</a>\u001b[0m \u001b[39mreturn\u001b[39;00m _read(filepath_or_buffer, kwds)\n",
      "File \u001b[1;32m~\\Miniconda3\\envs\\lbc\\lib\\site-packages\\pandas\\io\\parsers\\readers.py:575\u001b[0m, in \u001b[0;36m_read\u001b[1;34m(filepath_or_buffer, kwds)\u001b[0m\n\u001b[0;32m    <a href='file:///c%3A/Users/J0545269/Miniconda3/envs/lbc/lib/site-packages/pandas/io/parsers/readers.py?line=571'>572</a>\u001b[0m _validate_names(kwds\u001b[39m.\u001b[39mget(\u001b[39m\"\u001b[39m\u001b[39mnames\u001b[39m\u001b[39m\"\u001b[39m, \u001b[39mNone\u001b[39;00m))\n\u001b[0;32m    <a href='file:///c%3A/Users/J0545269/Miniconda3/envs/lbc/lib/site-packages/pandas/io/parsers/readers.py?line=573'>574</a>\u001b[0m \u001b[39m# Create the parser.\u001b[39;00m\n\u001b[1;32m--> <a href='file:///c%3A/Users/J0545269/Miniconda3/envs/lbc/lib/site-packages/pandas/io/parsers/readers.py?line=574'>575</a>\u001b[0m parser \u001b[39m=\u001b[39m TextFileReader(filepath_or_buffer, \u001b[39m*\u001b[39;49m\u001b[39m*\u001b[39;49mkwds)\n\u001b[0;32m    <a href='file:///c%3A/Users/J0545269/Miniconda3/envs/lbc/lib/site-packages/pandas/io/parsers/readers.py?line=576'>577</a>\u001b[0m \u001b[39mif\u001b[39;00m chunksize \u001b[39mor\u001b[39;00m iterator:\n\u001b[0;32m    <a href='file:///c%3A/Users/J0545269/Miniconda3/envs/lbc/lib/site-packages/pandas/io/parsers/readers.py?line=577'>578</a>\u001b[0m     \u001b[39mreturn\u001b[39;00m parser\n",
      "File \u001b[1;32m~\\Miniconda3\\envs\\lbc\\lib\\site-packages\\pandas\\io\\parsers\\readers.py:933\u001b[0m, in \u001b[0;36mTextFileReader.__init__\u001b[1;34m(self, f, engine, **kwds)\u001b[0m\n\u001b[0;32m    <a href='file:///c%3A/Users/J0545269/Miniconda3/envs/lbc/lib/site-packages/pandas/io/parsers/readers.py?line=929'>930</a>\u001b[0m     \u001b[39mself\u001b[39m\u001b[39m.\u001b[39moptions[\u001b[39m\"\u001b[39m\u001b[39mhas_index_names\u001b[39m\u001b[39m\"\u001b[39m] \u001b[39m=\u001b[39m kwds[\u001b[39m\"\u001b[39m\u001b[39mhas_index_names\u001b[39m\u001b[39m\"\u001b[39m]\n\u001b[0;32m    <a href='file:///c%3A/Users/J0545269/Miniconda3/envs/lbc/lib/site-packages/pandas/io/parsers/readers.py?line=931'>932</a>\u001b[0m \u001b[39mself\u001b[39m\u001b[39m.\u001b[39mhandles: IOHandles \u001b[39m|\u001b[39m \u001b[39mNone\u001b[39;00m \u001b[39m=\u001b[39m \u001b[39mNone\u001b[39;00m\n\u001b[1;32m--> <a href='file:///c%3A/Users/J0545269/Miniconda3/envs/lbc/lib/site-packages/pandas/io/parsers/readers.py?line=932'>933</a>\u001b[0m \u001b[39mself\u001b[39m\u001b[39m.\u001b[39m_engine \u001b[39m=\u001b[39m \u001b[39mself\u001b[39;49m\u001b[39m.\u001b[39;49m_make_engine(f, \u001b[39mself\u001b[39;49m\u001b[39m.\u001b[39;49mengine)\n",
      "File \u001b[1;32m~\\Miniconda3\\envs\\lbc\\lib\\site-packages\\pandas\\io\\parsers\\readers.py:1217\u001b[0m, in \u001b[0;36mTextFileReader._make_engine\u001b[1;34m(self, f, engine)\u001b[0m\n\u001b[0;32m   <a href='file:///c%3A/Users/J0545269/Miniconda3/envs/lbc/lib/site-packages/pandas/io/parsers/readers.py?line=1212'>1213</a>\u001b[0m     mode \u001b[39m=\u001b[39m \u001b[39m\"\u001b[39m\u001b[39mrb\u001b[39m\u001b[39m\"\u001b[39m\n\u001b[0;32m   <a href='file:///c%3A/Users/J0545269/Miniconda3/envs/lbc/lib/site-packages/pandas/io/parsers/readers.py?line=1213'>1214</a>\u001b[0m \u001b[39m# error: No overload variant of \"get_handle\" matches argument types\u001b[39;00m\n\u001b[0;32m   <a href='file:///c%3A/Users/J0545269/Miniconda3/envs/lbc/lib/site-packages/pandas/io/parsers/readers.py?line=1214'>1215</a>\u001b[0m \u001b[39m# \"Union[str, PathLike[str], ReadCsvBuffer[bytes], ReadCsvBuffer[str]]\"\u001b[39;00m\n\u001b[0;32m   <a href='file:///c%3A/Users/J0545269/Miniconda3/envs/lbc/lib/site-packages/pandas/io/parsers/readers.py?line=1215'>1216</a>\u001b[0m \u001b[39m# , \"str\", \"bool\", \"Any\", \"Any\", \"Any\", \"Any\", \"Any\"\u001b[39;00m\n\u001b[1;32m-> <a href='file:///c%3A/Users/J0545269/Miniconda3/envs/lbc/lib/site-packages/pandas/io/parsers/readers.py?line=1216'>1217</a>\u001b[0m \u001b[39mself\u001b[39m\u001b[39m.\u001b[39mhandles \u001b[39m=\u001b[39m get_handle(  \u001b[39m# type: ignore[call-overload]\u001b[39;49;00m\n\u001b[0;32m   <a href='file:///c%3A/Users/J0545269/Miniconda3/envs/lbc/lib/site-packages/pandas/io/parsers/readers.py?line=1217'>1218</a>\u001b[0m     f,\n\u001b[0;32m   <a href='file:///c%3A/Users/J0545269/Miniconda3/envs/lbc/lib/site-packages/pandas/io/parsers/readers.py?line=1218'>1219</a>\u001b[0m     mode,\n\u001b[0;32m   <a href='file:///c%3A/Users/J0545269/Miniconda3/envs/lbc/lib/site-packages/pandas/io/parsers/readers.py?line=1219'>1220</a>\u001b[0m     encoding\u001b[39m=\u001b[39;49m\u001b[39mself\u001b[39;49m\u001b[39m.\u001b[39;49moptions\u001b[39m.\u001b[39;49mget(\u001b[39m\"\u001b[39;49m\u001b[39mencoding\u001b[39;49m\u001b[39m\"\u001b[39;49m, \u001b[39mNone\u001b[39;49;00m),\n\u001b[0;32m   <a href='file:///c%3A/Users/J0545269/Miniconda3/envs/lbc/lib/site-packages/pandas/io/parsers/readers.py?line=1220'>1221</a>\u001b[0m     compression\u001b[39m=\u001b[39;49m\u001b[39mself\u001b[39;49m\u001b[39m.\u001b[39;49moptions\u001b[39m.\u001b[39;49mget(\u001b[39m\"\u001b[39;49m\u001b[39mcompression\u001b[39;49m\u001b[39m\"\u001b[39;49m, \u001b[39mNone\u001b[39;49;00m),\n\u001b[0;32m   <a href='file:///c%3A/Users/J0545269/Miniconda3/envs/lbc/lib/site-packages/pandas/io/parsers/readers.py?line=1221'>1222</a>\u001b[0m     memory_map\u001b[39m=\u001b[39;49m\u001b[39mself\u001b[39;49m\u001b[39m.\u001b[39;49moptions\u001b[39m.\u001b[39;49mget(\u001b[39m\"\u001b[39;49m\u001b[39mmemory_map\u001b[39;49m\u001b[39m\"\u001b[39;49m, \u001b[39mFalse\u001b[39;49;00m),\n\u001b[0;32m   <a href='file:///c%3A/Users/J0545269/Miniconda3/envs/lbc/lib/site-packages/pandas/io/parsers/readers.py?line=1222'>1223</a>\u001b[0m     is_text\u001b[39m=\u001b[39;49mis_text,\n\u001b[0;32m   <a href='file:///c%3A/Users/J0545269/Miniconda3/envs/lbc/lib/site-packages/pandas/io/parsers/readers.py?line=1223'>1224</a>\u001b[0m     errors\u001b[39m=\u001b[39;49m\u001b[39mself\u001b[39;49m\u001b[39m.\u001b[39;49moptions\u001b[39m.\u001b[39;49mget(\u001b[39m\"\u001b[39;49m\u001b[39mencoding_errors\u001b[39;49m\u001b[39m\"\u001b[39;49m, \u001b[39m\"\u001b[39;49m\u001b[39mstrict\u001b[39;49m\u001b[39m\"\u001b[39;49m),\n\u001b[0;32m   <a href='file:///c%3A/Users/J0545269/Miniconda3/envs/lbc/lib/site-packages/pandas/io/parsers/readers.py?line=1224'>1225</a>\u001b[0m     storage_options\u001b[39m=\u001b[39;49m\u001b[39mself\u001b[39;49m\u001b[39m.\u001b[39;49moptions\u001b[39m.\u001b[39;49mget(\u001b[39m\"\u001b[39;49m\u001b[39mstorage_options\u001b[39;49m\u001b[39m\"\u001b[39;49m, \u001b[39mNone\u001b[39;49;00m),\n\u001b[0;32m   <a href='file:///c%3A/Users/J0545269/Miniconda3/envs/lbc/lib/site-packages/pandas/io/parsers/readers.py?line=1225'>1226</a>\u001b[0m )\n\u001b[0;32m   <a href='file:///c%3A/Users/J0545269/Miniconda3/envs/lbc/lib/site-packages/pandas/io/parsers/readers.py?line=1226'>1227</a>\u001b[0m \u001b[39massert\u001b[39;00m \u001b[39mself\u001b[39m\u001b[39m.\u001b[39mhandles \u001b[39mis\u001b[39;00m \u001b[39mnot\u001b[39;00m \u001b[39mNone\u001b[39;00m\n\u001b[0;32m   <a href='file:///c%3A/Users/J0545269/Miniconda3/envs/lbc/lib/site-packages/pandas/io/parsers/readers.py?line=1227'>1228</a>\u001b[0m f \u001b[39m=\u001b[39m \u001b[39mself\u001b[39m\u001b[39m.\u001b[39mhandles\u001b[39m.\u001b[39mhandle\n",
      "File \u001b[1;32m~\\Miniconda3\\envs\\lbc\\lib\\site-packages\\pandas\\io\\common.py:789\u001b[0m, in \u001b[0;36mget_handle\u001b[1;34m(path_or_buf, mode, encoding, compression, memory_map, is_text, errors, storage_options)\u001b[0m\n\u001b[0;32m    <a href='file:///c%3A/Users/J0545269/Miniconda3/envs/lbc/lib/site-packages/pandas/io/common.py?line=783'>784</a>\u001b[0m \u001b[39melif\u001b[39;00m \u001b[39misinstance\u001b[39m(handle, \u001b[39mstr\u001b[39m):\n\u001b[0;32m    <a href='file:///c%3A/Users/J0545269/Miniconda3/envs/lbc/lib/site-packages/pandas/io/common.py?line=784'>785</a>\u001b[0m     \u001b[39m# Check whether the filename is to be opened in binary mode.\u001b[39;00m\n\u001b[0;32m    <a href='file:///c%3A/Users/J0545269/Miniconda3/envs/lbc/lib/site-packages/pandas/io/common.py?line=785'>786</a>\u001b[0m     \u001b[39m# Binary mode does not support 'encoding' and 'newline'.\u001b[39;00m\n\u001b[0;32m    <a href='file:///c%3A/Users/J0545269/Miniconda3/envs/lbc/lib/site-packages/pandas/io/common.py?line=786'>787</a>\u001b[0m     \u001b[39mif\u001b[39;00m ioargs\u001b[39m.\u001b[39mencoding \u001b[39mand\u001b[39;00m \u001b[39m\"\u001b[39m\u001b[39mb\u001b[39m\u001b[39m\"\u001b[39m \u001b[39mnot\u001b[39;00m \u001b[39min\u001b[39;00m ioargs\u001b[39m.\u001b[39mmode:\n\u001b[0;32m    <a href='file:///c%3A/Users/J0545269/Miniconda3/envs/lbc/lib/site-packages/pandas/io/common.py?line=787'>788</a>\u001b[0m         \u001b[39m# Encoding\u001b[39;00m\n\u001b[1;32m--> <a href='file:///c%3A/Users/J0545269/Miniconda3/envs/lbc/lib/site-packages/pandas/io/common.py?line=788'>789</a>\u001b[0m         handle \u001b[39m=\u001b[39m \u001b[39mopen\u001b[39;49m(\n\u001b[0;32m    <a href='file:///c%3A/Users/J0545269/Miniconda3/envs/lbc/lib/site-packages/pandas/io/common.py?line=789'>790</a>\u001b[0m             handle,\n\u001b[0;32m    <a href='file:///c%3A/Users/J0545269/Miniconda3/envs/lbc/lib/site-packages/pandas/io/common.py?line=790'>791</a>\u001b[0m             ioargs\u001b[39m.\u001b[39;49mmode,\n\u001b[0;32m    <a href='file:///c%3A/Users/J0545269/Miniconda3/envs/lbc/lib/site-packages/pandas/io/common.py?line=791'>792</a>\u001b[0m             encoding\u001b[39m=\u001b[39;49mioargs\u001b[39m.\u001b[39;49mencoding,\n\u001b[0;32m    <a href='file:///c%3A/Users/J0545269/Miniconda3/envs/lbc/lib/site-packages/pandas/io/common.py?line=792'>793</a>\u001b[0m             errors\u001b[39m=\u001b[39;49merrors,\n\u001b[0;32m    <a href='file:///c%3A/Users/J0545269/Miniconda3/envs/lbc/lib/site-packages/pandas/io/common.py?line=793'>794</a>\u001b[0m             newline\u001b[39m=\u001b[39;49m\u001b[39m\"\u001b[39;49m\u001b[39m\"\u001b[39;49m,\n\u001b[0;32m    <a href='file:///c%3A/Users/J0545269/Miniconda3/envs/lbc/lib/site-packages/pandas/io/common.py?line=794'>795</a>\u001b[0m         )\n\u001b[0;32m    <a href='file:///c%3A/Users/J0545269/Miniconda3/envs/lbc/lib/site-packages/pandas/io/common.py?line=795'>796</a>\u001b[0m     \u001b[39melse\u001b[39;00m:\n\u001b[0;32m    <a href='file:///c%3A/Users/J0545269/Miniconda3/envs/lbc/lib/site-packages/pandas/io/common.py?line=796'>797</a>\u001b[0m         \u001b[39m# Binary mode\u001b[39;00m\n\u001b[0;32m    <a href='file:///c%3A/Users/J0545269/Miniconda3/envs/lbc/lib/site-packages/pandas/io/common.py?line=797'>798</a>\u001b[0m         handle \u001b[39m=\u001b[39m \u001b[39mopen\u001b[39m(handle, ioargs\u001b[39m.\u001b[39mmode)\n",
      "\u001b[1;31mFileNotFoundError\u001b[0m: [Errno 2] No such file or directory: '../input/mlchem/logP_dataset.csv'"
     ]
    }
   ],
   "source": [
    "df= pd.read_csv('../input/mlchem/logP_dataset.csv', names=['smiles', 'logP'])\n",
    "df.head()"
   ]
  },
  {
   "cell_type": "code",
   "execution_count": 4,
   "metadata": {},
   "outputs": [
    {
     "data": {
      "text/html": [
       "<div>\n",
       "<style scoped>\n",
       "    .dataframe tbody tr th:only-of-type {\n",
       "        vertical-align: middle;\n",
       "    }\n",
       "\n",
       "    .dataframe tbody tr th {\n",
       "        vertical-align: top;\n",
       "    }\n",
       "\n",
       "    .dataframe thead th {\n",
       "        text-align: right;\n",
       "    }\n",
       "</style>\n",
       "<table border=\"1\" class=\"dataframe\">\n",
       "  <thead>\n",
       "    <tr style=\"text-align: right;\">\n",
       "      <th></th>\n",
       "      <th>P1</th>\n",
       "      <th>mol_id</th>\n",
       "      <th>smiles</th>\n",
       "      <th>mol</th>\n",
       "    </tr>\n",
       "  </thead>\n",
       "  <tbody>\n",
       "    <tr>\n",
       "      <th>0</th>\n",
       "      <td>1</td>\n",
       "      <td>CID2999678</td>\n",
       "      <td>Cc1cccc(N2CCN(C(=O)C34CC5CC(CC(C5)C3)C4)CC2)c1C</td>\n",
       "      <td>&lt;img data-content=\"rdkit/molecule\" src=\"data:i...</td>\n",
       "    </tr>\n",
       "    <tr>\n",
       "      <th>1</th>\n",
       "      <td>0</td>\n",
       "      <td>CID2999679</td>\n",
       "      <td>Cn1ccnc1SCC(=O)Nc1ccc(Oc2ccccc2)cc1</td>\n",
       "      <td>&lt;img data-content=\"rdkit/molecule\" src=\"data:i...</td>\n",
       "    </tr>\n",
       "    <tr>\n",
       "      <th>2</th>\n",
       "      <td>1</td>\n",
       "      <td>CID2999672</td>\n",
       "      <td>COc1cc2c(cc1NC(=O)CN1C(=O)NC3(CCc4ccccc43)C1=O...</td>\n",
       "      <td>&lt;img data-content=\"rdkit/molecule\" src=\"data:i...</td>\n",
       "    </tr>\n",
       "    <tr>\n",
       "      <th>3</th>\n",
       "      <td>0</td>\n",
       "      <td>CID5390002</td>\n",
       "      <td>O=C1/C(=C/NC2CCS(=O)(=O)C2)c2ccccc2C(=O)N1c1cc...</td>\n",
       "      <td>&lt;img data-content=\"rdkit/molecule\" src=\"data:i...</td>\n",
       "    </tr>\n",
       "    <tr>\n",
       "      <th>4</th>\n",
       "      <td>1</td>\n",
       "      <td>CID2999670</td>\n",
       "      <td>NC(=O)NC(Cc1ccccc1)C(=O)O</td>\n",
       "      <td>&lt;img data-content=\"rdkit/molecule\" src=\"data:i...</td>\n",
       "    </tr>\n",
       "    <tr>\n",
       "      <th>...</th>\n",
       "      <td>...</td>\n",
       "      <td>...</td>\n",
       "      <td>...</td>\n",
       "      <td>...</td>\n",
       "    </tr>\n",
       "    <tr>\n",
       "      <th>4994</th>\n",
       "      <td>1</td>\n",
       "      <td>CID3239880</td>\n",
       "      <td>CC1CCC(NC(=O)CN2CCCN(Cc3ccc(F)cc3Cl)C2=O)CC1</td>\n",
       "      <td>&lt;img data-content=\"rdkit/molecule\" src=\"data:i...</td>\n",
       "    </tr>\n",
       "    <tr>\n",
       "      <th>4995</th>\n",
       "      <td>1</td>\n",
       "      <td>CID1491423</td>\n",
       "      <td>Cc1cccc(-n2cnc(C(=O)Nc3cccnc3)c2)n1</td>\n",
       "      <td>&lt;img data-content=\"rdkit/molecule\" src=\"data:i...</td>\n",
       "    </tr>\n",
       "    <tr>\n",
       "      <th>4996</th>\n",
       "      <td>1</td>\n",
       "      <td>CID3239886</td>\n",
       "      <td>COc1ccc(CCNC(=O)c2noc3c2CCCC3)cc1OC</td>\n",
       "      <td>&lt;img data-content=\"rdkit/molecule\" src=\"data:i...</td>\n",
       "    </tr>\n",
       "    <tr>\n",
       "      <th>4997</th>\n",
       "      <td>1</td>\n",
       "      <td>CID3239885</td>\n",
       "      <td>COCc1ccc2oc(C(=O)O)cc2c1</td>\n",
       "      <td>&lt;img data-content=\"rdkit/molecule\" src=\"data:i...</td>\n",
       "    </tr>\n",
       "    <tr>\n",
       "      <th>4998</th>\n",
       "      <td>1</td>\n",
       "      <td>CID2188292</td>\n",
       "      <td>Cc1ccc(/C=C2\\C(=O)NC(=O)N(Cc3ccccc3Cl)C2=O)o1</td>\n",
       "      <td>&lt;img data-content=\"rdkit/molecule\" src=\"data:i...</td>\n",
       "    </tr>\n",
       "  </tbody>\n",
       "</table>\n",
       "<p>4999 rows × 4 columns</p>\n",
       "</div>"
      ],
      "text/plain": [
       "      P1      mol_id                                             smiles  \\\n",
       "0      1  CID2999678    Cc1cccc(N2CCN(C(=O)C34CC5CC(CC(C5)C3)C4)CC2)c1C   \n",
       "1      0  CID2999679                Cn1ccnc1SCC(=O)Nc1ccc(Oc2ccccc2)cc1   \n",
       "2      1  CID2999672  COc1cc2c(cc1NC(=O)CN1C(=O)NC3(CCc4ccccc43)C1=O...   \n",
       "3      0  CID5390002  O=C1/C(=C/NC2CCS(=O)(=O)C2)c2ccccc2C(=O)N1c1cc...   \n",
       "4      1  CID2999670                          NC(=O)NC(Cc1ccccc1)C(=O)O   \n",
       "...   ..         ...                                                ...   \n",
       "4994   1  CID3239880       CC1CCC(NC(=O)CN2CCCN(Cc3ccc(F)cc3Cl)C2=O)CC1   \n",
       "4995   1  CID1491423                Cc1cccc(-n2cnc(C(=O)Nc3cccnc3)c2)n1   \n",
       "4996   1  CID3239886                COc1ccc(CCNC(=O)c2noc3c2CCCC3)cc1OC   \n",
       "4997   1  CID3239885                           COCc1ccc2oc(C(=O)O)cc2c1   \n",
       "4998   1  CID2188292      Cc1ccc(/C=C2\\C(=O)NC(=O)N(Cc3ccccc3Cl)C2=O)o1   \n",
       "\n",
       "                                                    mol  \n",
       "0     <img data-content=\"rdkit/molecule\" src=\"data:i...  \n",
       "1     <img data-content=\"rdkit/molecule\" src=\"data:i...  \n",
       "2     <img data-content=\"rdkit/molecule\" src=\"data:i...  \n",
       "3     <img data-content=\"rdkit/molecule\" src=\"data:i...  \n",
       "4     <img data-content=\"rdkit/molecule\" src=\"data:i...  \n",
       "...                                                 ...  \n",
       "4994  <img data-content=\"rdkit/molecule\" src=\"data:i...  \n",
       "4995  <img data-content=\"rdkit/molecule\" src=\"data:i...  \n",
       "4996  <img data-content=\"rdkit/molecule\" src=\"data:i...  \n",
       "4997  <img data-content=\"rdkit/molecule\" src=\"data:i...  \n",
       "4998  <img data-content=\"rdkit/molecule\" src=\"data:i...  \n",
       "\n",
       "[4999 rows x 4 columns]"
      ]
     },
     "execution_count": 4,
     "metadata": {},
     "output_type": "execute_result"
    }
   ],
   "source": [
    "df"
   ]
  },
  {
   "cell_type": "code",
   "execution_count": null,
   "metadata": {},
   "outputs": [],
   "source": [
    "from mlchem import mo"
   ]
  },
  {
   "cell_type": "code",
   "execution_count": 21,
   "metadata": {},
   "outputs": [
    {
     "ename": "FileNotFoundError",
     "evalue": "[Errno 2] No such file or directory: '/mlchem/model_300dim.pkl'",
     "output_type": "error",
     "traceback": [
      "\u001b[1;31m---------------------------------------------------------------------------\u001b[0m",
      "\u001b[1;31mFileNotFoundError\u001b[0m                         Traceback (most recent call last)",
      "\u001b[1;32mc:\\Users\\J0545269\\OneDrive - TOTAL\\ML_TEST\\ML_TEST\\second_model_explo.ipynb Cell 25'\u001b[0m in \u001b[0;36m<cell line: 1>\u001b[1;34m()\u001b[0m\n\u001b[1;32m----> <a href='vscode-notebook-cell:/c%3A/Users/J0545269/OneDrive%20-%20TOTAL/ML_TEST/ML_TEST/second_model_explo.ipynb#ch0000026?line=0'>1</a>\u001b[0m w2v_model \u001b[39m=\u001b[39m word2vec\u001b[39m.\u001b[39;49mWord2Vec\u001b[39m.\u001b[39;49mload(\u001b[39m'\u001b[39;49m\u001b[39m/mlchem/model_300dim.pkl\u001b[39;49m\u001b[39m'\u001b[39;49m)\n",
      "File \u001b[1;32m~\\Miniconda3\\envs\\lbc\\lib\\site-packages\\gensim\\models\\word2vec.py:1930\u001b[0m, in \u001b[0;36mWord2Vec.load\u001b[1;34m(cls, rethrow, *args, **kwargs)\u001b[0m\n\u001b[0;32m   <a href='file:///c%3A/Users/J0545269/Miniconda3/envs/lbc/lib/site-packages/gensim/models/word2vec.py?line=1910'>1911</a>\u001b[0m \u001b[39m\"\"\"Load a previously saved :class:`~gensim.models.word2vec.Word2Vec` model.\u001b[39;00m\n\u001b[0;32m   <a href='file:///c%3A/Users/J0545269/Miniconda3/envs/lbc/lib/site-packages/gensim/models/word2vec.py?line=1911'>1912</a>\u001b[0m \n\u001b[0;32m   <a href='file:///c%3A/Users/J0545269/Miniconda3/envs/lbc/lib/site-packages/gensim/models/word2vec.py?line=1912'>1913</a>\u001b[0m \u001b[39mSee Also\u001b[39;00m\n\u001b[1;32m   (...)\u001b[0m\n\u001b[0;32m   <a href='file:///c%3A/Users/J0545269/Miniconda3/envs/lbc/lib/site-packages/gensim/models/word2vec.py?line=1926'>1927</a>\u001b[0m \n\u001b[0;32m   <a href='file:///c%3A/Users/J0545269/Miniconda3/envs/lbc/lib/site-packages/gensim/models/word2vec.py?line=1927'>1928</a>\u001b[0m \u001b[39m\"\"\"\u001b[39;00m\n\u001b[0;32m   <a href='file:///c%3A/Users/J0545269/Miniconda3/envs/lbc/lib/site-packages/gensim/models/word2vec.py?line=1928'>1929</a>\u001b[0m \u001b[39mtry\u001b[39;00m:\n\u001b[1;32m-> <a href='file:///c%3A/Users/J0545269/Miniconda3/envs/lbc/lib/site-packages/gensim/models/word2vec.py?line=1929'>1930</a>\u001b[0m     model \u001b[39m=\u001b[39m \u001b[39msuper\u001b[39;49m(Word2Vec, \u001b[39mcls\u001b[39;49m)\u001b[39m.\u001b[39;49mload(\u001b[39m*\u001b[39;49margs, \u001b[39m*\u001b[39;49m\u001b[39m*\u001b[39;49mkwargs)\n\u001b[0;32m   <a href='file:///c%3A/Users/J0545269/Miniconda3/envs/lbc/lib/site-packages/gensim/models/word2vec.py?line=1930'>1931</a>\u001b[0m     \u001b[39mif\u001b[39;00m \u001b[39mnot\u001b[39;00m \u001b[39misinstance\u001b[39m(model, Word2Vec):\n\u001b[0;32m   <a href='file:///c%3A/Users/J0545269/Miniconda3/envs/lbc/lib/site-packages/gensim/models/word2vec.py?line=1931'>1932</a>\u001b[0m         rethrow \u001b[39m=\u001b[39m \u001b[39mTrue\u001b[39;00m\n",
      "File \u001b[1;32m~\\Miniconda3\\envs\\lbc\\lib\\site-packages\\gensim\\utils.py:485\u001b[0m, in \u001b[0;36mSaveLoad.load\u001b[1;34m(cls, fname, mmap)\u001b[0m\n\u001b[0;32m    <a href='file:///c%3A/Users/J0545269/Miniconda3/envs/lbc/lib/site-packages/gensim/utils.py?line=480'>481</a>\u001b[0m logger\u001b[39m.\u001b[39minfo(\u001b[39m\"\u001b[39m\u001b[39mloading \u001b[39m\u001b[39m%s\u001b[39;00m\u001b[39m object from \u001b[39m\u001b[39m%s\u001b[39;00m\u001b[39m\"\u001b[39m, \u001b[39mcls\u001b[39m\u001b[39m.\u001b[39m\u001b[39m__name__\u001b[39m, fname)\n\u001b[0;32m    <a href='file:///c%3A/Users/J0545269/Miniconda3/envs/lbc/lib/site-packages/gensim/utils.py?line=482'>483</a>\u001b[0m compress, subname \u001b[39m=\u001b[39m SaveLoad\u001b[39m.\u001b[39m_adapt_by_suffix(fname)\n\u001b[1;32m--> <a href='file:///c%3A/Users/J0545269/Miniconda3/envs/lbc/lib/site-packages/gensim/utils.py?line=484'>485</a>\u001b[0m obj \u001b[39m=\u001b[39m unpickle(fname)\n\u001b[0;32m    <a href='file:///c%3A/Users/J0545269/Miniconda3/envs/lbc/lib/site-packages/gensim/utils.py?line=485'>486</a>\u001b[0m obj\u001b[39m.\u001b[39m_load_specials(fname, mmap, compress, subname)\n\u001b[0;32m    <a href='file:///c%3A/Users/J0545269/Miniconda3/envs/lbc/lib/site-packages/gensim/utils.py?line=486'>487</a>\u001b[0m obj\u001b[39m.\u001b[39madd_lifecycle_event(\u001b[39m\"\u001b[39m\u001b[39mloaded\u001b[39m\u001b[39m\"\u001b[39m, fname\u001b[39m=\u001b[39mfname)\n",
      "File \u001b[1;32m~\\Miniconda3\\envs\\lbc\\lib\\site-packages\\gensim\\utils.py:1459\u001b[0m, in \u001b[0;36munpickle\u001b[1;34m(fname)\u001b[0m\n\u001b[0;32m   <a href='file:///c%3A/Users/J0545269/Miniconda3/envs/lbc/lib/site-packages/gensim/utils.py?line=1444'>1445</a>\u001b[0m \u001b[39mdef\u001b[39;00m \u001b[39munpickle\u001b[39m(fname):\n\u001b[0;32m   <a href='file:///c%3A/Users/J0545269/Miniconda3/envs/lbc/lib/site-packages/gensim/utils.py?line=1445'>1446</a>\u001b[0m     \u001b[39m\"\"\"Load object from `fname`, using smart_open so that `fname` can be on S3, HDFS, compressed etc.\u001b[39;00m\n\u001b[0;32m   <a href='file:///c%3A/Users/J0545269/Miniconda3/envs/lbc/lib/site-packages/gensim/utils.py?line=1446'>1447</a>\u001b[0m \n\u001b[0;32m   <a href='file:///c%3A/Users/J0545269/Miniconda3/envs/lbc/lib/site-packages/gensim/utils.py?line=1447'>1448</a>\u001b[0m \u001b[39m    Parameters\u001b[39;00m\n\u001b[1;32m   (...)\u001b[0m\n\u001b[0;32m   <a href='file:///c%3A/Users/J0545269/Miniconda3/envs/lbc/lib/site-packages/gensim/utils.py?line=1456'>1457</a>\u001b[0m \n\u001b[0;32m   <a href='file:///c%3A/Users/J0545269/Miniconda3/envs/lbc/lib/site-packages/gensim/utils.py?line=1457'>1458</a>\u001b[0m \u001b[39m    \"\"\"\u001b[39;00m\n\u001b[1;32m-> <a href='file:///c%3A/Users/J0545269/Miniconda3/envs/lbc/lib/site-packages/gensim/utils.py?line=1458'>1459</a>\u001b[0m     \u001b[39mwith\u001b[39;00m \u001b[39mopen\u001b[39;49m(fname, \u001b[39m'\u001b[39;49m\u001b[39mrb\u001b[39;49m\u001b[39m'\u001b[39;49m) \u001b[39mas\u001b[39;00m f:\n\u001b[0;32m   <a href='file:///c%3A/Users/J0545269/Miniconda3/envs/lbc/lib/site-packages/gensim/utils.py?line=1459'>1460</a>\u001b[0m         \u001b[39mreturn\u001b[39;00m _pickle\u001b[39m.\u001b[39mload(f, encoding\u001b[39m=\u001b[39m\u001b[39m'\u001b[39m\u001b[39mlatin1\u001b[39m\u001b[39m'\u001b[39m)\n",
      "File \u001b[1;32m~\\Miniconda3\\envs\\lbc\\lib\\site-packages\\smart_open\\smart_open_lib.py:177\u001b[0m, in \u001b[0;36mopen\u001b[1;34m(uri, mode, buffering, encoding, errors, newline, closefd, opener, compression, transport_params)\u001b[0m\n\u001b[0;32m    <a href='file:///c%3A/Users/J0545269/Miniconda3/envs/lbc/lib/site-packages/smart_open/smart_open_lib.py?line=173'>174</a>\u001b[0m \u001b[39mif\u001b[39;00m transport_params \u001b[39mis\u001b[39;00m \u001b[39mNone\u001b[39;00m:\n\u001b[0;32m    <a href='file:///c%3A/Users/J0545269/Miniconda3/envs/lbc/lib/site-packages/smart_open/smart_open_lib.py?line=174'>175</a>\u001b[0m     transport_params \u001b[39m=\u001b[39m {}\n\u001b[1;32m--> <a href='file:///c%3A/Users/J0545269/Miniconda3/envs/lbc/lib/site-packages/smart_open/smart_open_lib.py?line=176'>177</a>\u001b[0m fobj \u001b[39m=\u001b[39m _shortcut_open(\n\u001b[0;32m    <a href='file:///c%3A/Users/J0545269/Miniconda3/envs/lbc/lib/site-packages/smart_open/smart_open_lib.py?line=177'>178</a>\u001b[0m     uri,\n\u001b[0;32m    <a href='file:///c%3A/Users/J0545269/Miniconda3/envs/lbc/lib/site-packages/smart_open/smart_open_lib.py?line=178'>179</a>\u001b[0m     mode,\n\u001b[0;32m    <a href='file:///c%3A/Users/J0545269/Miniconda3/envs/lbc/lib/site-packages/smart_open/smart_open_lib.py?line=179'>180</a>\u001b[0m     compression\u001b[39m=\u001b[39;49mcompression,\n\u001b[0;32m    <a href='file:///c%3A/Users/J0545269/Miniconda3/envs/lbc/lib/site-packages/smart_open/smart_open_lib.py?line=180'>181</a>\u001b[0m     buffering\u001b[39m=\u001b[39;49mbuffering,\n\u001b[0;32m    <a href='file:///c%3A/Users/J0545269/Miniconda3/envs/lbc/lib/site-packages/smart_open/smart_open_lib.py?line=181'>182</a>\u001b[0m     encoding\u001b[39m=\u001b[39;49mencoding,\n\u001b[0;32m    <a href='file:///c%3A/Users/J0545269/Miniconda3/envs/lbc/lib/site-packages/smart_open/smart_open_lib.py?line=182'>183</a>\u001b[0m     errors\u001b[39m=\u001b[39;49merrors,\n\u001b[0;32m    <a href='file:///c%3A/Users/J0545269/Miniconda3/envs/lbc/lib/site-packages/smart_open/smart_open_lib.py?line=183'>184</a>\u001b[0m     newline\u001b[39m=\u001b[39;49mnewline,\n\u001b[0;32m    <a href='file:///c%3A/Users/J0545269/Miniconda3/envs/lbc/lib/site-packages/smart_open/smart_open_lib.py?line=184'>185</a>\u001b[0m )\n\u001b[0;32m    <a href='file:///c%3A/Users/J0545269/Miniconda3/envs/lbc/lib/site-packages/smart_open/smart_open_lib.py?line=185'>186</a>\u001b[0m \u001b[39mif\u001b[39;00m fobj \u001b[39mis\u001b[39;00m \u001b[39mnot\u001b[39;00m \u001b[39mNone\u001b[39;00m:\n\u001b[0;32m    <a href='file:///c%3A/Users/J0545269/Miniconda3/envs/lbc/lib/site-packages/smart_open/smart_open_lib.py?line=186'>187</a>\u001b[0m     \u001b[39mreturn\u001b[39;00m fobj\n",
      "File \u001b[1;32m~\\Miniconda3\\envs\\lbc\\lib\\site-packages\\smart_open\\smart_open_lib.py:363\u001b[0m, in \u001b[0;36m_shortcut_open\u001b[1;34m(uri, mode, compression, buffering, encoding, errors, newline)\u001b[0m\n\u001b[0;32m    <a href='file:///c%3A/Users/J0545269/Miniconda3/envs/lbc/lib/site-packages/smart_open/smart_open_lib.py?line=359'>360</a>\u001b[0m \u001b[39mif\u001b[39;00m errors \u001b[39mand\u001b[39;00m \u001b[39m'\u001b[39m\u001b[39mb\u001b[39m\u001b[39m'\u001b[39m \u001b[39mnot\u001b[39;00m \u001b[39min\u001b[39;00m mode:\n\u001b[0;32m    <a href='file:///c%3A/Users/J0545269/Miniconda3/envs/lbc/lib/site-packages/smart_open/smart_open_lib.py?line=360'>361</a>\u001b[0m     open_kwargs[\u001b[39m'\u001b[39m\u001b[39merrors\u001b[39m\u001b[39m'\u001b[39m] \u001b[39m=\u001b[39m errors\n\u001b[1;32m--> <a href='file:///c%3A/Users/J0545269/Miniconda3/envs/lbc/lib/site-packages/smart_open/smart_open_lib.py?line=362'>363</a>\u001b[0m \u001b[39mreturn\u001b[39;00m _builtin_open(local_path, mode, buffering\u001b[39m=\u001b[39;49mbuffering, \u001b[39m*\u001b[39;49m\u001b[39m*\u001b[39;49mopen_kwargs)\n",
      "\u001b[1;31mFileNotFoundError\u001b[0m: [Errno 2] No such file or directory: '/mlchem/model_300dim.pkl'"
     ]
    }
   ],
   "source": [
    "w2v_model = word2vec.Word2Vec.load('/mlchem/model_300dim.pkl')"
   ]
  },
  {
   "cell_type": "code",
   "execution_count": 8,
   "metadata": {},
   "outputs": [
    {
     "name": "stdout",
     "output_type": "stream",
     "text": [
      ">>> create sentence from mol ... \n",
      ">>> load the word2vec model ... \n"
     ]
    },
    {
     "ename": "FileNotFoundError",
     "evalue": "[Errno 2] No such file or directory: 'model_300dim.pkl'",
     "output_type": "error",
     "traceback": [
      "\u001b[1;31m---------------------------------------------------------------------------\u001b[0m",
      "\u001b[1;31mFileNotFoundError\u001b[0m                         Traceback (most recent call last)",
      "\u001b[1;32mc:\\Users\\J0545269\\OneDrive - TOTAL\\ML_TEST\\ML_TEST\\second_model_explo.ipynb Cell 22'\u001b[0m in \u001b[0;36m<cell line: 5>\u001b[1;34m()\u001b[0m\n\u001b[0;32m      <a href='vscode-notebook-cell:/c%3A/Users/J0545269/OneDrive%20-%20TOTAL/ML_TEST/ML_TEST/second_model_explo.ipynb#ch0000019?line=1'>2</a>\u001b[0m \u001b[39m# df['sentence'] = df.apply(lambda x: MolSentence(mol2alt_sentence(x['mol'], radius=1)), axis=1)\u001b[39;00m\n\u001b[0;32m      <a href='vscode-notebook-cell:/c%3A/Users/J0545269/OneDrive%20-%20TOTAL/ML_TEST/ML_TEST/second_model_explo.ipynb#ch0000019?line=3'>4</a>\u001b[0m \u001b[39mprint\u001b[39m(\u001b[39m\"\u001b[39m\u001b[39m>>> load the word2vec model ... \u001b[39m\u001b[39m\"\u001b[39m)\n\u001b[1;32m----> <a href='vscode-notebook-cell:/c%3A/Users/J0545269/OneDrive%20-%20TOTAL/ML_TEST/ML_TEST/second_model_explo.ipynb#ch0000019?line=4'>5</a>\u001b[0m w2v_model \u001b[39m=\u001b[39m word2vec\u001b[39m.\u001b[39;49mWord2Vec\u001b[39m.\u001b[39;49mload(\u001b[39m'\u001b[39;49m\u001b[39mmodel_300dim.pkl\u001b[39;49m\u001b[39m'\u001b[39;49m)\n\u001b[0;32m      <a href='vscode-notebook-cell:/c%3A/Users/J0545269/OneDrive%20-%20TOTAL/ML_TEST/ML_TEST/second_model_explo.ipynb#ch0000019?line=6'>7</a>\u001b[0m \u001b[39mprint\u001b[39m(\u001b[39m\"\u001b[39m\u001b[39m>>> create embedding from sentence ... \u001b[39m\u001b[39m\"\u001b[39m)\n\u001b[0;32m      <a href='vscode-notebook-cell:/c%3A/Users/J0545269/OneDrive%20-%20TOTAL/ML_TEST/ML_TEST/second_model_explo.ipynb#ch0000019?line=7'>8</a>\u001b[0m hiv[\u001b[39m'\u001b[39m\u001b[39membedding\u001b[39m\u001b[39m'\u001b[39m] \u001b[39m=\u001b[39m [DfVec(x) \u001b[39mfor\u001b[39;00m x \u001b[39min\u001b[39;00m sentences2vec(hiv[\u001b[39m'\u001b[39m\u001b[39msentence\u001b[39m\u001b[39m'\u001b[39m], w2v_model)]\n",
      "File \u001b[1;32m~\\Miniconda3\\envs\\lbc\\lib\\site-packages\\gensim\\models\\word2vec.py:1930\u001b[0m, in \u001b[0;36mWord2Vec.load\u001b[1;34m(cls, rethrow, *args, **kwargs)\u001b[0m\n\u001b[0;32m   <a href='file:///c%3A/Users/J0545269/Miniconda3/envs/lbc/lib/site-packages/gensim/models/word2vec.py?line=1910'>1911</a>\u001b[0m \u001b[39m\"\"\"Load a previously saved :class:`~gensim.models.word2vec.Word2Vec` model.\u001b[39;00m\n\u001b[0;32m   <a href='file:///c%3A/Users/J0545269/Miniconda3/envs/lbc/lib/site-packages/gensim/models/word2vec.py?line=1911'>1912</a>\u001b[0m \n\u001b[0;32m   <a href='file:///c%3A/Users/J0545269/Miniconda3/envs/lbc/lib/site-packages/gensim/models/word2vec.py?line=1912'>1913</a>\u001b[0m \u001b[39mSee Also\u001b[39;00m\n\u001b[1;32m   (...)\u001b[0m\n\u001b[0;32m   <a href='file:///c%3A/Users/J0545269/Miniconda3/envs/lbc/lib/site-packages/gensim/models/word2vec.py?line=1926'>1927</a>\u001b[0m \n\u001b[0;32m   <a href='file:///c%3A/Users/J0545269/Miniconda3/envs/lbc/lib/site-packages/gensim/models/word2vec.py?line=1927'>1928</a>\u001b[0m \u001b[39m\"\"\"\u001b[39;00m\n\u001b[0;32m   <a href='file:///c%3A/Users/J0545269/Miniconda3/envs/lbc/lib/site-packages/gensim/models/word2vec.py?line=1928'>1929</a>\u001b[0m \u001b[39mtry\u001b[39;00m:\n\u001b[1;32m-> <a href='file:///c%3A/Users/J0545269/Miniconda3/envs/lbc/lib/site-packages/gensim/models/word2vec.py?line=1929'>1930</a>\u001b[0m     model \u001b[39m=\u001b[39m \u001b[39msuper\u001b[39;49m(Word2Vec, \u001b[39mcls\u001b[39;49m)\u001b[39m.\u001b[39;49mload(\u001b[39m*\u001b[39;49margs, \u001b[39m*\u001b[39;49m\u001b[39m*\u001b[39;49mkwargs)\n\u001b[0;32m   <a href='file:///c%3A/Users/J0545269/Miniconda3/envs/lbc/lib/site-packages/gensim/models/word2vec.py?line=1930'>1931</a>\u001b[0m     \u001b[39mif\u001b[39;00m \u001b[39mnot\u001b[39;00m \u001b[39misinstance\u001b[39m(model, Word2Vec):\n\u001b[0;32m   <a href='file:///c%3A/Users/J0545269/Miniconda3/envs/lbc/lib/site-packages/gensim/models/word2vec.py?line=1931'>1932</a>\u001b[0m         rethrow \u001b[39m=\u001b[39m \u001b[39mTrue\u001b[39;00m\n",
      "File \u001b[1;32m~\\Miniconda3\\envs\\lbc\\lib\\site-packages\\gensim\\utils.py:485\u001b[0m, in \u001b[0;36mSaveLoad.load\u001b[1;34m(cls, fname, mmap)\u001b[0m\n\u001b[0;32m    <a href='file:///c%3A/Users/J0545269/Miniconda3/envs/lbc/lib/site-packages/gensim/utils.py?line=480'>481</a>\u001b[0m logger\u001b[39m.\u001b[39minfo(\u001b[39m\"\u001b[39m\u001b[39mloading \u001b[39m\u001b[39m%s\u001b[39;00m\u001b[39m object from \u001b[39m\u001b[39m%s\u001b[39;00m\u001b[39m\"\u001b[39m, \u001b[39mcls\u001b[39m\u001b[39m.\u001b[39m\u001b[39m__name__\u001b[39m, fname)\n\u001b[0;32m    <a href='file:///c%3A/Users/J0545269/Miniconda3/envs/lbc/lib/site-packages/gensim/utils.py?line=482'>483</a>\u001b[0m compress, subname \u001b[39m=\u001b[39m SaveLoad\u001b[39m.\u001b[39m_adapt_by_suffix(fname)\n\u001b[1;32m--> <a href='file:///c%3A/Users/J0545269/Miniconda3/envs/lbc/lib/site-packages/gensim/utils.py?line=484'>485</a>\u001b[0m obj \u001b[39m=\u001b[39m unpickle(fname)\n\u001b[0;32m    <a href='file:///c%3A/Users/J0545269/Miniconda3/envs/lbc/lib/site-packages/gensim/utils.py?line=485'>486</a>\u001b[0m obj\u001b[39m.\u001b[39m_load_specials(fname, mmap, compress, subname)\n\u001b[0;32m    <a href='file:///c%3A/Users/J0545269/Miniconda3/envs/lbc/lib/site-packages/gensim/utils.py?line=486'>487</a>\u001b[0m obj\u001b[39m.\u001b[39madd_lifecycle_event(\u001b[39m\"\u001b[39m\u001b[39mloaded\u001b[39m\u001b[39m\"\u001b[39m, fname\u001b[39m=\u001b[39mfname)\n",
      "File \u001b[1;32m~\\Miniconda3\\envs\\lbc\\lib\\site-packages\\gensim\\utils.py:1459\u001b[0m, in \u001b[0;36munpickle\u001b[1;34m(fname)\u001b[0m\n\u001b[0;32m   <a href='file:///c%3A/Users/J0545269/Miniconda3/envs/lbc/lib/site-packages/gensim/utils.py?line=1444'>1445</a>\u001b[0m \u001b[39mdef\u001b[39;00m \u001b[39munpickle\u001b[39m(fname):\n\u001b[0;32m   <a href='file:///c%3A/Users/J0545269/Miniconda3/envs/lbc/lib/site-packages/gensim/utils.py?line=1445'>1446</a>\u001b[0m     \u001b[39m\"\"\"Load object from `fname`, using smart_open so that `fname` can be on S3, HDFS, compressed etc.\u001b[39;00m\n\u001b[0;32m   <a href='file:///c%3A/Users/J0545269/Miniconda3/envs/lbc/lib/site-packages/gensim/utils.py?line=1446'>1447</a>\u001b[0m \n\u001b[0;32m   <a href='file:///c%3A/Users/J0545269/Miniconda3/envs/lbc/lib/site-packages/gensim/utils.py?line=1447'>1448</a>\u001b[0m \u001b[39m    Parameters\u001b[39;00m\n\u001b[1;32m   (...)\u001b[0m\n\u001b[0;32m   <a href='file:///c%3A/Users/J0545269/Miniconda3/envs/lbc/lib/site-packages/gensim/utils.py?line=1456'>1457</a>\u001b[0m \n\u001b[0;32m   <a href='file:///c%3A/Users/J0545269/Miniconda3/envs/lbc/lib/site-packages/gensim/utils.py?line=1457'>1458</a>\u001b[0m \u001b[39m    \"\"\"\u001b[39;00m\n\u001b[1;32m-> <a href='file:///c%3A/Users/J0545269/Miniconda3/envs/lbc/lib/site-packages/gensim/utils.py?line=1458'>1459</a>\u001b[0m     \u001b[39mwith\u001b[39;00m \u001b[39mopen\u001b[39;49m(fname, \u001b[39m'\u001b[39;49m\u001b[39mrb\u001b[39;49m\u001b[39m'\u001b[39;49m) \u001b[39mas\u001b[39;00m f:\n\u001b[0;32m   <a href='file:///c%3A/Users/J0545269/Miniconda3/envs/lbc/lib/site-packages/gensim/utils.py?line=1459'>1460</a>\u001b[0m         \u001b[39mreturn\u001b[39;00m _pickle\u001b[39m.\u001b[39mload(f, encoding\u001b[39m=\u001b[39m\u001b[39m'\u001b[39m\u001b[39mlatin1\u001b[39m\u001b[39m'\u001b[39m)\n",
      "File \u001b[1;32m~\\Miniconda3\\envs\\lbc\\lib\\site-packages\\smart_open\\smart_open_lib.py:177\u001b[0m, in \u001b[0;36mopen\u001b[1;34m(uri, mode, buffering, encoding, errors, newline, closefd, opener, compression, transport_params)\u001b[0m\n\u001b[0;32m    <a href='file:///c%3A/Users/J0545269/Miniconda3/envs/lbc/lib/site-packages/smart_open/smart_open_lib.py?line=173'>174</a>\u001b[0m \u001b[39mif\u001b[39;00m transport_params \u001b[39mis\u001b[39;00m \u001b[39mNone\u001b[39;00m:\n\u001b[0;32m    <a href='file:///c%3A/Users/J0545269/Miniconda3/envs/lbc/lib/site-packages/smart_open/smart_open_lib.py?line=174'>175</a>\u001b[0m     transport_params \u001b[39m=\u001b[39m {}\n\u001b[1;32m--> <a href='file:///c%3A/Users/J0545269/Miniconda3/envs/lbc/lib/site-packages/smart_open/smart_open_lib.py?line=176'>177</a>\u001b[0m fobj \u001b[39m=\u001b[39m _shortcut_open(\n\u001b[0;32m    <a href='file:///c%3A/Users/J0545269/Miniconda3/envs/lbc/lib/site-packages/smart_open/smart_open_lib.py?line=177'>178</a>\u001b[0m     uri,\n\u001b[0;32m    <a href='file:///c%3A/Users/J0545269/Miniconda3/envs/lbc/lib/site-packages/smart_open/smart_open_lib.py?line=178'>179</a>\u001b[0m     mode,\n\u001b[0;32m    <a href='file:///c%3A/Users/J0545269/Miniconda3/envs/lbc/lib/site-packages/smart_open/smart_open_lib.py?line=179'>180</a>\u001b[0m     compression\u001b[39m=\u001b[39;49mcompression,\n\u001b[0;32m    <a href='file:///c%3A/Users/J0545269/Miniconda3/envs/lbc/lib/site-packages/smart_open/smart_open_lib.py?line=180'>181</a>\u001b[0m     buffering\u001b[39m=\u001b[39;49mbuffering,\n\u001b[0;32m    <a href='file:///c%3A/Users/J0545269/Miniconda3/envs/lbc/lib/site-packages/smart_open/smart_open_lib.py?line=181'>182</a>\u001b[0m     encoding\u001b[39m=\u001b[39;49mencoding,\n\u001b[0;32m    <a href='file:///c%3A/Users/J0545269/Miniconda3/envs/lbc/lib/site-packages/smart_open/smart_open_lib.py?line=182'>183</a>\u001b[0m     errors\u001b[39m=\u001b[39;49merrors,\n\u001b[0;32m    <a href='file:///c%3A/Users/J0545269/Miniconda3/envs/lbc/lib/site-packages/smart_open/smart_open_lib.py?line=183'>184</a>\u001b[0m     newline\u001b[39m=\u001b[39;49mnewline,\n\u001b[0;32m    <a href='file:///c%3A/Users/J0545269/Miniconda3/envs/lbc/lib/site-packages/smart_open/smart_open_lib.py?line=184'>185</a>\u001b[0m )\n\u001b[0;32m    <a href='file:///c%3A/Users/J0545269/Miniconda3/envs/lbc/lib/site-packages/smart_open/smart_open_lib.py?line=185'>186</a>\u001b[0m \u001b[39mif\u001b[39;00m fobj \u001b[39mis\u001b[39;00m \u001b[39mnot\u001b[39;00m \u001b[39mNone\u001b[39;00m:\n\u001b[0;32m    <a href='file:///c%3A/Users/J0545269/Miniconda3/envs/lbc/lib/site-packages/smart_open/smart_open_lib.py?line=186'>187</a>\u001b[0m     \u001b[39mreturn\u001b[39;00m fobj\n",
      "File \u001b[1;32m~\\Miniconda3\\envs\\lbc\\lib\\site-packages\\smart_open\\smart_open_lib.py:363\u001b[0m, in \u001b[0;36m_shortcut_open\u001b[1;34m(uri, mode, compression, buffering, encoding, errors, newline)\u001b[0m\n\u001b[0;32m    <a href='file:///c%3A/Users/J0545269/Miniconda3/envs/lbc/lib/site-packages/smart_open/smart_open_lib.py?line=359'>360</a>\u001b[0m \u001b[39mif\u001b[39;00m errors \u001b[39mand\u001b[39;00m \u001b[39m'\u001b[39m\u001b[39mb\u001b[39m\u001b[39m'\u001b[39m \u001b[39mnot\u001b[39;00m \u001b[39min\u001b[39;00m mode:\n\u001b[0;32m    <a href='file:///c%3A/Users/J0545269/Miniconda3/envs/lbc/lib/site-packages/smart_open/smart_open_lib.py?line=360'>361</a>\u001b[0m     open_kwargs[\u001b[39m'\u001b[39m\u001b[39merrors\u001b[39m\u001b[39m'\u001b[39m] \u001b[39m=\u001b[39m errors\n\u001b[1;32m--> <a href='file:///c%3A/Users/J0545269/Miniconda3/envs/lbc/lib/site-packages/smart_open/smart_open_lib.py?line=362'>363</a>\u001b[0m \u001b[39mreturn\u001b[39;00m _builtin_open(local_path, mode, buffering\u001b[39m=\u001b[39;49mbuffering, \u001b[39m*\u001b[39;49m\u001b[39m*\u001b[39;49mopen_kwargs)\n",
      "\u001b[1;31mFileNotFoundError\u001b[0m: [Errno 2] No such file or directory: 'model_300dim.pkl'"
     ]
    }
   ],
   "source": [
    "print(\">>> create sentence from mol ... \")\n",
    "# df['sentence'] = df.apply(lambda x: MolSentence(mol2alt_sentence(x['mol'], radius=1)), axis=1)\n",
    "\n",
    "print(\">>> load the word2vec model ... \")\n",
    "w2v_model = word2vec.Word2Vec.load('model_300dim.pkl')\n",
    "\n",
    "print(\">>> create embedding from sentence ... \")\n",
    "hiv['embedding'] = [DfVec(x) for x in sentences2vec(hiv['sentence'], w2v_model)]\n",
    "\n",
    "print(\">>> data columns = \", hiv.columns, \"\\n\")\n",
    "\n",
    "hiv_mol2vec = np.array([x.vec for x in hiv['embedding']])\n",
    "hiv_mol2vec = pd.DataFrame(hiv_mol2vec)\n",
    "print(\">>> hiv_mol2vec shape = \", hiv_mol2vec.shape)\n",
    "print(hiv_mol2vec)\n",
    "print()"
   ]
  },
  {
   "cell_type": "code",
   "execution_count": 22,
   "metadata": {},
   "outputs": [
    {
     "name": "stdout",
     "output_type": "stream",
     "text": [
      ">>> load the word2vec model ... \n"
     ]
    },
    {
     "ename": "FileNotFoundError",
     "evalue": "[Errno 2] No such file or directory: 'model_300dim.pkl'",
     "output_type": "error",
     "traceback": [
      "\u001b[1;31m---------------------------------------------------------------------------\u001b[0m",
      "\u001b[1;31mFileNotFoundError\u001b[0m                         Traceback (most recent call last)",
      "\u001b[1;32mc:\\Users\\J0545269\\OneDrive - TOTAL\\ML_TEST\\ML_TEST\\second_model_explo.ipynb Cell 28'\u001b[0m in \u001b[0;36m<cell line: 24>\u001b[1;34m()\u001b[0m\n\u001b[0;32m     <a href='vscode-notebook-cell:/c%3A/Users/J0545269/OneDrive%20-%20TOTAL/ML_TEST/ML_TEST/second_model_explo.ipynb#ch0000028?line=9'>10</a>\u001b[0m \u001b[39m# print(\">>> read the data file ... \")\u001b[39;00m\n\u001b[0;32m     <a href='vscode-notebook-cell:/c%3A/Users/J0545269/OneDrive%20-%20TOTAL/ML_TEST/ML_TEST/second_model_explo.ipynb#ch0000028?line=10'>11</a>\u001b[0m \u001b[39m# hiv = pd.read_csv('HIV.csv')\u001b[39;00m\n\u001b[0;32m     <a href='vscode-notebook-cell:/c%3A/Users/J0545269/OneDrive%20-%20TOTAL/ML_TEST/ML_TEST/second_model_explo.ipynb#ch0000028?line=11'>12</a>\u001b[0m \u001b[39m# print(\">>> data shape = \", hiv.shape)\u001b[39;00m\n\u001b[1;32m   (...)\u001b[0m\n\u001b[0;32m     <a href='vscode-notebook-cell:/c%3A/Users/J0545269/OneDrive%20-%20TOTAL/ML_TEST/ML_TEST/second_model_explo.ipynb#ch0000028?line=19'>20</a>\u001b[0m \u001b[39m# print(\">>> create sentence from mol ... \")\u001b[39;00m\n\u001b[0;32m     <a href='vscode-notebook-cell:/c%3A/Users/J0545269/OneDrive%20-%20TOTAL/ML_TEST/ML_TEST/second_model_explo.ipynb#ch0000028?line=20'>21</a>\u001b[0m \u001b[39m# hiv['sentence'] = hiv.apply(lambda x: MolSentence(mol2alt_sentence(x['mol'], radius=1)), axis=1)\u001b[39;00m\n\u001b[0;32m     <a href='vscode-notebook-cell:/c%3A/Users/J0545269/OneDrive%20-%20TOTAL/ML_TEST/ML_TEST/second_model_explo.ipynb#ch0000028?line=22'>23</a>\u001b[0m \u001b[39mprint\u001b[39m(\u001b[39m\"\u001b[39m\u001b[39m>>> load the word2vec model ... \u001b[39m\u001b[39m\"\u001b[39m)\n\u001b[1;32m---> <a href='vscode-notebook-cell:/c%3A/Users/J0545269/OneDrive%20-%20TOTAL/ML_TEST/ML_TEST/second_model_explo.ipynb#ch0000028?line=23'>24</a>\u001b[0m w2v_model \u001b[39m=\u001b[39m word2vec\u001b[39m.\u001b[39;49mWord2Vec\u001b[39m.\u001b[39;49mload(\u001b[39m'\u001b[39;49m\u001b[39mmodel_300dim.pkl\u001b[39;49m\u001b[39m'\u001b[39;49m)\n",
      "File \u001b[1;32m~\\Miniconda3\\envs\\lbc\\lib\\site-packages\\gensim\\models\\word2vec.py:1930\u001b[0m, in \u001b[0;36mWord2Vec.load\u001b[1;34m(cls, rethrow, *args, **kwargs)\u001b[0m\n\u001b[0;32m   <a href='file:///c%3A/Users/J0545269/Miniconda3/envs/lbc/lib/site-packages/gensim/models/word2vec.py?line=1910'>1911</a>\u001b[0m \u001b[39m\"\"\"Load a previously saved :class:`~gensim.models.word2vec.Word2Vec` model.\u001b[39;00m\n\u001b[0;32m   <a href='file:///c%3A/Users/J0545269/Miniconda3/envs/lbc/lib/site-packages/gensim/models/word2vec.py?line=1911'>1912</a>\u001b[0m \n\u001b[0;32m   <a href='file:///c%3A/Users/J0545269/Miniconda3/envs/lbc/lib/site-packages/gensim/models/word2vec.py?line=1912'>1913</a>\u001b[0m \u001b[39mSee Also\u001b[39;00m\n\u001b[1;32m   (...)\u001b[0m\n\u001b[0;32m   <a href='file:///c%3A/Users/J0545269/Miniconda3/envs/lbc/lib/site-packages/gensim/models/word2vec.py?line=1926'>1927</a>\u001b[0m \n\u001b[0;32m   <a href='file:///c%3A/Users/J0545269/Miniconda3/envs/lbc/lib/site-packages/gensim/models/word2vec.py?line=1927'>1928</a>\u001b[0m \u001b[39m\"\"\"\u001b[39;00m\n\u001b[0;32m   <a href='file:///c%3A/Users/J0545269/Miniconda3/envs/lbc/lib/site-packages/gensim/models/word2vec.py?line=1928'>1929</a>\u001b[0m \u001b[39mtry\u001b[39;00m:\n\u001b[1;32m-> <a href='file:///c%3A/Users/J0545269/Miniconda3/envs/lbc/lib/site-packages/gensim/models/word2vec.py?line=1929'>1930</a>\u001b[0m     model \u001b[39m=\u001b[39m \u001b[39msuper\u001b[39;49m(Word2Vec, \u001b[39mcls\u001b[39;49m)\u001b[39m.\u001b[39;49mload(\u001b[39m*\u001b[39;49margs, \u001b[39m*\u001b[39;49m\u001b[39m*\u001b[39;49mkwargs)\n\u001b[0;32m   <a href='file:///c%3A/Users/J0545269/Miniconda3/envs/lbc/lib/site-packages/gensim/models/word2vec.py?line=1930'>1931</a>\u001b[0m     \u001b[39mif\u001b[39;00m \u001b[39mnot\u001b[39;00m \u001b[39misinstance\u001b[39m(model, Word2Vec):\n\u001b[0;32m   <a href='file:///c%3A/Users/J0545269/Miniconda3/envs/lbc/lib/site-packages/gensim/models/word2vec.py?line=1931'>1932</a>\u001b[0m         rethrow \u001b[39m=\u001b[39m \u001b[39mTrue\u001b[39;00m\n",
      "File \u001b[1;32m~\\Miniconda3\\envs\\lbc\\lib\\site-packages\\gensim\\utils.py:485\u001b[0m, in \u001b[0;36mSaveLoad.load\u001b[1;34m(cls, fname, mmap)\u001b[0m\n\u001b[0;32m    <a href='file:///c%3A/Users/J0545269/Miniconda3/envs/lbc/lib/site-packages/gensim/utils.py?line=480'>481</a>\u001b[0m logger\u001b[39m.\u001b[39minfo(\u001b[39m\"\u001b[39m\u001b[39mloading \u001b[39m\u001b[39m%s\u001b[39;00m\u001b[39m object from \u001b[39m\u001b[39m%s\u001b[39;00m\u001b[39m\"\u001b[39m, \u001b[39mcls\u001b[39m\u001b[39m.\u001b[39m\u001b[39m__name__\u001b[39m, fname)\n\u001b[0;32m    <a href='file:///c%3A/Users/J0545269/Miniconda3/envs/lbc/lib/site-packages/gensim/utils.py?line=482'>483</a>\u001b[0m compress, subname \u001b[39m=\u001b[39m SaveLoad\u001b[39m.\u001b[39m_adapt_by_suffix(fname)\n\u001b[1;32m--> <a href='file:///c%3A/Users/J0545269/Miniconda3/envs/lbc/lib/site-packages/gensim/utils.py?line=484'>485</a>\u001b[0m obj \u001b[39m=\u001b[39m unpickle(fname)\n\u001b[0;32m    <a href='file:///c%3A/Users/J0545269/Miniconda3/envs/lbc/lib/site-packages/gensim/utils.py?line=485'>486</a>\u001b[0m obj\u001b[39m.\u001b[39m_load_specials(fname, mmap, compress, subname)\n\u001b[0;32m    <a href='file:///c%3A/Users/J0545269/Miniconda3/envs/lbc/lib/site-packages/gensim/utils.py?line=486'>487</a>\u001b[0m obj\u001b[39m.\u001b[39madd_lifecycle_event(\u001b[39m\"\u001b[39m\u001b[39mloaded\u001b[39m\u001b[39m\"\u001b[39m, fname\u001b[39m=\u001b[39mfname)\n",
      "File \u001b[1;32m~\\Miniconda3\\envs\\lbc\\lib\\site-packages\\gensim\\utils.py:1459\u001b[0m, in \u001b[0;36munpickle\u001b[1;34m(fname)\u001b[0m\n\u001b[0;32m   <a href='file:///c%3A/Users/J0545269/Miniconda3/envs/lbc/lib/site-packages/gensim/utils.py?line=1444'>1445</a>\u001b[0m \u001b[39mdef\u001b[39;00m \u001b[39munpickle\u001b[39m(fname):\n\u001b[0;32m   <a href='file:///c%3A/Users/J0545269/Miniconda3/envs/lbc/lib/site-packages/gensim/utils.py?line=1445'>1446</a>\u001b[0m     \u001b[39m\"\"\"Load object from `fname`, using smart_open so that `fname` can be on S3, HDFS, compressed etc.\u001b[39;00m\n\u001b[0;32m   <a href='file:///c%3A/Users/J0545269/Miniconda3/envs/lbc/lib/site-packages/gensim/utils.py?line=1446'>1447</a>\u001b[0m \n\u001b[0;32m   <a href='file:///c%3A/Users/J0545269/Miniconda3/envs/lbc/lib/site-packages/gensim/utils.py?line=1447'>1448</a>\u001b[0m \u001b[39m    Parameters\u001b[39;00m\n\u001b[1;32m   (...)\u001b[0m\n\u001b[0;32m   <a href='file:///c%3A/Users/J0545269/Miniconda3/envs/lbc/lib/site-packages/gensim/utils.py?line=1456'>1457</a>\u001b[0m \n\u001b[0;32m   <a href='file:///c%3A/Users/J0545269/Miniconda3/envs/lbc/lib/site-packages/gensim/utils.py?line=1457'>1458</a>\u001b[0m \u001b[39m    \"\"\"\u001b[39;00m\n\u001b[1;32m-> <a href='file:///c%3A/Users/J0545269/Miniconda3/envs/lbc/lib/site-packages/gensim/utils.py?line=1458'>1459</a>\u001b[0m     \u001b[39mwith\u001b[39;00m \u001b[39mopen\u001b[39;49m(fname, \u001b[39m'\u001b[39;49m\u001b[39mrb\u001b[39;49m\u001b[39m'\u001b[39;49m) \u001b[39mas\u001b[39;00m f:\n\u001b[0;32m   <a href='file:///c%3A/Users/J0545269/Miniconda3/envs/lbc/lib/site-packages/gensim/utils.py?line=1459'>1460</a>\u001b[0m         \u001b[39mreturn\u001b[39;00m _pickle\u001b[39m.\u001b[39mload(f, encoding\u001b[39m=\u001b[39m\u001b[39m'\u001b[39m\u001b[39mlatin1\u001b[39m\u001b[39m'\u001b[39m)\n",
      "File \u001b[1;32m~\\Miniconda3\\envs\\lbc\\lib\\site-packages\\smart_open\\smart_open_lib.py:177\u001b[0m, in \u001b[0;36mopen\u001b[1;34m(uri, mode, buffering, encoding, errors, newline, closefd, opener, compression, transport_params)\u001b[0m\n\u001b[0;32m    <a href='file:///c%3A/Users/J0545269/Miniconda3/envs/lbc/lib/site-packages/smart_open/smart_open_lib.py?line=173'>174</a>\u001b[0m \u001b[39mif\u001b[39;00m transport_params \u001b[39mis\u001b[39;00m \u001b[39mNone\u001b[39;00m:\n\u001b[0;32m    <a href='file:///c%3A/Users/J0545269/Miniconda3/envs/lbc/lib/site-packages/smart_open/smart_open_lib.py?line=174'>175</a>\u001b[0m     transport_params \u001b[39m=\u001b[39m {}\n\u001b[1;32m--> <a href='file:///c%3A/Users/J0545269/Miniconda3/envs/lbc/lib/site-packages/smart_open/smart_open_lib.py?line=176'>177</a>\u001b[0m fobj \u001b[39m=\u001b[39m _shortcut_open(\n\u001b[0;32m    <a href='file:///c%3A/Users/J0545269/Miniconda3/envs/lbc/lib/site-packages/smart_open/smart_open_lib.py?line=177'>178</a>\u001b[0m     uri,\n\u001b[0;32m    <a href='file:///c%3A/Users/J0545269/Miniconda3/envs/lbc/lib/site-packages/smart_open/smart_open_lib.py?line=178'>179</a>\u001b[0m     mode,\n\u001b[0;32m    <a href='file:///c%3A/Users/J0545269/Miniconda3/envs/lbc/lib/site-packages/smart_open/smart_open_lib.py?line=179'>180</a>\u001b[0m     compression\u001b[39m=\u001b[39;49mcompression,\n\u001b[0;32m    <a href='file:///c%3A/Users/J0545269/Miniconda3/envs/lbc/lib/site-packages/smart_open/smart_open_lib.py?line=180'>181</a>\u001b[0m     buffering\u001b[39m=\u001b[39;49mbuffering,\n\u001b[0;32m    <a href='file:///c%3A/Users/J0545269/Miniconda3/envs/lbc/lib/site-packages/smart_open/smart_open_lib.py?line=181'>182</a>\u001b[0m     encoding\u001b[39m=\u001b[39;49mencoding,\n\u001b[0;32m    <a href='file:///c%3A/Users/J0545269/Miniconda3/envs/lbc/lib/site-packages/smart_open/smart_open_lib.py?line=182'>183</a>\u001b[0m     errors\u001b[39m=\u001b[39;49merrors,\n\u001b[0;32m    <a href='file:///c%3A/Users/J0545269/Miniconda3/envs/lbc/lib/site-packages/smart_open/smart_open_lib.py?line=183'>184</a>\u001b[0m     newline\u001b[39m=\u001b[39;49mnewline,\n\u001b[0;32m    <a href='file:///c%3A/Users/J0545269/Miniconda3/envs/lbc/lib/site-packages/smart_open/smart_open_lib.py?line=184'>185</a>\u001b[0m )\n\u001b[0;32m    <a href='file:///c%3A/Users/J0545269/Miniconda3/envs/lbc/lib/site-packages/smart_open/smart_open_lib.py?line=185'>186</a>\u001b[0m \u001b[39mif\u001b[39;00m fobj \u001b[39mis\u001b[39;00m \u001b[39mnot\u001b[39;00m \u001b[39mNone\u001b[39;00m:\n\u001b[0;32m    <a href='file:///c%3A/Users/J0545269/Miniconda3/envs/lbc/lib/site-packages/smart_open/smart_open_lib.py?line=186'>187</a>\u001b[0m     \u001b[39mreturn\u001b[39;00m fobj\n",
      "File \u001b[1;32m~\\Miniconda3\\envs\\lbc\\lib\\site-packages\\smart_open\\smart_open_lib.py:363\u001b[0m, in \u001b[0;36m_shortcut_open\u001b[1;34m(uri, mode, compression, buffering, encoding, errors, newline)\u001b[0m\n\u001b[0;32m    <a href='file:///c%3A/Users/J0545269/Miniconda3/envs/lbc/lib/site-packages/smart_open/smart_open_lib.py?line=359'>360</a>\u001b[0m \u001b[39mif\u001b[39;00m errors \u001b[39mand\u001b[39;00m \u001b[39m'\u001b[39m\u001b[39mb\u001b[39m\u001b[39m'\u001b[39m \u001b[39mnot\u001b[39;00m \u001b[39min\u001b[39;00m mode:\n\u001b[0;32m    <a href='file:///c%3A/Users/J0545269/Miniconda3/envs/lbc/lib/site-packages/smart_open/smart_open_lib.py?line=360'>361</a>\u001b[0m     open_kwargs[\u001b[39m'\u001b[39m\u001b[39merrors\u001b[39m\u001b[39m'\u001b[39m] \u001b[39m=\u001b[39m errors\n\u001b[1;32m--> <a href='file:///c%3A/Users/J0545269/Miniconda3/envs/lbc/lib/site-packages/smart_open/smart_open_lib.py?line=362'>363</a>\u001b[0m \u001b[39mreturn\u001b[39;00m _builtin_open(local_path, mode, buffering\u001b[39m=\u001b[39;49mbuffering, \u001b[39m*\u001b[39;49m\u001b[39m*\u001b[39;49mopen_kwargs)\n",
      "\u001b[1;31mFileNotFoundError\u001b[0m: [Errno 2] No such file or directory: 'model_300dim.pkl'"
     ]
    }
   ],
   "source": [
    "# import rdkit/mol2vec/word2vec -----------------------------------------------\n",
    "from rdkit import Chem\n",
    "from mol2vec.features import mol2alt_sentence, MolSentence, DfVec, sentences2vec\n",
    "from gensim.models import word2vec\n",
    "\n",
    "# import numpy/pandas ---------------------------------------------------------\n",
    "import numpy as np\n",
    "import pandas as pd\n",
    "\n",
    "# print(\">>> read the data file ... \")\n",
    "# hiv = pd.read_csv('HIV.csv')\n",
    "# print(\">>> data shape = \", hiv.shape)\n",
    "# print(\">>> data columns = \", hiv.columns, \"\\n\")\n",
    "# print(hiv)\n",
    "# print()\n",
    "\n",
    "# print(\">>> create mol from smiles ... \")\n",
    "# hiv['mol'] = hiv['smiles'].apply(lambda x: Chem.MolFromSmiles(x)) \n",
    "\n",
    "# print(\">>> create sentence from mol ... \")\n",
    "# hiv['sentence'] = hiv.apply(lambda x: MolSentence(mol2alt_sentence(x['mol'], radius=1)), axis=1)\n",
    "\n",
    "print(\">>> load the word2vec model ... \")\n",
    "w2v_model = word2vec.Word2Vec.load('model_300dim.pkl')"
   ]
  }
 ],
 "metadata": {
  "interpreter": {
   "hash": "b9523be2c5a0c2bad1a3f640ba7683ed79762fe800620d3f2faaf3e806b8eb3d"
  },
  "kernelspec": {
   "display_name": "Python 3.8.13 ('lbc')",
   "language": "python",
   "name": "python3"
  },
  "language_info": {
   "codemirror_mode": {
    "name": "ipython",
    "version": 3
   },
   "file_extension": ".py",
   "mimetype": "text/x-python",
   "name": "python",
   "nbconvert_exporter": "python",
   "pygments_lexer": "ipython3",
   "version": "3.8.13"
  },
  "orig_nbformat": 4
 },
 "nbformat": 4,
 "nbformat_minor": 2
}
