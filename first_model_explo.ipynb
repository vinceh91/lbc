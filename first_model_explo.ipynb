{
 "cells": [
  {
   "cell_type": "code",
   "execution_count": 127,
   "metadata": {},
   "outputs": [],
   "source": [
    "# df_single = df_single_raw.copy()\n",
    "# df_single[\"len\"] = df_single[\"smiles\"].str.len()\n",
    "# df_single[\"features\"] = df_single[\"smiles\"].apply(fingerprint_features)\n",
    "# df_single[\"features\"] = df_single[\"features\"].apply(lambda x: np.array(x))\n",
    "# df_single[\"features_one\"] = df_single[\"features\"].apply(lambda x: np.sum(np.array(x)==1))\n",
    "# df_single[\"features_len\"] = df_single[\"features\"].str.len()"
   ]
  },
  {
   "cell_type": "code",
   "execution_count": null,
   "metadata": {},
   "outputs": [],
   "source": [
    "# Tester le downsampling\n",
    "# pour le deuxième modèle, utiliser les patterns de Géron quand il fait de la prédiction du prochain caractère\n",
    "# stratify\n",
    "# learning rate\n",
    "# focal loss\n",
    "# class weights\n",
    "# tf-idf\n",
    "# smaller batch size"
   ]
  },
  {
   "cell_type": "code",
   "execution_count": 154,
   "metadata": {},
   "outputs": [],
   "source": [
    "import pandas as pd\n",
    "import numpy as np\n",
    "import tensorflow as tf\n",
    "from feature_extractor import fingerprint_features\n",
    "import sklearn\n",
    "from sklearn.model_selection import train_test_split\n",
    "from tensorflow import keras\n",
    "import comet_ml"
   ]
  },
  {
   "cell_type": "code",
   "execution_count": 155,
   "metadata": {},
   "outputs": [
    {
     "name": "stderr",
     "output_type": "stream",
     "text": [
      "COMET WARNING: Comet has disabled auto-logging functionality as it has been imported after the following ML modules: sklearn, tensorflow, tensorboard. Metrics and hyperparameters can still be logged using comet_ml.log_metrics() and comet_ml.log_parameters()\n",
      "COMET WARNING: As you are running in a Jupyter environment, you will need to call `experiment.end()` when finished to ensure all metrics and code are logged before exiting.\n",
      "COMET WARNING: Failed to check backend version at URL: 'https://www.comet-ml.com/clientlib/isAlive/ver'\n",
      "COMET ERROR: Run will not be logged \n",
      "For more details, please refer to: https://www.comet.ml/docs/python-sdk/warnings-errors/\n",
      "Traceback (most recent call last):\n",
      "  File \"C:\\Users\\J0545269\\Miniconda3\\envs\\lbc\\lib\\site-packages\\urllib3\\connectionpool.py\", line 700, in urlopen\n",
      "    self._prepare_proxy(conn)\n",
      "  File \"C:\\Users\\J0545269\\Miniconda3\\envs\\lbc\\lib\\site-packages\\urllib3\\connectionpool.py\", line 994, in _prepare_proxy\n",
      "    conn.connect()\n",
      "  File \"C:\\Users\\J0545269\\Miniconda3\\envs\\lbc\\lib\\site-packages\\urllib3\\connection.py\", line 414, in connect\n",
      "    self.sock = ssl_wrap_socket(\n",
      "  File \"C:\\Users\\J0545269\\Miniconda3\\envs\\lbc\\lib\\site-packages\\urllib3\\util\\ssl_.py\", line 449, in ssl_wrap_socket\n",
      "    ssl_sock = _ssl_wrap_socket_impl(\n",
      "  File \"C:\\Users\\J0545269\\Miniconda3\\envs\\lbc\\lib\\site-packages\\urllib3\\util\\ssl_.py\", line 493, in _ssl_wrap_socket_impl\n",
      "    return ssl_context.wrap_socket(sock, server_hostname=server_hostname)\n",
      "  File \"C:\\Users\\J0545269\\Miniconda3\\envs\\lbc\\lib\\ssl.py\", line 500, in wrap_socket\n",
      "    return self.sslsocket_class._create(\n",
      "  File \"C:\\Users\\J0545269\\Miniconda3\\envs\\lbc\\lib\\ssl.py\", line 1040, in _create\n",
      "    self.do_handshake()\n",
      "  File \"C:\\Users\\J0545269\\Miniconda3\\envs\\lbc\\lib\\ssl.py\", line 1309, in do_handshake\n",
      "    self._sslobj.do_handshake()\n",
      "ssl.SSLCertVerificationError: [SSL: CERTIFICATE_VERIFY_FAILED] certificate verify failed: unable to get local issuer certificate (_ssl.c:1131)\n",
      "\n",
      "During handling of the above exception, another exception occurred:\n",
      "\n",
      "Traceback (most recent call last):\n",
      "  File \"C:\\Users\\J0545269\\Miniconda3\\envs\\lbc\\lib\\site-packages\\requests\\adapters.py\", line 440, in send\n",
      "    resp = conn.urlopen(\n",
      "  File \"C:\\Users\\J0545269\\Miniconda3\\envs\\lbc\\lib\\site-packages\\urllib3\\connectionpool.py\", line 813, in urlopen\n",
      "    return self.urlopen(\n",
      "  File \"C:\\Users\\J0545269\\Miniconda3\\envs\\lbc\\lib\\site-packages\\urllib3\\connectionpool.py\", line 813, in urlopen\n",
      "    return self.urlopen(\n",
      "  File \"C:\\Users\\J0545269\\Miniconda3\\envs\\lbc\\lib\\site-packages\\urllib3\\connectionpool.py\", line 813, in urlopen\n",
      "    return self.urlopen(\n",
      "  File \"C:\\Users\\J0545269\\Miniconda3\\envs\\lbc\\lib\\site-packages\\urllib3\\connectionpool.py\", line 785, in urlopen\n",
      "    retries = retries.increment(\n",
      "  File \"C:\\Users\\J0545269\\Miniconda3\\envs\\lbc\\lib\\site-packages\\urllib3\\util\\retry.py\", line 592, in increment\n",
      "    raise MaxRetryError(_pool, url, error or ResponseError(cause))\n",
      "urllib3.exceptions.MaxRetryError: HTTPSConnectionPool(host='www.comet-ml.com', port=443): Max retries exceeded with url: /clientlib/logger/add/run (Caused by SSLError(SSLCertVerificationError(1, '[SSL: CERTIFICATE_VERIFY_FAILED] certificate verify failed: unable to get local issuer certificate (_ssl.c:1131)')))\n",
      "\n",
      "During handling of the above exception, another exception occurred:\n",
      "\n",
      "Traceback (most recent call last):\n",
      "  File \"C:\\Users\\J0545269\\Miniconda3\\envs\\lbc\\lib\\site-packages\\comet_ml\\experiment.py\", line 879, in _start\n",
      "    self.alive = self._setup_streamer()\n",
      "  File \"C:\\Users\\J0545269\\Miniconda3\\envs\\lbc\\lib\\site-packages\\comet_ml\\_online.py\", line 282, in _setup_streamer\n",
      "    results = self._authenticate()\n",
      "  File \"C:\\Users\\J0545269\\Miniconda3\\envs\\lbc\\lib\\site-packages\\comet_ml\\_online.py\", line 331, in _authenticate\n",
      "    run_id_response = self.connection.get_run_id(\n",
      "  File \"C:\\Users\\J0545269\\Miniconda3\\envs\\lbc\\lib\\site-packages\\comet_ml\\connection.py\", line 584, in get_run_id\n",
      "    r = self._low_level_http_client.post(\n",
      "  File \"C:\\Users\\J0545269\\Miniconda3\\envs\\lbc\\lib\\site-packages\\comet_ml\\connection.py\", line 445, in post\n",
      "    response = session.post(\n",
      "  File \"C:\\Users\\J0545269\\Miniconda3\\envs\\lbc\\lib\\site-packages\\requests\\sessions.py\", line 577, in post\n",
      "    return self.request('POST', url, data=data, json=json, **kwargs)\n",
      "  File \"C:\\Users\\J0545269\\Miniconda3\\envs\\lbc\\lib\\site-packages\\requests\\sessions.py\", line 529, in request\n",
      "    resp = self.send(prep, **send_kwargs)\n",
      "  File \"C:\\Users\\J0545269\\Miniconda3\\envs\\lbc\\lib\\site-packages\\requests\\sessions.py\", line 645, in send\n",
      "    r = adapter.send(request, **kwargs)\n",
      "  File \"C:\\Users\\J0545269\\Miniconda3\\envs\\lbc\\lib\\site-packages\\requests\\adapters.py\", line 517, in send\n",
      "    raise SSLError(e, request=request)\n",
      "requests.exceptions.SSLError: HTTPSConnectionPool(host='www.comet-ml.com', port=443): Max retries exceeded with url: /clientlib/logger/add/run (Caused by SSLError(SSLCertVerificationError(1, '[SSL: CERTIFICATE_VERIFY_FAILED] certificate verify failed: unable to get local issuer certificate (_ssl.c:1131)')))\n"
     ]
    }
   ],
   "source": [
    "from comet_ml import Experiment\n",
    "\n",
    "# Create an experiment with your api key\n",
    "experiment = Experiment(\n",
    "    api_key=\"EBS82BdcQJedY2TKiM2v8QhLv\",\n",
    "    project_name=\"lbc\",\n",
    "    workspace=\"vinceh91\",\n",
    ")"
   ]
  },
  {
   "cell_type": "code",
   "execution_count": 2,
   "metadata": {},
   "outputs": [],
   "source": [
    "df_single_raw = pd.read_csv(\"dataset_single.csv\")"
   ]
  },
  {
   "cell_type": "code",
   "execution_count": 9,
   "metadata": {},
   "outputs": [],
   "source": [
    "# Use a utility from sklearn to split and shuffle your dataset.\n",
    "train_df, test_df = train_test_split(df_single_raw, test_size=0.1)\n",
    "train_df, val_df = train_test_split(train_df, test_size=0.2)\n",
    "\n",
    "# Form np arrays of labels and features.\n",
    "train_labels = np.array(train_df.pop('P1'))\n",
    "bool_train_labels = train_labels != 0\n",
    "val_labels = np.array(val_df.pop('P1'))\n",
    "test_labels = np.array(test_df.pop('P1'))\n",
    "\n",
    "train_features = np.array(train_df)\n",
    "val_features = np.array(val_df)\n",
    "test_features = np.array(test_df)"
   ]
  },
  {
   "cell_type": "code",
   "execution_count": 3,
   "metadata": {},
   "outputs": [],
   "source": [
    "def oversampling(features: np.ndarray, labels: np.ndarray, oversampling: bool):\n",
    "    bool_labels = labels != 0\n",
    "    if oversampling:\n",
    "        pos_features = features[bool_labels]\n",
    "        neg_features = features[~bool_labels]\n",
    "        pos_labels = labels[bool_labels]\n",
    "        neg_labels = labels[~bool_labels]\n",
    "\n",
    "        ids = np.arange(len(neg_features))\n",
    "        choices = np.random.choice(ids, len(pos_features))\n",
    "        res_neg_features = neg_features[choices]\n",
    "        res_neg_labels = neg_labels[choices]\n",
    "\n",
    "        resampled_features = np.concatenate([res_neg_features, pos_features], axis=0)\n",
    "        resampled_labels = np.concatenate([res_neg_labels, pos_labels], axis=0)\n",
    "\n",
    "        return resampled_features, resampled_labels\n",
    "    else:\n",
    "        return features, labels\n",
    "\n",
    "    "
   ]
  },
  {
   "cell_type": "code",
   "execution_count": 10,
   "metadata": {},
   "outputs": [
    {
     "data": {
      "text/plain": [
       "(3599, 2)"
      ]
     },
     "execution_count": 10,
     "metadata": {},
     "output_type": "execute_result"
    }
   ],
   "source": [
    "train_features.shape"
   ]
  },
  {
   "cell_type": "code",
   "execution_count": 11,
   "metadata": {},
   "outputs": [
    {
     "data": {
      "text/plain": [
       "(900, 2)"
      ]
     },
     "execution_count": 11,
     "metadata": {},
     "output_type": "execute_result"
    }
   ],
   "source": [
    "val_features.shape"
   ]
  },
  {
   "cell_type": "code",
   "execution_count": 12,
   "metadata": {},
   "outputs": [
    {
     "data": {
      "text/plain": [
       "(500, 2)"
      ]
     },
     "execution_count": 12,
     "metadata": {},
     "output_type": "execute_result"
    }
   ],
   "source": [
    "test_features.shape"
   ]
  },
  {
   "cell_type": "code",
   "execution_count": 13,
   "metadata": {},
   "outputs": [],
   "source": [
    "resampled_train_features, resampled_train_labels = oversampling(train_features, train_labels, oversampling=True)"
   ]
  },
  {
   "cell_type": "code",
   "execution_count": 14,
   "metadata": {},
   "outputs": [
    {
     "data": {
      "text/plain": [
       "(5948, 2)"
      ]
     },
     "execution_count": 14,
     "metadata": {},
     "output_type": "execute_result"
    }
   ],
   "source": [
    "resampled_train_features.shape"
   ]
  },
  {
   "cell_type": "code",
   "execution_count": 15,
   "metadata": {},
   "outputs": [
    {
     "data": {
      "text/plain": [
       "(5948,)"
      ]
     },
     "execution_count": 15,
     "metadata": {},
     "output_type": "execute_result"
    }
   ],
   "source": [
    "resampled_train_labels.shape"
   ]
  },
  {
   "cell_type": "code",
   "execution_count": 16,
   "metadata": {},
   "outputs": [],
   "source": [
    "def get_features(arr):\n",
    "  return np.array([fingerprint_features(s) for s in arr])"
   ]
  },
  {
   "cell_type": "code",
   "execution_count": 151,
   "metadata": {},
   "outputs": [],
   "source": [
    "extracted_train_features = get_features(resampled_train_features[:,1])\n",
    "extracted_val_features = get_features(val_features[:,1])\n",
    "extracted_test_features = get_features(test_features[:,1])"
   ]
  },
  {
   "cell_type": "code",
   "execution_count": null,
   "metadata": {},
   "outputs": [],
   "source": [
    "extracted_train_features.shape\n"
   ]
  },
  {
   "cell_type": "code",
   "execution_count": 150,
   "metadata": {},
   "outputs": [
    {
     "ename": "ValueError",
     "evalue": "Dimensions 3599 and 5948 are not compatible",
     "output_type": "error",
     "traceback": [
      "\u001b[1;31m---------------------------------------------------------------------------\u001b[0m",
      "\u001b[1;31mValueError\u001b[0m                                Traceback (most recent call last)",
      "\u001b[1;32mc:\\Users\\J0545269\\OneDrive - TOTAL\\ML_TEST\\ML_TEST\\notebook.ipynb Cell 15'\u001b[0m in \u001b[0;36m<cell line: 3>\u001b[1;34m()\u001b[0m\n\u001b[0;32m      <a href='vscode-notebook-cell:/c%3A/Users/J0545269/OneDrive%20-%20TOTAL/ML_TEST/ML_TEST/notebook.ipynb#ch0000011?line=0'>1</a>\u001b[0m BATCH_SIZE \u001b[39m=\u001b[39m \u001b[39m16\u001b[39m\n\u001b[1;32m----> <a href='vscode-notebook-cell:/c%3A/Users/J0545269/OneDrive%20-%20TOTAL/ML_TEST/ML_TEST/notebook.ipynb#ch0000011?line=2'>3</a>\u001b[0m tf_train_dataset \u001b[39m=\u001b[39m tf\u001b[39m.\u001b[39;49mdata\u001b[39m.\u001b[39;49mDataset\u001b[39m.\u001b[39;49mfrom_tensor_slices((extracted_train_features, resampled_train_labels))\n\u001b[0;32m      <a href='vscode-notebook-cell:/c%3A/Users/J0545269/OneDrive%20-%20TOTAL/ML_TEST/ML_TEST/notebook.ipynb#ch0000011?line=3'>4</a>\u001b[0m tf_val_dataset \u001b[39m=\u001b[39m tf\u001b[39m.\u001b[39mdata\u001b[39m.\u001b[39mDataset\u001b[39m.\u001b[39mfrom_tensor_slices((extracted_val_features, val_labels))\n\u001b[0;32m      <a href='vscode-notebook-cell:/c%3A/Users/J0545269/OneDrive%20-%20TOTAL/ML_TEST/ML_TEST/notebook.ipynb#ch0000011?line=4'>5</a>\u001b[0m tf_test_dataset \u001b[39m=\u001b[39m tf\u001b[39m.\u001b[39mdata\u001b[39m.\u001b[39mDataset\u001b[39m.\u001b[39mfrom_tensor_slices((extracted_test_features, test_labels))\n",
      "File \u001b[1;32m~\\Miniconda3\\envs\\lbc\\lib\\site-packages\\tensorflow\\python\\data\\ops\\dataset_ops.py:682\u001b[0m, in \u001b[0;36mDatasetV2.from_tensor_slices\u001b[1;34m(tensors)\u001b[0m\n\u001b[0;32m    <a href='file:///c%3A/Users/J0545269/Miniconda3/envs/lbc/lib/site-packages/tensorflow/python/data/ops/dataset_ops.py?line=605'>606</a>\u001b[0m \u001b[39m@staticmethod\u001b[39m\n\u001b[0;32m    <a href='file:///c%3A/Users/J0545269/Miniconda3/envs/lbc/lib/site-packages/tensorflow/python/data/ops/dataset_ops.py?line=606'>607</a>\u001b[0m \u001b[39mdef\u001b[39;00m \u001b[39mfrom_tensor_slices\u001b[39m(tensors):\n\u001b[0;32m    <a href='file:///c%3A/Users/J0545269/Miniconda3/envs/lbc/lib/site-packages/tensorflow/python/data/ops/dataset_ops.py?line=607'>608</a>\u001b[0m   \u001b[39m\"\"\"Creates a `Dataset` whose elements are slices of the given tensors.\u001b[39;00m\n\u001b[0;32m    <a href='file:///c%3A/Users/J0545269/Miniconda3/envs/lbc/lib/site-packages/tensorflow/python/data/ops/dataset_ops.py?line=608'>609</a>\u001b[0m \n\u001b[0;32m    <a href='file:///c%3A/Users/J0545269/Miniconda3/envs/lbc/lib/site-packages/tensorflow/python/data/ops/dataset_ops.py?line=609'>610</a>\u001b[0m \u001b[39m  The given tensors are sliced along their first dimension. This operation\u001b[39;00m\n\u001b[1;32m   (...)\u001b[0m\n\u001b[0;32m    <a href='file:///c%3A/Users/J0545269/Miniconda3/envs/lbc/lib/site-packages/tensorflow/python/data/ops/dataset_ops.py?line=679'>680</a>\u001b[0m \u001b[39m    Dataset: A `Dataset`.\u001b[39;00m\n\u001b[0;32m    <a href='file:///c%3A/Users/J0545269/Miniconda3/envs/lbc/lib/site-packages/tensorflow/python/data/ops/dataset_ops.py?line=680'>681</a>\u001b[0m \u001b[39m  \"\"\"\u001b[39;00m\n\u001b[1;32m--> <a href='file:///c%3A/Users/J0545269/Miniconda3/envs/lbc/lib/site-packages/tensorflow/python/data/ops/dataset_ops.py?line=681'>682</a>\u001b[0m   \u001b[39mreturn\u001b[39;00m TensorSliceDataset(tensors)\n",
      "File \u001b[1;32m~\\Miniconda3\\envs\\lbc\\lib\\site-packages\\tensorflow\\python\\data\\ops\\dataset_ops.py:3010\u001b[0m, in \u001b[0;36mTensorSliceDataset.__init__\u001b[1;34m(self, element)\u001b[0m\n\u001b[0;32m   <a href='file:///c%3A/Users/J0545269/Miniconda3/envs/lbc/lib/site-packages/tensorflow/python/data/ops/dataset_ops.py?line=3006'>3007</a>\u001b[0m batch_dim \u001b[39m=\u001b[39m tensor_shape\u001b[39m.\u001b[39mDimension(tensor_shape\u001b[39m.\u001b[39mdimension_value(\n\u001b[0;32m   <a href='file:///c%3A/Users/J0545269/Miniconda3/envs/lbc/lib/site-packages/tensorflow/python/data/ops/dataset_ops.py?line=3007'>3008</a>\u001b[0m     \u001b[39mself\u001b[39m\u001b[39m.\u001b[39m_tensors[\u001b[39m0\u001b[39m]\u001b[39m.\u001b[39mget_shape()[\u001b[39m0\u001b[39m]))\n\u001b[0;32m   <a href='file:///c%3A/Users/J0545269/Miniconda3/envs/lbc/lib/site-packages/tensorflow/python/data/ops/dataset_ops.py?line=3008'>3009</a>\u001b[0m \u001b[39mfor\u001b[39;00m t \u001b[39min\u001b[39;00m \u001b[39mself\u001b[39m\u001b[39m.\u001b[39m_tensors[\u001b[39m1\u001b[39m:]:\n\u001b[1;32m-> <a href='file:///c%3A/Users/J0545269/Miniconda3/envs/lbc/lib/site-packages/tensorflow/python/data/ops/dataset_ops.py?line=3009'>3010</a>\u001b[0m   batch_dim\u001b[39m.\u001b[39;49massert_is_compatible_with(tensor_shape\u001b[39m.\u001b[39;49mDimension(\n\u001b[0;32m   <a href='file:///c%3A/Users/J0545269/Miniconda3/envs/lbc/lib/site-packages/tensorflow/python/data/ops/dataset_ops.py?line=3010'>3011</a>\u001b[0m       tensor_shape\u001b[39m.\u001b[39;49mdimension_value(t\u001b[39m.\u001b[39;49mget_shape()[\u001b[39m0\u001b[39;49m])))\n\u001b[0;32m   <a href='file:///c%3A/Users/J0545269/Miniconda3/envs/lbc/lib/site-packages/tensorflow/python/data/ops/dataset_ops.py?line=3012'>3013</a>\u001b[0m variant_tensor \u001b[39m=\u001b[39m gen_dataset_ops\u001b[39m.\u001b[39mtensor_slice_dataset(\n\u001b[0;32m   <a href='file:///c%3A/Users/J0545269/Miniconda3/envs/lbc/lib/site-packages/tensorflow/python/data/ops/dataset_ops.py?line=3013'>3014</a>\u001b[0m     \u001b[39mself\u001b[39m\u001b[39m.\u001b[39m_tensors,\n\u001b[0;32m   <a href='file:///c%3A/Users/J0545269/Miniconda3/envs/lbc/lib/site-packages/tensorflow/python/data/ops/dataset_ops.py?line=3014'>3015</a>\u001b[0m     output_shapes\u001b[39m=\u001b[39mstructure\u001b[39m.\u001b[39mget_flat_tensor_shapes(\u001b[39mself\u001b[39m\u001b[39m.\u001b[39m_structure))\n\u001b[0;32m   <a href='file:///c%3A/Users/J0545269/Miniconda3/envs/lbc/lib/site-packages/tensorflow/python/data/ops/dataset_ops.py?line=3015'>3016</a>\u001b[0m \u001b[39msuper\u001b[39m(TensorSliceDataset, \u001b[39mself\u001b[39m)\u001b[39m.\u001b[39m\u001b[39m__init__\u001b[39m(variant_tensor)\n",
      "File \u001b[1;32m~\\Miniconda3\\envs\\lbc\\lib\\site-packages\\tensorflow\\python\\framework\\tensor_shape.py:279\u001b[0m, in \u001b[0;36mDimension.assert_is_compatible_with\u001b[1;34m(self, other)\u001b[0m\n\u001b[0;32m    <a href='file:///c%3A/Users/J0545269/Miniconda3/envs/lbc/lib/site-packages/tensorflow/python/framework/tensor_shape.py?line=268'>269</a>\u001b[0m \u001b[39m\"\"\"Raises an exception if `other` is not compatible with this Dimension.\u001b[39;00m\n\u001b[0;32m    <a href='file:///c%3A/Users/J0545269/Miniconda3/envs/lbc/lib/site-packages/tensorflow/python/framework/tensor_shape.py?line=269'>270</a>\u001b[0m \n\u001b[0;32m    <a href='file:///c%3A/Users/J0545269/Miniconda3/envs/lbc/lib/site-packages/tensorflow/python/framework/tensor_shape.py?line=270'>271</a>\u001b[0m \u001b[39mArgs:\u001b[39;00m\n\u001b[1;32m   (...)\u001b[0m\n\u001b[0;32m    <a href='file:///c%3A/Users/J0545269/Miniconda3/envs/lbc/lib/site-packages/tensorflow/python/framework/tensor_shape.py?line=275'>276</a>\u001b[0m \u001b[39m    is_compatible_with).\u001b[39;00m\n\u001b[0;32m    <a href='file:///c%3A/Users/J0545269/Miniconda3/envs/lbc/lib/site-packages/tensorflow/python/framework/tensor_shape.py?line=276'>277</a>\u001b[0m \u001b[39m\"\"\"\u001b[39;00m\n\u001b[0;32m    <a href='file:///c%3A/Users/J0545269/Miniconda3/envs/lbc/lib/site-packages/tensorflow/python/framework/tensor_shape.py?line=277'>278</a>\u001b[0m \u001b[39mif\u001b[39;00m \u001b[39mnot\u001b[39;00m \u001b[39mself\u001b[39m\u001b[39m.\u001b[39mis_compatible_with(other):\n\u001b[1;32m--> <a href='file:///c%3A/Users/J0545269/Miniconda3/envs/lbc/lib/site-packages/tensorflow/python/framework/tensor_shape.py?line=278'>279</a>\u001b[0m   \u001b[39mraise\u001b[39;00m \u001b[39mValueError\u001b[39;00m(\u001b[39m\"\u001b[39m\u001b[39mDimensions \u001b[39m\u001b[39m%s\u001b[39;00m\u001b[39m and \u001b[39m\u001b[39m%s\u001b[39;00m\u001b[39m are not compatible\u001b[39m\u001b[39m\"\u001b[39m \u001b[39m%\u001b[39m\n\u001b[0;32m    <a href='file:///c%3A/Users/J0545269/Miniconda3/envs/lbc/lib/site-packages/tensorflow/python/framework/tensor_shape.py?line=279'>280</a>\u001b[0m                    (\u001b[39mself\u001b[39m, other))\n",
      "\u001b[1;31mValueError\u001b[0m: Dimensions 3599 and 5948 are not compatible"
     ]
    }
   ],
   "source": [
    "BATCH_SIZE = 16\n",
    "\n",
    "tf_train_dataset = tf.data.Dataset.from_tensor_slices((extracted_train_features, resampled_train_labels))\n",
    "tf_val_dataset = tf.data.Dataset.from_tensor_slices((extracted_val_features, val_labels))\n",
    "tf_test_dataset = tf.data.Dataset.from_tensor_slices((extracted_test_features, test_labels))\n",
    "\n",
    "tf_train_dataset = tf_train_dataset.shuffle(5000).batch(BATCH_SIZE).prefetch(1)\n",
    "tf_val_dataset = tf_val_dataset.batch(BATCH_SIZE).prefetch(1)\n",
    "tf_test_dataset = tf_test_dataset.batch(BATCH_SIZE).prefetch(1)"
   ]
  },
  {
   "cell_type": "code",
   "execution_count": 184,
   "metadata": {},
   "outputs": [],
   "source": [
    "for batch in tf_train_dataset:\n",
    "    break"
   ]
  },
  {
   "cell_type": "code",
   "execution_count": 185,
   "metadata": {},
   "outputs": [
    {
     "data": {
      "text/plain": [
       "(<tf.Tensor: shape=(32, 2048), dtype=int32, numpy=\n",
       " array([[0, 0, 0, ..., 0, 0, 0],\n",
       "        [0, 0, 0, ..., 0, 0, 0],\n",
       "        [0, 0, 0, ..., 0, 0, 0],\n",
       "        ...,\n",
       "        [0, 1, 0, ..., 0, 0, 0],\n",
       "        [0, 0, 0, ..., 0, 0, 0],\n",
       "        [0, 0, 0, ..., 0, 0, 0]])>,\n",
       " <tf.Tensor: shape=(32,), dtype=int64, numpy=\n",
       " array([0, 0, 1, 1, 1, 1, 1, 0, 0, 0, 1, 0, 0, 0, 0, 0, 0, 1, 1, 1, 0, 1,\n",
       "        0, 1, 0, 1, 1, 1, 0, 0, 1, 1], dtype=int64)>)"
      ]
     },
     "execution_count": 185,
     "metadata": {},
     "output_type": "execute_result"
    }
   ],
   "source": [
    "batch"
   ]
  },
  {
   "cell_type": "code",
   "execution_count": 147,
   "metadata": {},
   "outputs": [],
   "source": [
    "METRICS = [\n",
    "      keras.metrics.TruePositives(name='tp'),\n",
    "      keras.metrics.FalsePositives(name='fp'),\n",
    "      keras.metrics.TrueNegatives(name='tn'),\n",
    "      keras.metrics.FalseNegatives(name='fn'), \n",
    "      keras.metrics.BinaryAccuracy(name='accuracy'),\n",
    "      keras.metrics.Precision(name='precision'),\n",
    "      keras.metrics.Recall(name='recall'),\n",
    "      keras.metrics.AUC(name='auc'),\n",
    "      keras.metrics.AUC(name='prc', curve='PR'), # precision-recall curve\n",
    "]\n",
    "\n",
    "def make_simple_model(metrics=METRICS, output_bias=None):\n",
    "  if output_bias is not None:\n",
    "    output_bias = tf.keras.initializers.Constant(output_bias)\n",
    "  model = keras.Sequential([\n",
    "      keras.layers.Dense(\n",
    "          2, activation='relu',\n",
    "          input_shape=(extracted_train_features.shape[-1],)),\n",
    "      # keras.layers.Dropout(0.5),\n",
    "      keras.layers.Dense(1, activation='sigmoid',\n",
    "                         bias_initializer=output_bias),\n",
    "  ])\n",
    "\n",
    "  model.compile(\n",
    "      optimizer=keras.optimizers.Adam(learning_rate=1e-3),\n",
    "      loss=keras.losses.BinaryCrossentropy(),\n",
    "      metrics=metrics)\n",
    "\n",
    "  return model"
   ]
  },
  {
   "cell_type": "code",
   "execution_count": 22,
   "metadata": {},
   "outputs": [],
   "source": [
    "model_over = make_simple_model()"
   ]
  },
  {
   "cell_type": "code",
   "execution_count": 23,
   "metadata": {},
   "outputs": [
    {
     "name": "stdout",
     "output_type": "stream",
     "text": [
      "Model: \"sequential\"\n",
      "_________________________________________________________________\n",
      "Layer (type)                 Output Shape              Param #   \n",
      "=================================================================\n",
      "dense (Dense)                (None, 8)                 16392     \n",
      "_________________________________________________________________\n",
      "dense_1 (Dense)              (None, 1)                 9         \n",
      "=================================================================\n",
      "Total params: 16,401\n",
      "Trainable params: 16,401\n",
      "Non-trainable params: 0\n",
      "_________________________________________________________________\n"
     ]
    }
   ],
   "source": [
    "model_over.summary()"
   ]
  },
  {
   "cell_type": "code",
   "execution_count": 24,
   "metadata": {},
   "outputs": [
    {
     "name": "stdout",
     "output_type": "stream",
     "text": [
      "Epoch 1/15\n",
      "186/186 [==============================] - 2s 10ms/step - loss: 0.6697 - tp: 1347.0000 - fp: 691.0000 - tn: 2283.0000 - fn: 1627.0000 - accuracy: 0.6103 - precision: 0.6609 - recall: 0.4529 - auc: 0.6460 - prc: 0.6589 - val_loss: 0.5957 - val_tp: 556.0000 - val_fp: 99.0000 - val_tn: 68.0000 - val_fn: 177.0000 - val_accuracy: 0.6933 - val_precision: 0.8489 - val_recall: 0.7585 - val_auc: 0.6230 - val_prc: 0.8715\n",
      "Epoch 2/15\n",
      "186/186 [==============================] - 0s 2ms/step - loss: 0.5107 - tp: 2282.0000 - fp: 665.0000 - tn: 2309.0000 - fn: 692.0000 - accuracy: 0.7719 - precision: 0.7743 - recall: 0.7673 - auc: 0.8470 - prc: 0.8491 - val_loss: 0.6002 - val_tp: 541.0000 - val_fp: 98.0000 - val_tn: 69.0000 - val_fn: 192.0000 - val_accuracy: 0.6778 - val_precision: 0.8466 - val_recall: 0.7381 - val_auc: 0.6281 - val_prc: 0.8791\n",
      "Epoch 3/15\n",
      "186/186 [==============================] - 0s 2ms/step - loss: 0.4090 - tp: 2438.0000 - fp: 428.0000 - tn: 2546.0000 - fn: 536.0000 - accuracy: 0.8379 - precision: 0.8507 - recall: 0.8198 - auc: 0.9141 - prc: 0.9198 - val_loss: 0.5764 - val_tp: 581.0000 - val_fp: 108.0000 - val_tn: 59.0000 - val_fn: 152.0000 - val_accuracy: 0.7111 - val_precision: 0.8433 - val_recall: 0.7926 - val_auc: 0.6213 - val_prc: 0.8785\n",
      "Epoch 4/15\n",
      "186/186 [==============================] - 0s 3ms/step - loss: 0.3349 - tp: 2554.0000 - fp: 294.0000 - tn: 2680.0000 - fn: 420.0000 - accuracy: 0.8800 - precision: 0.8968 - recall: 0.8588 - auc: 0.9465 - prc: 0.9517 - val_loss: 0.5804 - val_tp: 591.0000 - val_fp: 118.0000 - val_tn: 49.0000 - val_fn: 142.0000 - val_accuracy: 0.7111 - val_precision: 0.8336 - val_recall: 0.8063 - val_auc: 0.6248 - val_prc: 0.8806\n",
      "Epoch 5/15\n",
      "186/186 [==============================] - 0s 2ms/step - loss: 0.2784 - tp: 2627.0000 - fp: 214.0000 - tn: 2760.0000 - fn: 347.0000 - accuracy: 0.9057 - precision: 0.9247 - recall: 0.8833 - auc: 0.9655 - prc: 0.9697 - val_loss: 0.6128 - val_tp: 594.0000 - val_fp: 113.0000 - val_tn: 54.0000 - val_fn: 139.0000 - val_accuracy: 0.7200 - val_precision: 0.8402 - val_recall: 0.8104 - val_auc: 0.6235 - val_prc: 0.8769\n",
      "Epoch 6/15\n",
      "186/186 [==============================] - 0s 2ms/step - loss: 0.2357 - tp: 2690.0000 - fp: 142.0000 - tn: 2832.0000 - fn: 284.0000 - accuracy: 0.9284 - precision: 0.9499 - recall: 0.9045 - auc: 0.9764 - prc: 0.9791 - val_loss: 0.6501 - val_tp: 590.0000 - val_fp: 120.0000 - val_tn: 47.0000 - val_fn: 143.0000 - val_accuracy: 0.7078 - val_precision: 0.8310 - val_recall: 0.8049 - val_auc: 0.6175 - val_prc: 0.8727\n",
      "Epoch 7/15\n",
      "186/186 [==============================] - 0s 2ms/step - loss: 0.1995 - tp: 2732.0000 - fp: 97.0000 - tn: 2877.0000 - fn: 242.0000 - accuracy: 0.9430 - precision: 0.9657 - recall: 0.9186 - auc: 0.9840 - prc: 0.9857 - val_loss: 0.6799 - val_tp: 598.0000 - val_fp: 120.0000 - val_tn: 47.0000 - val_fn: 135.0000 - val_accuracy: 0.7167 - val_precision: 0.8329 - val_recall: 0.8158 - val_auc: 0.6164 - val_prc: 0.8719\n",
      "Epoch 8/15\n",
      "186/186 [==============================] - 0s 3ms/step - loss: 0.1702 - tp: 2772.0000 - fp: 65.0000 - tn: 2909.0000 - fn: 202.0000 - accuracy: 0.9551 - precision: 0.9771 - recall: 0.9321 - auc: 0.9891 - prc: 0.9901 - val_loss: 0.7056 - val_tp: 614.0000 - val_fp: 126.0000 - val_tn: 41.0000 - val_fn: 119.0000 - val_accuracy: 0.7278 - val_precision: 0.8297 - val_recall: 0.8377 - val_auc: 0.6155 - val_prc: 0.8697\n",
      "Epoch 9/15\n",
      "186/186 [==============================] - 0s 3ms/step - loss: 0.1471 - tp: 2800.0000 - fp: 63.0000 - tn: 2911.0000 - fn: 174.0000 - accuracy: 0.9602 - precision: 0.9780 - recall: 0.9415 - auc: 0.9922 - prc: 0.9928 - val_loss: 0.7554 - val_tp: 610.0000 - val_fp: 121.0000 - val_tn: 46.0000 - val_fn: 123.0000 - val_accuracy: 0.7289 - val_precision: 0.8345 - val_recall: 0.8322 - val_auc: 0.6127 - val_prc: 0.8662\n",
      "Epoch 10/15\n",
      "186/186 [==============================] - 0s 2ms/step - loss: 0.1262 - tp: 2831.0000 - fp: 39.0000 - tn: 2935.0000 - fn: 143.0000 - accuracy: 0.9694 - precision: 0.9864 - recall: 0.9519 - auc: 0.9948 - prc: 0.9950 - val_loss: 0.7816 - val_tp: 632.0000 - val_fp: 129.0000 - val_tn: 38.0000 - val_fn: 101.0000 - val_accuracy: 0.7444 - val_precision: 0.8305 - val_recall: 0.8622 - val_auc: 0.6139 - val_prc: 0.8690\n",
      "Epoch 11/15\n",
      "186/186 [==============================] - 0s 2ms/step - loss: 0.1103 - tp: 2862.0000 - fp: 36.0000 - tn: 2938.0000 - fn: 112.0000 - accuracy: 0.9751 - precision: 0.9876 - recall: 0.9623 - auc: 0.9962 - prc: 0.9963 - val_loss: 0.8355 - val_tp: 619.0000 - val_fp: 125.0000 - val_tn: 42.0000 - val_fn: 114.0000 - val_accuracy: 0.7344 - val_precision: 0.8320 - val_recall: 0.8445 - val_auc: 0.6117 - val_prc: 0.8676\n",
      "Epoch 12/15\n",
      "186/186 [==============================] - 0s 2ms/step - loss: 0.0950 - tp: 2876.0000 - fp: 22.0000 - tn: 2952.0000 - fn: 98.0000 - accuracy: 0.9798 - precision: 0.9924 - recall: 0.9670 - auc: 0.9977 - prc: 0.9975 - val_loss: 0.8814 - val_tp: 611.0000 - val_fp: 123.0000 - val_tn: 44.0000 - val_fn: 122.0000 - val_accuracy: 0.7278 - val_precision: 0.8324 - val_recall: 0.8336 - val_auc: 0.6063 - val_prc: 0.8624\n",
      "Epoch 13/15\n",
      "186/186 [==============================] - 0s 2ms/step - loss: 0.0823 - tp: 2892.0000 - fp: 14.0000 - tn: 2960.0000 - fn: 82.0000 - accuracy: 0.9839 - precision: 0.9952 - recall: 0.9724 - auc: 0.9985 - prc: 0.9983 - val_loss: 0.9204 - val_tp: 622.0000 - val_fp: 124.0000 - val_tn: 43.0000 - val_fn: 111.0000 - val_accuracy: 0.7389 - val_precision: 0.8338 - val_recall: 0.8486 - val_auc: 0.5995 - val_prc: 0.8569\n",
      "Epoch 14/15\n",
      "186/186 [==============================] - 0s 2ms/step - loss: 0.0718 - tp: 2906.0000 - fp: 8.0000 - tn: 2966.0000 - fn: 68.0000 - accuracy: 0.9872 - precision: 0.9973 - recall: 0.9771 - auc: 0.9988 - prc: 0.9986 - val_loss: 0.9590 - val_tp: 633.0000 - val_fp: 125.0000 - val_tn: 42.0000 - val_fn: 100.0000 - val_accuracy: 0.7500 - val_precision: 0.8351 - val_recall: 0.8636 - val_auc: 0.6021 - val_prc: 0.8585\n",
      "Epoch 15/15\n",
      "186/186 [==============================] - 1s 4ms/step - loss: 0.0629 - tp: 2918.0000 - fp: 7.0000 - tn: 2967.0000 - fn: 56.0000 - accuracy: 0.9894 - precision: 0.9976 - recall: 0.9812 - auc: 0.9992 - prc: 0.9989 - val_loss: 1.0087 - val_tp: 624.0000 - val_fp: 125.0000 - val_tn: 42.0000 - val_fn: 109.0000 - val_accuracy: 0.7400 - val_precision: 0.8331 - val_recall: 0.8513 - val_auc: 0.6031 - val_prc: 0.8597\n"
     ]
    }
   ],
   "source": [
    "history = model_over.fit(tf_train_dataset, validation_data=tf_val_dataset, epochs=15)"
   ]
  },
  {
   "cell_type": "markdown",
   "metadata": {},
   "source": [
    "# Without resampling"
   ]
  },
  {
   "cell_type": "code",
   "execution_count": 152,
   "metadata": {},
   "outputs": [],
   "source": [
    "extracted_train_features = get_features(train_features[:,1])\n",
    "\n",
    "tf_train_dataset = tf.data.Dataset.from_tensor_slices((extracted_train_features, train_labels))\n",
    "tf_val_dataset = tf.data.Dataset.from_tensor_slices((extracted_val_features, val_labels))\n",
    "tf_test_dataset = tf.data.Dataset.from_tensor_slices((extracted_test_features, test_labels))\n",
    "\n",
    "tf_train_dataset = tf_train_dataset.shuffle(5000).batch(BATCH_SIZE).prefetch(1)\n",
    "tf_val_dataset = tf_val_dataset.batch(BATCH_SIZE).prefetch(1)\n",
    "tf_test_dataset = tf_test_dataset.batch(BATCH_SIZE).prefetch(1)"
   ]
  },
  {
   "cell_type": "code",
   "execution_count": 153,
   "metadata": {},
   "outputs": [
    {
     "name": "stdout",
     "output_type": "stream",
     "text": [
      "Epoch 1/50\n",
      "225/225 [==============================] - 2s 8ms/step - loss: 0.5147 - tp: 3331.0000 - fp: 694.0000 - tn: 98.0000 - fn: 376.0000 - accuracy: 0.7622 - precision: 0.8276 - recall: 0.8986 - auc: 0.5336 - prc: 0.8469 - val_loss: 0.4741 - val_tp: 733.0000 - val_fp: 167.0000 - val_tn: 0.0000e+00 - val_fn: 0.0000e+00 - val_accuracy: 0.8144 - val_precision: 0.8144 - val_recall: 1.0000 - val_auc: 0.5838 - val_prc: 0.8519\n",
      "Epoch 2/50\n",
      "225/225 [==============================] - 1s 3ms/step - loss: 0.4344 - tp: 2974.0000 - fp: 625.0000 - tn: 0.0000e+00 - fn: 0.0000e+00 - accuracy: 0.8263 - precision: 0.8263 - recall: 1.0000 - auc: 0.6859 - prc: 0.9058 - val_loss: 0.4648 - val_tp: 733.0000 - val_fp: 167.0000 - val_tn: 0.0000e+00 - val_fn: 0.0000e+00 - val_accuracy: 0.8144 - val_precision: 0.8144 - val_recall: 1.0000 - val_auc: 0.6199 - val_prc: 0.8688\n",
      "Epoch 3/50\n",
      "225/225 [==============================] - 1s 2ms/step - loss: 0.4098 - tp: 2970.0000 - fp: 619.0000 - tn: 6.0000 - fn: 4.0000 - accuracy: 0.8269 - precision: 0.8275 - recall: 0.9987 - auc: 0.7576 - prc: 0.9319 - val_loss: 0.4634 - val_tp: 731.0000 - val_fp: 165.0000 - val_tn: 2.0000 - val_fn: 2.0000 - val_accuracy: 0.8144 - val_precision: 0.8158 - val_recall: 0.9973 - val_auc: 0.6313 - val_prc: 0.8762\n",
      "Epoch 4/50\n",
      "225/225 [==============================] - 1s 3ms/step - loss: 0.3896 - tp: 2965.0000 - fp: 598.0000 - tn: 27.0000 - fn: 9.0000 - accuracy: 0.8313 - precision: 0.8322 - recall: 0.9970 - auc: 0.7932 - prc: 0.9442 - val_loss: 0.4630 - val_tp: 728.0000 - val_fp: 161.0000 - val_tn: 6.0000 - val_fn: 5.0000 - val_accuracy: 0.8156 - val_precision: 0.8189 - val_recall: 0.9932 - val_auc: 0.6402 - val_prc: 0.8827\n",
      "Epoch 5/50\n",
      "225/225 [==============================] - 1s 3ms/step - loss: 0.3689 - tp: 2946.0000 - fp: 554.0000 - tn: 71.0000 - fn: 28.0000 - accuracy: 0.8383 - precision: 0.8417 - recall: 0.9906 - auc: 0.8229 - prc: 0.9538 - val_loss: 0.4695 - val_tp: 725.0000 - val_fp: 160.0000 - val_tn: 7.0000 - val_fn: 8.0000 - val_accuracy: 0.8133 - val_precision: 0.8192 - val_recall: 0.9891 - val_auc: 0.6398 - val_prc: 0.8844\n",
      "Epoch 6/50\n",
      "225/225 [==============================] - 0s 2ms/step - loss: 0.3481 - tp: 2944.0000 - fp: 517.0000 - tn: 108.0000 - fn: 30.0000 - accuracy: 0.8480 - precision: 0.8506 - recall: 0.9899 - auc: 0.8498 - prc: 0.9615 - val_loss: 0.4763 - val_tp: 720.0000 - val_fp: 158.0000 - val_tn: 9.0000 - val_fn: 13.0000 - val_accuracy: 0.8100 - val_precision: 0.8200 - val_recall: 0.9823 - val_auc: 0.6374 - val_prc: 0.8848\n",
      "Epoch 7/50\n",
      "225/225 [==============================] - 1s 2ms/step - loss: 0.3294 - tp: 2940.0000 - fp: 471.0000 - tn: 154.0000 - fn: 34.0000 - accuracy: 0.8597 - precision: 0.8619 - recall: 0.9886 - auc: 0.8689 - prc: 0.9669 - val_loss: 0.4802 - val_tp: 714.0000 - val_fp: 151.0000 - val_tn: 16.0000 - val_fn: 19.0000 - val_accuracy: 0.8111 - val_precision: 0.8254 - val_recall: 0.9741 - val_auc: 0.6382 - val_prc: 0.8864\n",
      "Epoch 8/50\n",
      "225/225 [==============================] - 1s 3ms/step - loss: 0.3117 - tp: 2940.0000 - fp: 443.0000 - tn: 182.0000 - fn: 34.0000 - accuracy: 0.8675 - precision: 0.8691 - recall: 0.9886 - auc: 0.8873 - prc: 0.9721 - val_loss: 0.4887 - val_tp: 710.0000 - val_fp: 151.0000 - val_tn: 16.0000 - val_fn: 23.0000 - val_accuracy: 0.8067 - val_precision: 0.8246 - val_recall: 0.9686 - val_auc: 0.6364 - val_prc: 0.8862\n",
      "Epoch 9/50\n",
      "225/225 [==============================] - 1s 2ms/step - loss: 0.2944 - tp: 2941.0000 - fp: 412.0000 - tn: 213.0000 - fn: 33.0000 - accuracy: 0.8764 - precision: 0.8771 - recall: 0.9889 - auc: 0.9046 - prc: 0.9768 - val_loss: 0.5053 - val_tp: 703.0000 - val_fp: 151.0000 - val_tn: 16.0000 - val_fn: 30.0000 - val_accuracy: 0.7989 - val_precision: 0.8232 - val_recall: 0.9591 - val_auc: 0.6317 - val_prc: 0.8858\n",
      "Epoch 10/50\n",
      "225/225 [==============================] - 0s 2ms/step - loss: 0.2809 - tp: 2936.0000 - fp: 387.0000 - tn: 238.0000 - fn: 38.0000 - accuracy: 0.8819 - precision: 0.8835 - recall: 0.9872 - auc: 0.9141 - prc: 0.9795 - val_loss: 0.5136 - val_tp: 687.0000 - val_fp: 146.0000 - val_tn: 21.0000 - val_fn: 46.0000 - val_accuracy: 0.7867 - val_precision: 0.8247 - val_recall: 0.9372 - val_auc: 0.6313 - val_prc: 0.8843\n",
      "Epoch 11/50\n",
      "225/225 [==============================] - 1s 2ms/step - loss: 0.2661 - tp: 2932.0000 - fp: 346.0000 - tn: 279.0000 - fn: 42.0000 - accuracy: 0.8922 - precision: 0.8944 - recall: 0.9859 - auc: 0.9261 - prc: 0.9827 - val_loss: 0.5254 - val_tp: 703.0000 - val_fp: 147.0000 - val_tn: 20.0000 - val_fn: 30.0000 - val_accuracy: 0.8033 - val_precision: 0.8271 - val_recall: 0.9591 - val_auc: 0.6263 - val_prc: 0.8826\n",
      "Epoch 12/50\n",
      "225/225 [==============================] - 0s 2ms/step - loss: 0.2535 - tp: 2936.0000 - fp: 341.0000 - tn: 284.0000 - fn: 38.0000 - accuracy: 0.8947 - precision: 0.8959 - recall: 0.9872 - auc: 0.9360 - prc: 0.9852 - val_loss: 0.5406 - val_tp: 699.0000 - val_fp: 148.0000 - val_tn: 19.0000 - val_fn: 34.0000 - val_accuracy: 0.7978 - val_precision: 0.8253 - val_recall: 0.9536 - val_auc: 0.6248 - val_prc: 0.8791\n",
      "Epoch 13/50\n",
      "225/225 [==============================] - 1s 2ms/step - loss: 0.2415 - tp: 2935.0000 - fp: 312.0000 - tn: 313.0000 - fn: 39.0000 - accuracy: 0.9025 - precision: 0.9039 - recall: 0.9869 - auc: 0.9428 - prc: 0.9867 - val_loss: 0.5450 - val_tp: 677.0000 - val_fp: 141.0000 - val_tn: 26.0000 - val_fn: 56.0000 - val_accuracy: 0.7811 - val_precision: 0.8276 - val_recall: 0.9236 - val_auc: 0.6287 - val_prc: 0.8821\n",
      "Epoch 14/50\n",
      "225/225 [==============================] - 1s 2ms/step - loss: 0.2298 - tp: 2931.0000 - fp: 290.0000 - tn: 335.0000 - fn: 43.0000 - accuracy: 0.9075 - precision: 0.9100 - recall: 0.9855 - auc: 0.9502 - prc: 0.9885 - val_loss: 0.5628 - val_tp: 687.0000 - val_fp: 146.0000 - val_tn: 21.0000 - val_fn: 46.0000 - val_accuracy: 0.7867 - val_precision: 0.8247 - val_recall: 0.9372 - val_auc: 0.6240 - val_prc: 0.8779\n",
      "Epoch 15/50\n",
      "225/225 [==============================] - 1s 2ms/step - loss: 0.2187 - tp: 2933.0000 - fp: 271.0000 - tn: 354.0000 - fn: 41.0000 - accuracy: 0.9133 - precision: 0.9154 - recall: 0.9862 - auc: 0.9564 - prc: 0.9899 - val_loss: 0.5856 - val_tp: 693.0000 - val_fp: 146.0000 - val_tn: 21.0000 - val_fn: 40.0000 - val_accuracy: 0.7933 - val_precision: 0.8260 - val_recall: 0.9454 - val_auc: 0.6226 - val_prc: 0.8758\n",
      "Epoch 16/50\n",
      "225/225 [==============================] - 0s 2ms/step - loss: 0.2087 - tp: 2935.0000 - fp: 256.0000 - tn: 369.0000 - fn: 39.0000 - accuracy: 0.9180 - precision: 0.9198 - recall: 0.9869 - auc: 0.9620 - prc: 0.9914 - val_loss: 0.5995 - val_tp: 686.0000 - val_fp: 144.0000 - val_tn: 23.0000 - val_fn: 47.0000 - val_accuracy: 0.7878 - val_precision: 0.8265 - val_recall: 0.9359 - val_auc: 0.6239 - val_prc: 0.8765\n",
      "Epoch 17/50\n",
      "225/225 [==============================] - 1s 2ms/step - loss: 0.1992 - tp: 2935.0000 - fp: 237.0000 - tn: 388.0000 - fn: 39.0000 - accuracy: 0.9233 - precision: 0.9253 - recall: 0.9869 - auc: 0.9656 - prc: 0.9922 - val_loss: 0.6085 - val_tp: 680.0000 - val_fp: 141.0000 - val_tn: 26.0000 - val_fn: 53.0000 - val_accuracy: 0.7844 - val_precision: 0.8283 - val_recall: 0.9277 - val_auc: 0.6227 - val_prc: 0.8753\n",
      "Epoch 18/50\n",
      "225/225 [==============================] - 1s 3ms/step - loss: 0.1901 - tp: 2936.0000 - fp: 212.0000 - tn: 413.0000 - fn: 38.0000 - accuracy: 0.9305 - precision: 0.9327 - recall: 0.9872 - auc: 0.9705 - prc: 0.9934 - val_loss: 0.6333 - val_tp: 680.0000 - val_fp: 142.0000 - val_tn: 25.0000 - val_fn: 53.0000 - val_accuracy: 0.7833 - val_precision: 0.8273 - val_recall: 0.9277 - val_auc: 0.6215 - val_prc: 0.8739\n",
      "Epoch 19/50\n",
      "225/225 [==============================] - 1s 2ms/step - loss: 0.1815 - tp: 2934.0000 - fp: 203.0000 - tn: 422.0000 - fn: 40.0000 - accuracy: 0.9325 - precision: 0.9353 - recall: 0.9866 - auc: 0.9737 - prc: 0.9942 - val_loss: 0.6376 - val_tp: 669.0000 - val_fp: 140.0000 - val_tn: 27.0000 - val_fn: 64.0000 - val_accuracy: 0.7733 - val_precision: 0.8269 - val_recall: 0.9127 - val_auc: 0.6243 - val_prc: 0.8739\n",
      "Epoch 20/50\n",
      "225/225 [==============================] - 0s 2ms/step - loss: 0.1733 - tp: 2932.0000 - fp: 182.0000 - tn: 443.0000 - fn: 42.0000 - accuracy: 0.9378 - precision: 0.9416 - recall: 0.9859 - auc: 0.9768 - prc: 0.9949 - val_loss: 0.6584 - val_tp: 666.0000 - val_fp: 141.0000 - val_tn: 26.0000 - val_fn: 67.0000 - val_accuracy: 0.7689 - val_precision: 0.8253 - val_recall: 0.9086 - val_auc: 0.6209 - val_prc: 0.8727\n",
      "Epoch 21/50\n",
      "225/225 [==============================] - 1s 2ms/step - loss: 0.1653 - tp: 2932.0000 - fp: 165.0000 - tn: 460.0000 - fn: 42.0000 - accuracy: 0.9425 - precision: 0.9467 - recall: 0.9859 - auc: 0.9800 - prc: 0.9956 - val_loss: 0.6781 - val_tp: 667.0000 - val_fp: 141.0000 - val_tn: 26.0000 - val_fn: 66.0000 - val_accuracy: 0.7700 - val_precision: 0.8255 - val_recall: 0.9100 - val_auc: 0.6191 - val_prc: 0.8701\n",
      "Epoch 22/50\n",
      "225/225 [==============================] - 1s 2ms/step - loss: 0.1577 - tp: 2931.0000 - fp: 144.0000 - tn: 481.0000 - fn: 43.0000 - accuracy: 0.9480 - precision: 0.9532 - recall: 0.9855 - auc: 0.9816 - prc: 0.9960 - val_loss: 0.7108 - val_tp: 680.0000 - val_fp: 142.0000 - val_tn: 25.0000 - val_fn: 53.0000 - val_accuracy: 0.7833 - val_precision: 0.8273 - val_recall: 0.9277 - val_auc: 0.6142 - val_prc: 0.8674\n",
      "Epoch 23/50\n",
      "225/225 [==============================] - 0s 2ms/step - loss: 0.1502 - tp: 2934.0000 - fp: 136.0000 - tn: 489.0000 - fn: 40.0000 - accuracy: 0.9511 - precision: 0.9557 - recall: 0.9866 - auc: 0.9842 - prc: 0.9966 - val_loss: 0.7424 - val_tp: 675.0000 - val_fp: 140.0000 - val_tn: 27.0000 - val_fn: 58.0000 - val_accuracy: 0.7800 - val_precision: 0.8282 - val_recall: 0.9209 - val_auc: 0.6147 - val_prc: 0.8674\n",
      "Epoch 24/50\n",
      "225/225 [==============================] - 0s 2ms/step - loss: 0.1443 - tp: 2934.0000 - fp: 137.0000 - tn: 488.0000 - fn: 40.0000 - accuracy: 0.9508 - precision: 0.9554 - recall: 0.9866 - auc: 0.9855 - prc: 0.9969 - val_loss: 0.7409 - val_tp: 666.0000 - val_fp: 137.0000 - val_tn: 30.0000 - val_fn: 67.0000 - val_accuracy: 0.7733 - val_precision: 0.8294 - val_recall: 0.9086 - val_auc: 0.6165 - val_prc: 0.8675\n",
      "Epoch 25/50\n",
      "225/225 [==============================] - 0s 2ms/step - loss: 0.1375 - tp: 2932.0000 - fp: 110.0000 - tn: 515.0000 - fn: 42.0000 - accuracy: 0.9578 - precision: 0.9638 - recall: 0.9859 - auc: 0.9861 - prc: 0.9970 - val_loss: 0.7709 - val_tp: 657.0000 - val_fp: 135.0000 - val_tn: 32.0000 - val_fn: 76.0000 - val_accuracy: 0.7656 - val_precision: 0.8295 - val_recall: 0.8963 - val_auc: 0.6154 - val_prc: 0.8669\n",
      "Epoch 26/50\n",
      "225/225 [==============================] - 1s 2ms/step - loss: 0.1315 - tp: 2936.0000 - fp: 101.0000 - tn: 524.0000 - fn: 38.0000 - accuracy: 0.9614 - precision: 0.9667 - recall: 0.9872 - auc: 0.9883 - prc: 0.9975 - val_loss: 0.7965 - val_tp: 669.0000 - val_fp: 137.0000 - val_tn: 30.0000 - val_fn: 64.0000 - val_accuracy: 0.7767 - val_precision: 0.8300 - val_recall: 0.9127 - val_auc: 0.6119 - val_prc: 0.8628\n",
      "Epoch 27/50\n",
      "225/225 [==============================] - 1s 2ms/step - loss: 0.1257 - tp: 2933.0000 - fp: 90.0000 - tn: 535.0000 - fn: 41.0000 - accuracy: 0.9636 - precision: 0.9702 - recall: 0.9862 - auc: 0.9895 - prc: 0.9978 - val_loss: 0.8126 - val_tp: 668.0000 - val_fp: 138.0000 - val_tn: 29.0000 - val_fn: 65.0000 - val_accuracy: 0.7744 - val_precision: 0.8288 - val_recall: 0.9113 - val_auc: 0.6129 - val_prc: 0.8627\n",
      "Epoch 28/50\n",
      "225/225 [==============================] - 1s 3ms/step - loss: 0.1207 - tp: 2935.0000 - fp: 80.0000 - tn: 545.0000 - fn: 39.0000 - accuracy: 0.9669 - precision: 0.9735 - recall: 0.9869 - auc: 0.9900 - prc: 0.9979 - val_loss: 0.8413 - val_tp: 655.0000 - val_fp: 137.0000 - val_tn: 30.0000 - val_fn: 78.0000 - val_accuracy: 0.7611 - val_precision: 0.8270 - val_recall: 0.8936 - val_auc: 0.6065 - val_prc: 0.8581\n",
      "Epoch 29/50\n",
      "225/225 [==============================] - 1s 2ms/step - loss: 0.1147 - tp: 2939.0000 - fp: 69.0000 - tn: 556.0000 - fn: 35.0000 - accuracy: 0.9711 - precision: 0.9771 - recall: 0.9882 - auc: 0.9910 - prc: 0.9981 - val_loss: 0.8716 - val_tp: 664.0000 - val_fp: 136.0000 - val_tn: 31.0000 - val_fn: 69.0000 - val_accuracy: 0.7722 - val_precision: 0.8300 - val_recall: 0.9059 - val_auc: 0.6077 - val_prc: 0.8584\n",
      "Epoch 30/50\n",
      "225/225 [==============================] - 1s 3ms/step - loss: 0.1105 - tp: 2939.0000 - fp: 69.0000 - tn: 556.0000 - fn: 35.0000 - accuracy: 0.9711 - precision: 0.9771 - recall: 0.9882 - auc: 0.9913 - prc: 0.9982 - val_loss: 0.8908 - val_tp: 660.0000 - val_fp: 136.0000 - val_tn: 31.0000 - val_fn: 73.0000 - val_accuracy: 0.7678 - val_precision: 0.8291 - val_recall: 0.9004 - val_auc: 0.6042 - val_prc: 0.8562\n",
      "Epoch 31/50\n",
      "225/225 [==============================] - 1s 3ms/step - loss: 0.1050 - tp: 2939.0000 - fp: 61.0000 - tn: 564.0000 - fn: 35.0000 - accuracy: 0.9733 - precision: 0.9797 - recall: 0.9882 - auc: 0.9921 - prc: 0.9984 - val_loss: 0.9279 - val_tp: 652.0000 - val_fp: 136.0000 - val_tn: 31.0000 - val_fn: 81.0000 - val_accuracy: 0.7589 - val_precision: 0.8274 - val_recall: 0.8895 - val_auc: 0.6034 - val_prc: 0.8560\n",
      "Epoch 32/50\n",
      "225/225 [==============================] - 1s 2ms/step - loss: 0.1009 - tp: 2938.0000 - fp: 52.0000 - tn: 573.0000 - fn: 36.0000 - accuracy: 0.9755 - precision: 0.9826 - recall: 0.9879 - auc: 0.9927 - prc: 0.9985 - val_loss: 0.9514 - val_tp: 653.0000 - val_fp: 136.0000 - val_tn: 31.0000 - val_fn: 80.0000 - val_accuracy: 0.7600 - val_precision: 0.8276 - val_recall: 0.8909 - val_auc: 0.6010 - val_prc: 0.8546\n",
      "Epoch 33/50\n",
      "225/225 [==============================] - 1s 3ms/step - loss: 0.0965 - tp: 2939.0000 - fp: 46.0000 - tn: 579.0000 - fn: 35.0000 - accuracy: 0.9775 - precision: 0.9846 - recall: 0.9882 - auc: 0.9930 - prc: 0.9986 - val_loss: 0.9734 - val_tp: 652.0000 - val_fp: 136.0000 - val_tn: 31.0000 - val_fn: 81.0000 - val_accuracy: 0.7589 - val_precision: 0.8274 - val_recall: 0.8895 - val_auc: 0.6034 - val_prc: 0.8558\n",
      "Epoch 34/50\n",
      "225/225 [==============================] - 1s 3ms/step - loss: 0.0921 - tp: 2937.0000 - fp: 44.0000 - tn: 581.0000 - fn: 37.0000 - accuracy: 0.9775 - precision: 0.9852 - recall: 0.9876 - auc: 0.9934 - prc: 0.9987 - val_loss: 1.0056 - val_tp: 658.0000 - val_fp: 136.0000 - val_tn: 31.0000 - val_fn: 75.0000 - val_accuracy: 0.7656 - val_precision: 0.8287 - val_recall: 0.8977 - val_auc: 0.6016 - val_prc: 0.8547\n",
      "Epoch 35/50\n",
      "225/225 [==============================] - 1s 3ms/step - loss: 0.0886 - tp: 2939.0000 - fp: 39.0000 - tn: 586.0000 - fn: 35.0000 - accuracy: 0.9794 - precision: 0.9869 - recall: 0.9882 - auc: 0.9936 - prc: 0.9987 - val_loss: 1.0556 - val_tp: 665.0000 - val_fp: 137.0000 - val_tn: 30.0000 - val_fn: 68.0000 - val_accuracy: 0.7722 - val_precision: 0.8292 - val_recall: 0.9072 - val_auc: 0.5939 - val_prc: 0.8495\n",
      "Epoch 36/50\n",
      "225/225 [==============================] - 1s 3ms/step - loss: 0.0847 - tp: 2937.0000 - fp: 37.0000 - tn: 588.0000 - fn: 37.0000 - accuracy: 0.9794 - precision: 0.9876 - recall: 0.9876 - auc: 0.9938 - prc: 0.9988 - val_loss: 1.0528 - val_tp: 649.0000 - val_fp: 133.0000 - val_tn: 34.0000 - val_fn: 84.0000 - val_accuracy: 0.7589 - val_precision: 0.8299 - val_recall: 0.8854 - val_auc: 0.6032 - val_prc: 0.8543\n",
      "Epoch 37/50\n",
      "225/225 [==============================] - 1s 3ms/step - loss: 0.0815 - tp: 2939.0000 - fp: 30.0000 - tn: 595.0000 - fn: 35.0000 - accuracy: 0.9819 - precision: 0.9899 - recall: 0.9882 - auc: 0.9940 - prc: 0.9988 - val_loss: 1.1043 - val_tp: 655.0000 - val_fp: 136.0000 - val_tn: 31.0000 - val_fn: 78.0000 - val_accuracy: 0.7622 - val_precision: 0.8281 - val_recall: 0.8936 - val_auc: 0.5947 - val_prc: 0.8498\n",
      "Epoch 38/50\n",
      "225/225 [==============================] - 1s 2ms/step - loss: 0.0778 - tp: 2943.0000 - fp: 30.0000 - tn: 595.0000 - fn: 31.0000 - accuracy: 0.9831 - precision: 0.9899 - recall: 0.9896 - auc: 0.9943 - prc: 0.9988 - val_loss: 1.1326 - val_tp: 656.0000 - val_fp: 136.0000 - val_tn: 31.0000 - val_fn: 77.0000 - val_accuracy: 0.7633 - val_precision: 0.8283 - val_recall: 0.8950 - val_auc: 0.5980 - val_prc: 0.8518\n",
      "Epoch 39/50\n",
      "225/225 [==============================] - 1s 3ms/step - loss: 0.0749 - tp: 2943.0000 - fp: 30.0000 - tn: 595.0000 - fn: 31.0000 - accuracy: 0.9831 - precision: 0.9899 - recall: 0.9896 - auc: 0.9944 - prc: 0.9989 - val_loss: 1.1550 - val_tp: 645.0000 - val_fp: 131.0000 - val_tn: 36.0000 - val_fn: 88.0000 - val_accuracy: 0.7567 - val_precision: 0.8312 - val_recall: 0.8799 - val_auc: 0.5962 - val_prc: 0.8508\n",
      "Epoch 40/50\n",
      "225/225 [==============================] - 1s 3ms/step - loss: 0.0717 - tp: 2939.0000 - fp: 23.0000 - tn: 602.0000 - fn: 35.0000 - accuracy: 0.9839 - precision: 0.9922 - recall: 0.9882 - auc: 0.9948 - prc: 0.9990 - val_loss: 1.1840 - val_tp: 654.0000 - val_fp: 132.0000 - val_tn: 35.0000 - val_fn: 79.0000 - val_accuracy: 0.7656 - val_precision: 0.8321 - val_recall: 0.8922 - val_auc: 0.5917 - val_prc: 0.8478\n",
      "Epoch 41/50\n",
      "225/225 [==============================] - 1s 3ms/step - loss: 0.0689 - tp: 2943.0000 - fp: 20.0000 - tn: 605.0000 - fn: 31.0000 - accuracy: 0.9858 - precision: 0.9933 - recall: 0.9896 - auc: 0.9948 - prc: 0.9990 - val_loss: 1.2239 - val_tp: 652.0000 - val_fp: 133.0000 - val_tn: 34.0000 - val_fn: 81.0000 - val_accuracy: 0.7622 - val_precision: 0.8306 - val_recall: 0.8895 - val_auc: 0.5862 - val_prc: 0.8453\n",
      "Epoch 42/50\n",
      "225/225 [==============================] - 1s 2ms/step - loss: 0.0668 - tp: 2941.0000 - fp: 20.0000 - tn: 605.0000 - fn: 33.0000 - accuracy: 0.9853 - precision: 0.9932 - recall: 0.9889 - auc: 0.9952 - prc: 0.9990 - val_loss: 1.2471 - val_tp: 648.0000 - val_fp: 131.0000 - val_tn: 36.0000 - val_fn: 85.0000 - val_accuracy: 0.7600 - val_precision: 0.8318 - val_recall: 0.8840 - val_auc: 0.5822 - val_prc: 0.8431\n",
      "Epoch 43/50\n",
      "225/225 [==============================] - 1s 2ms/step - loss: 0.0641 - tp: 2940.0000 - fp: 16.0000 - tn: 609.0000 - fn: 34.0000 - accuracy: 0.9861 - precision: 0.9946 - recall: 0.9886 - auc: 0.9950 - prc: 0.9990 - val_loss: 1.2797 - val_tp: 649.0000 - val_fp: 133.0000 - val_tn: 34.0000 - val_fn: 84.0000 - val_accuracy: 0.7589 - val_precision: 0.8299 - val_recall: 0.8854 - val_auc: 0.5823 - val_prc: 0.8432\n",
      "Epoch 44/50\n",
      "225/225 [==============================] - 1s 2ms/step - loss: 0.0621 - tp: 2944.0000 - fp: 12.0000 - tn: 613.0000 - fn: 30.0000 - accuracy: 0.9883 - precision: 0.9959 - recall: 0.9899 - auc: 0.9950 - prc: 0.9990 - val_loss: 1.3122 - val_tp: 646.0000 - val_fp: 133.0000 - val_tn: 34.0000 - val_fn: 87.0000 - val_accuracy: 0.7556 - val_precision: 0.8293 - val_recall: 0.8813 - val_auc: 0.5845 - val_prc: 0.8442\n",
      "Epoch 45/50\n",
      "225/225 [==============================] - 1s 2ms/step - loss: 0.0595 - tp: 2941.0000 - fp: 8.0000 - tn: 617.0000 - fn: 33.0000 - accuracy: 0.9886 - precision: 0.9973 - recall: 0.9889 - auc: 0.9951 - prc: 0.9991 - val_loss: 1.3570 - val_tp: 652.0000 - val_fp: 133.0000 - val_tn: 34.0000 - val_fn: 81.0000 - val_accuracy: 0.7622 - val_precision: 0.8306 - val_recall: 0.8895 - val_auc: 0.5928 - val_prc: 0.8483\n",
      "Epoch 46/50\n",
      "225/225 [==============================] - 1s 3ms/step - loss: 0.0576 - tp: 2946.0000 - fp: 9.0000 - tn: 616.0000 - fn: 28.0000 - accuracy: 0.9897 - precision: 0.9970 - recall: 0.9906 - auc: 0.9953 - prc: 0.9991 - val_loss: 1.3674 - val_tp: 640.0000 - val_fp: 131.0000 - val_tn: 36.0000 - val_fn: 93.0000 - val_accuracy: 0.7511 - val_precision: 0.8301 - val_recall: 0.8731 - val_auc: 0.5878 - val_prc: 0.8461\n",
      "Epoch 47/50\n",
      "225/225 [==============================] - 1s 3ms/step - loss: 0.0563 - tp: 2940.0000 - fp: 8.0000 - tn: 617.0000 - fn: 34.0000 - accuracy: 0.9883 - precision: 0.9973 - recall: 0.9886 - auc: 0.9958 - prc: 0.9992 - val_loss: 1.4118 - val_tp: 648.0000 - val_fp: 134.0000 - val_tn: 33.0000 - val_fn: 85.0000 - val_accuracy: 0.7567 - val_precision: 0.8286 - val_recall: 0.8840 - val_auc: 0.5911 - val_prc: 0.8478\n",
      "Epoch 48/50\n",
      "225/225 [==============================] - 1s 2ms/step - loss: 0.0538 - tp: 2944.0000 - fp: 8.0000 - tn: 617.0000 - fn: 30.0000 - accuracy: 0.9894 - precision: 0.9973 - recall: 0.9899 - auc: 0.9961 - prc: 0.9992 - val_loss: 1.4392 - val_tp: 651.0000 - val_fp: 135.0000 - val_tn: 32.0000 - val_fn: 82.0000 - val_accuracy: 0.7589 - val_precision: 0.8282 - val_recall: 0.8881 - val_auc: 0.5901 - val_prc: 0.8476\n",
      "Epoch 49/50\n",
      "225/225 [==============================] - 0s 2ms/step - loss: 0.0518 - tp: 2945.0000 - fp: 6.0000 - tn: 619.0000 - fn: 29.0000 - accuracy: 0.9903 - precision: 0.9980 - recall: 0.9902 - auc: 0.9959 - prc: 0.9992 - val_loss: 1.4625 - val_tp: 652.0000 - val_fp: 133.0000 - val_tn: 34.0000 - val_fn: 81.0000 - val_accuracy: 0.7622 - val_precision: 0.8306 - val_recall: 0.8895 - val_auc: 0.5941 - val_prc: 0.8492\n",
      "Epoch 50/50\n",
      "225/225 [==============================] - 1s 2ms/step - loss: 0.0497 - tp: 2945.0000 - fp: 4.0000 - tn: 621.0000 - fn: 29.0000 - accuracy: 0.9908 - precision: 0.9986 - recall: 0.9902 - auc: 0.9959 - prc: 0.9992 - val_loss: 1.5326 - val_tp: 655.0000 - val_fp: 135.0000 - val_tn: 32.0000 - val_fn: 78.0000 - val_accuracy: 0.7633 - val_precision: 0.8291 - val_recall: 0.8936 - val_auc: 0.5938 - val_prc: 0.8496\n"
     ]
    }
   ],
   "source": [
    "model = make_simple_model()\n",
    "history = model.fit(tf_train_dataset, validation_data=tf_val_dataset, epochs=50)"
   ]
  },
  {
   "cell_type": "code",
   "execution_count": null,
   "metadata": {},
   "outputs": [],
   "source": []
  },
  {
   "cell_type": "markdown",
   "metadata": {},
   "source": [
    "# One batch"
   ]
  },
  {
   "cell_type": "code",
   "execution_count": 103,
   "metadata": {},
   "outputs": [],
   "source": [
    "for batch in tf_train_dataset:\n",
    "    break"
   ]
  },
  {
   "cell_type": "code",
   "execution_count": 138,
   "metadata": {},
   "outputs": [
    {
     "data": {
      "text/plain": [
       "(<tf.Tensor: shape=(32, 2048), dtype=int32, numpy=\n",
       " array([[0, 0, 0, ..., 0, 0, 0],\n",
       "        [0, 0, 0, ..., 0, 0, 0],\n",
       "        [0, 0, 0, ..., 0, 0, 0],\n",
       "        ...,\n",
       "        [0, 0, 0, ..., 0, 0, 0],\n",
       "        [0, 0, 0, ..., 0, 0, 0],\n",
       "        [0, 0, 0, ..., 0, 0, 0]])>,\n",
       " <tf.Tensor: shape=(32,), dtype=int64, numpy=\n",
       " array([1, 0, 0, 1, 0, 1, 1, 1, 1, 0, 1, 0, 1, 1, 1, 1, 1, 0, 1, 1, 1, 1,\n",
       "        0, 1, 1, 1, 0, 1, 0, 1, 0, 1], dtype=int64)>)"
      ]
     },
     "execution_count": 138,
     "metadata": {},
     "output_type": "execute_result"
    }
   ],
   "source": [
    "batch"
   ]
  },
  {
   "cell_type": "code",
   "execution_count": 134,
   "metadata": {},
   "outputs": [],
   "source": [
    "feat, labs = batch"
   ]
  },
  {
   "cell_type": "code",
   "execution_count": 148,
   "metadata": {},
   "outputs": [
    {
     "name": "stdout",
     "output_type": "stream",
     "text": [
      "Epoch 1/100\n",
      "1/1 [==============================] - 0s 1ms/step - loss: 0.9494 - tp: 0.0000e+00 - fp: 0.0000e+00 - tn: 10.0000 - fn: 22.0000 - accuracy: 0.3125 - precision: 0.0000e+00 - recall: 0.0000e+00 - auc: 0.5455 - prc: 0.6746\n",
      "Epoch 2/100\n",
      "1/1 [==============================] - 0s 2ms/step - loss: 0.9386 - tp: 0.0000e+00 - fp: 0.0000e+00 - tn: 10.0000 - fn: 22.0000 - accuracy: 0.3125 - precision: 0.0000e+00 - recall: 0.0000e+00 - auc: 0.6068 - prc: 0.7088\n",
      "Epoch 3/100\n",
      "1/1 [==============================] - 0s 999us/step - loss: 0.9284 - tp: 0.0000e+00 - fp: 0.0000e+00 - tn: 10.0000 - fn: 22.0000 - accuracy: 0.3125 - precision: 0.0000e+00 - recall: 0.0000e+00 - auc: 0.6477 - prc: 0.7261\n",
      "Epoch 4/100\n",
      "1/1 [==============================] - 0s 2ms/step - loss: 0.9201 - tp: 0.0000e+00 - fp: 0.0000e+00 - tn: 10.0000 - fn: 22.0000 - accuracy: 0.3125 - precision: 0.0000e+00 - recall: 0.0000e+00 - auc: 0.7045 - prc: 0.7883\n",
      "Epoch 5/100\n",
      "1/1 [==============================] - 0s 1ms/step - loss: 0.9123 - tp: 0.0000e+00 - fp: 0.0000e+00 - tn: 10.0000 - fn: 22.0000 - accuracy: 0.3125 - precision: 0.0000e+00 - recall: 0.0000e+00 - auc: 0.7500 - prc: 0.8382\n",
      "Epoch 6/100\n",
      "1/1 [==============================] - 0s 2ms/step - loss: 0.9055 - tp: 0.0000e+00 - fp: 0.0000e+00 - tn: 10.0000 - fn: 22.0000 - accuracy: 0.3125 - precision: 0.0000e+00 - recall: 0.0000e+00 - auc: 0.7705 - prc: 0.8536\n",
      "Epoch 7/100\n",
      "1/1 [==============================] - 0s 2ms/step - loss: 0.8982 - tp: 0.0000e+00 - fp: 0.0000e+00 - tn: 10.0000 - fn: 22.0000 - accuracy: 0.3125 - precision: 0.0000e+00 - recall: 0.0000e+00 - auc: 0.7773 - prc: 0.8672\n",
      "Epoch 8/100\n",
      "1/1 [==============================] - 0s 1ms/step - loss: 0.8904 - tp: 0.0000e+00 - fp: 0.0000e+00 - tn: 10.0000 - fn: 22.0000 - accuracy: 0.3125 - precision: 0.0000e+00 - recall: 0.0000e+00 - auc: 0.7818 - prc: 0.8742\n",
      "Epoch 9/100\n",
      "1/1 [==============================] - 0s 1ms/step - loss: 0.8820 - tp: 0.0000e+00 - fp: 0.0000e+00 - tn: 10.0000 - fn: 22.0000 - accuracy: 0.3125 - precision: 0.0000e+00 - recall: 0.0000e+00 - auc: 0.7909 - prc: 0.8803\n",
      "Epoch 10/100\n",
      "1/1 [==============================] - 0s 3ms/step - loss: 0.8726 - tp: 0.0000e+00 - fp: 0.0000e+00 - tn: 10.0000 - fn: 22.0000 - accuracy: 0.3125 - precision: 0.0000e+00 - recall: 0.0000e+00 - auc: 0.8068 - prc: 0.8947\n",
      "Epoch 11/100\n",
      "1/1 [==============================] - 0s 2ms/step - loss: 0.8622 - tp: 0.0000e+00 - fp: 0.0000e+00 - tn: 10.0000 - fn: 22.0000 - accuracy: 0.3125 - precision: 0.0000e+00 - recall: 0.0000e+00 - auc: 0.8636 - prc: 0.9333\n",
      "Epoch 12/100\n",
      "1/1 [==============================] - 0s 3ms/step - loss: 0.8503 - tp: 0.0000e+00 - fp: 0.0000e+00 - tn: 10.0000 - fn: 22.0000 - accuracy: 0.3125 - precision: 0.0000e+00 - recall: 0.0000e+00 - auc: 0.8477 - prc: 0.9241\n",
      "Epoch 13/100\n",
      "1/1 [==============================] - 0s 1ms/step - loss: 0.8372 - tp: 0.0000e+00 - fp: 0.0000e+00 - tn: 10.0000 - fn: 22.0000 - accuracy: 0.3125 - precision: 0.0000e+00 - recall: 0.0000e+00 - auc: 0.8591 - prc: 0.9309\n",
      "Epoch 14/100\n",
      "1/1 [==============================] - 0s 3ms/step - loss: 0.8231 - tp: 0.0000e+00 - fp: 0.0000e+00 - tn: 10.0000 - fn: 22.0000 - accuracy: 0.3125 - precision: 0.0000e+00 - recall: 0.0000e+00 - auc: 0.8614 - prc: 0.9327\n",
      "Epoch 15/100\n",
      "1/1 [==============================] - 0s 3ms/step - loss: 0.8078 - tp: 1.0000 - fp: 0.0000e+00 - tn: 10.0000 - fn: 21.0000 - accuracy: 0.3438 - precision: 1.0000 - recall: 0.0455 - auc: 0.8818 - prc: 0.9435\n",
      "Epoch 16/100\n",
      "1/1 [==============================] - 0s 2ms/step - loss: 0.7912 - tp: 3.0000 - fp: 0.0000e+00 - tn: 10.0000 - fn: 19.0000 - accuracy: 0.4062 - precision: 1.0000 - recall: 0.1364 - auc: 0.8841 - prc: 0.9452\n",
      "Epoch 17/100\n",
      "1/1 [==============================] - 0s 1ms/step - loss: 0.7738 - tp: 3.0000 - fp: 0.0000e+00 - tn: 10.0000 - fn: 19.0000 - accuracy: 0.4062 - precision: 1.0000 - recall: 0.1364 - auc: 0.9091 - prc: 0.9584\n",
      "Epoch 18/100\n",
      "1/1 [==============================] - 0s 6ms/step - loss: 0.7545 - tp: 3.0000 - fp: 0.0000e+00 - tn: 10.0000 - fn: 19.0000 - accuracy: 0.4062 - precision: 1.0000 - recall: 0.1364 - auc: 0.9295 - prc: 0.9666\n",
      "Epoch 19/100\n",
      "1/1 [==============================] - 0s 1ms/step - loss: 0.7335 - tp: 3.0000 - fp: 0.0000e+00 - tn: 10.0000 - fn: 19.0000 - accuracy: 0.4062 - precision: 1.0000 - recall: 0.1364 - auc: 0.9386 - prc: 0.9710\n",
      "Epoch 20/100\n",
      "1/1 [==============================] - 0s 2ms/step - loss: 0.7116 - tp: 5.0000 - fp: 0.0000e+00 - tn: 10.0000 - fn: 17.0000 - accuracy: 0.4688 - precision: 1.0000 - recall: 0.2273 - auc: 0.9545 - prc: 0.9794\n",
      "Epoch 21/100\n",
      "1/1 [==============================] - 0s 2ms/step - loss: 0.6896 - tp: 6.0000 - fp: 0.0000e+00 - tn: 10.0000 - fn: 16.0000 - accuracy: 0.5000 - precision: 1.0000 - recall: 0.2727 - auc: 0.9500 - prc: 0.9779\n",
      "Epoch 22/100\n",
      "1/1 [==============================] - 0s 3ms/step - loss: 0.6678 - tp: 6.0000 - fp: 0.0000e+00 - tn: 10.0000 - fn: 16.0000 - accuracy: 0.5000 - precision: 1.0000 - recall: 0.2727 - auc: 0.9523 - prc: 0.9792\n",
      "Epoch 23/100\n",
      "1/1 [==============================] - 0s 2ms/step - loss: 0.6461 - tp: 7.0000 - fp: 0.0000e+00 - tn: 10.0000 - fn: 15.0000 - accuracy: 0.5312 - precision: 1.0000 - recall: 0.3182 - auc: 0.9477 - prc: 0.9778\n",
      "Epoch 24/100\n",
      "1/1 [==============================] - 0s 3ms/step - loss: 0.6248 - tp: 9.0000 - fp: 0.0000e+00 - tn: 10.0000 - fn: 13.0000 - accuracy: 0.5938 - precision: 1.0000 - recall: 0.4091 - auc: 0.9523 - prc: 0.9797\n",
      "Epoch 25/100\n",
      "1/1 [==============================] - 0s 2ms/step - loss: 0.6039 - tp: 10.0000 - fp: 0.0000e+00 - tn: 10.0000 - fn: 12.0000 - accuracy: 0.6250 - precision: 1.0000 - recall: 0.4545 - auc: 0.9614 - prc: 0.9840\n",
      "Epoch 26/100\n",
      "1/1 [==============================] - 0s 2ms/step - loss: 0.5834 - tp: 12.0000 - fp: 0.0000e+00 - tn: 10.0000 - fn: 10.0000 - accuracy: 0.6875 - precision: 1.0000 - recall: 0.5455 - auc: 0.9636 - prc: 0.9848\n",
      "Epoch 27/100\n",
      "1/1 [==============================] - 0s 2ms/step - loss: 0.5627 - tp: 12.0000 - fp: 0.0000e+00 - tn: 10.0000 - fn: 10.0000 - accuracy: 0.6875 - precision: 1.0000 - recall: 0.5455 - auc: 0.9659 - prc: 0.9856\n",
      "Epoch 28/100\n",
      "1/1 [==============================] - 0s 3ms/step - loss: 0.5417 - tp: 15.0000 - fp: 0.0000e+00 - tn: 10.0000 - fn: 7.0000 - accuracy: 0.7812 - precision: 1.0000 - recall: 0.6818 - auc: 0.9705 - prc: 0.9873\n",
      "Epoch 29/100\n",
      "1/1 [==============================] - 0s 2ms/step - loss: 0.5211 - tp: 16.0000 - fp: 0.0000e+00 - tn: 10.0000 - fn: 6.0000 - accuracy: 0.8125 - precision: 1.0000 - recall: 0.7273 - auc: 0.9909 - prc: 0.9959\n",
      "Epoch 30/100\n",
      "1/1 [==============================] - 0s 2ms/step - loss: 0.5012 - tp: 18.0000 - fp: 0.0000e+00 - tn: 10.0000 - fn: 4.0000 - accuracy: 0.8750 - precision: 1.0000 - recall: 0.8182 - auc: 0.9909 - prc: 0.9959\n",
      "Epoch 31/100\n",
      "1/1 [==============================] - 0s 3ms/step - loss: 0.4817 - tp: 18.0000 - fp: 0.0000e+00 - tn: 10.0000 - fn: 4.0000 - accuracy: 0.8750 - precision: 1.0000 - recall: 0.8182 - auc: 0.9909 - prc: 0.9959\n",
      "Epoch 32/100\n",
      "1/1 [==============================] - 0s 2ms/step - loss: 0.4631 - tp: 18.0000 - fp: 0.0000e+00 - tn: 10.0000 - fn: 4.0000 - accuracy: 0.8750 - precision: 1.0000 - recall: 0.8182 - auc: 1.0000 - prc: 1.0000\n",
      "Epoch 33/100\n",
      "1/1 [==============================] - 0s 9ms/step - loss: 0.4452 - tp: 18.0000 - fp: 0.0000e+00 - tn: 10.0000 - fn: 4.0000 - accuracy: 0.8750 - precision: 1.0000 - recall: 0.8182 - auc: 1.0000 - prc: 1.0000\n",
      "Epoch 34/100\n",
      "1/1 [==============================] - 0s 3ms/step - loss: 0.4278 - tp: 18.0000 - fp: 0.0000e+00 - tn: 10.0000 - fn: 4.0000 - accuracy: 0.8750 - precision: 1.0000 - recall: 0.8182 - auc: 1.0000 - prc: 1.0000\n",
      "Epoch 35/100\n",
      "1/1 [==============================] - 0s 2ms/step - loss: 0.4111 - tp: 18.0000 - fp: 0.0000e+00 - tn: 10.0000 - fn: 4.0000 - accuracy: 0.8750 - precision: 1.0000 - recall: 0.8182 - auc: 1.0000 - prc: 1.0000\n",
      "Epoch 36/100\n",
      "1/1 [==============================] - 0s 2ms/step - loss: 0.3951 - tp: 18.0000 - fp: 0.0000e+00 - tn: 10.0000 - fn: 4.0000 - accuracy: 0.8750 - precision: 1.0000 - recall: 0.8182 - auc: 1.0000 - prc: 1.0000\n",
      "Epoch 37/100\n",
      "1/1 [==============================] - 0s 3ms/step - loss: 0.3795 - tp: 18.0000 - fp: 0.0000e+00 - tn: 10.0000 - fn: 4.0000 - accuracy: 0.8750 - precision: 1.0000 - recall: 0.8182 - auc: 1.0000 - prc: 1.0000\n",
      "Epoch 38/100\n",
      "1/1 [==============================] - 0s 3ms/step - loss: 0.3645 - tp: 18.0000 - fp: 0.0000e+00 - tn: 10.0000 - fn: 4.0000 - accuracy: 0.8750 - precision: 1.0000 - recall: 0.8182 - auc: 1.0000 - prc: 1.0000\n",
      "Epoch 39/100\n",
      "1/1 [==============================] - 0s 2ms/step - loss: 0.3501 - tp: 19.0000 - fp: 0.0000e+00 - tn: 10.0000 - fn: 3.0000 - accuracy: 0.9062 - precision: 1.0000 - recall: 0.8636 - auc: 1.0000 - prc: 1.0000\n",
      "Epoch 40/100\n",
      "1/1 [==============================] - 0s 2ms/step - loss: 0.3362 - tp: 20.0000 - fp: 0.0000e+00 - tn: 10.0000 - fn: 2.0000 - accuracy: 0.9375 - precision: 1.0000 - recall: 0.9091 - auc: 1.0000 - prc: 1.0000\n",
      "Epoch 41/100\n",
      "1/1 [==============================] - 0s 1ms/step - loss: 0.3227 - tp: 20.0000 - fp: 0.0000e+00 - tn: 10.0000 - fn: 2.0000 - accuracy: 0.9375 - precision: 1.0000 - recall: 0.9091 - auc: 1.0000 - prc: 1.0000\n",
      "Epoch 42/100\n",
      "1/1 [==============================] - 0s 2ms/step - loss: 0.3100 - tp: 21.0000 - fp: 0.0000e+00 - tn: 10.0000 - fn: 1.0000 - accuracy: 0.9688 - precision: 1.0000 - recall: 0.9545 - auc: 1.0000 - prc: 1.0000\n",
      "Epoch 43/100\n",
      "1/1 [==============================] - 0s 1ms/step - loss: 0.2980 - tp: 21.0000 - fp: 0.0000e+00 - tn: 10.0000 - fn: 1.0000 - accuracy: 0.9688 - precision: 1.0000 - recall: 0.9545 - auc: 1.0000 - prc: 1.0000\n",
      "Epoch 44/100\n",
      "1/1 [==============================] - 0s 1ms/step - loss: 0.2867 - tp: 21.0000 - fp: 0.0000e+00 - tn: 10.0000 - fn: 1.0000 - accuracy: 0.9688 - precision: 1.0000 - recall: 0.9545 - auc: 1.0000 - prc: 1.0000\n",
      "Epoch 45/100\n",
      "1/1 [==============================] - 0s 3ms/step - loss: 0.2759 - tp: 22.0000 - fp: 0.0000e+00 - tn: 10.0000 - fn: 0.0000e+00 - accuracy: 1.0000 - precision: 1.0000 - recall: 1.0000 - auc: 1.0000 - prc: 1.0000\n",
      "Epoch 46/100\n",
      "1/1 [==============================] - 0s 5ms/step - loss: 0.2657 - tp: 22.0000 - fp: 0.0000e+00 - tn: 10.0000 - fn: 0.0000e+00 - accuracy: 1.0000 - precision: 1.0000 - recall: 1.0000 - auc: 1.0000 - prc: 1.0000\n",
      "Epoch 47/100\n",
      "1/1 [==============================] - 0s 4ms/step - loss: 0.2560 - tp: 22.0000 - fp: 0.0000e+00 - tn: 10.0000 - fn: 0.0000e+00 - accuracy: 1.0000 - precision: 1.0000 - recall: 1.0000 - auc: 1.0000 - prc: 1.0000\n",
      "Epoch 48/100\n",
      "1/1 [==============================] - 0s 1ms/step - loss: 0.2468 - tp: 22.0000 - fp: 0.0000e+00 - tn: 10.0000 - fn: 0.0000e+00 - accuracy: 1.0000 - precision: 1.0000 - recall: 1.0000 - auc: 1.0000 - prc: 1.0000\n",
      "Epoch 49/100\n",
      "1/1 [==============================] - 0s 1ms/step - loss: 0.2381 - tp: 22.0000 - fp: 0.0000e+00 - tn: 10.0000 - fn: 0.0000e+00 - accuracy: 1.0000 - precision: 1.0000 - recall: 1.0000 - auc: 1.0000 - prc: 1.0000\n",
      "Epoch 50/100\n",
      "1/1 [==============================] - 0s 2ms/step - loss: 0.2298 - tp: 22.0000 - fp: 0.0000e+00 - tn: 10.0000 - fn: 0.0000e+00 - accuracy: 1.0000 - precision: 1.0000 - recall: 1.0000 - auc: 1.0000 - prc: 1.0000\n",
      "Epoch 51/100\n",
      "1/1 [==============================] - 0s 999us/step - loss: 0.2219 - tp: 22.0000 - fp: 0.0000e+00 - tn: 10.0000 - fn: 0.0000e+00 - accuracy: 1.0000 - precision: 1.0000 - recall: 1.0000 - auc: 1.0000 - prc: 1.0000\n",
      "Epoch 52/100\n",
      "1/1 [==============================] - 0s 995us/step - loss: 0.2144 - tp: 22.0000 - fp: 0.0000e+00 - tn: 10.0000 - fn: 0.0000e+00 - accuracy: 1.0000 - precision: 1.0000 - recall: 1.0000 - auc: 1.0000 - prc: 1.0000\n",
      "Epoch 53/100\n",
      "1/1 [==============================] - 0s 2ms/step - loss: 0.2073 - tp: 22.0000 - fp: 0.0000e+00 - tn: 10.0000 - fn: 0.0000e+00 - accuracy: 1.0000 - precision: 1.0000 - recall: 1.0000 - auc: 1.0000 - prc: 1.0000\n",
      "Epoch 54/100\n",
      "1/1 [==============================] - 0s 1ms/step - loss: 0.2007 - tp: 22.0000 - fp: 0.0000e+00 - tn: 10.0000 - fn: 0.0000e+00 - accuracy: 1.0000 - precision: 1.0000 - recall: 1.0000 - auc: 1.0000 - prc: 1.0000\n",
      "Epoch 55/100\n",
      "1/1 [==============================] - 0s 2ms/step - loss: 0.1944 - tp: 22.0000 - fp: 0.0000e+00 - tn: 10.0000 - fn: 0.0000e+00 - accuracy: 1.0000 - precision: 1.0000 - recall: 1.0000 - auc: 1.0000 - prc: 1.0000\n",
      "Epoch 56/100\n",
      "1/1 [==============================] - 0s 5ms/step - loss: 0.1883 - tp: 22.0000 - fp: 0.0000e+00 - tn: 10.0000 - fn: 0.0000e+00 - accuracy: 1.0000 - precision: 1.0000 - recall: 1.0000 - auc: 1.0000 - prc: 1.0000\n",
      "Epoch 57/100\n",
      "1/1 [==============================] - 0s 4ms/step - loss: 0.1826 - tp: 22.0000 - fp: 0.0000e+00 - tn: 10.0000 - fn: 0.0000e+00 - accuracy: 1.0000 - precision: 1.0000 - recall: 1.0000 - auc: 1.0000 - prc: 1.0000\n",
      "Epoch 58/100\n",
      "1/1 [==============================] - 0s 3ms/step - loss: 0.1772 - tp: 22.0000 - fp: 0.0000e+00 - tn: 10.0000 - fn: 0.0000e+00 - accuracy: 1.0000 - precision: 1.0000 - recall: 1.0000 - auc: 1.0000 - prc: 1.0000\n",
      "Epoch 59/100\n",
      "1/1 [==============================] - 0s 2ms/step - loss: 0.1720 - tp: 22.0000 - fp: 0.0000e+00 - tn: 10.0000 - fn: 0.0000e+00 - accuracy: 1.0000 - precision: 1.0000 - recall: 1.0000 - auc: 1.0000 - prc: 1.0000\n",
      "Epoch 60/100\n",
      "1/1 [==============================] - 0s 2ms/step - loss: 0.1671 - tp: 22.0000 - fp: 0.0000e+00 - tn: 10.0000 - fn: 0.0000e+00 - accuracy: 1.0000 - precision: 1.0000 - recall: 1.0000 - auc: 1.0000 - prc: 1.0000\n",
      "Epoch 61/100\n",
      "1/1 [==============================] - 0s 2ms/step - loss: 0.1625 - tp: 22.0000 - fp: 0.0000e+00 - tn: 10.0000 - fn: 0.0000e+00 - accuracy: 1.0000 - precision: 1.0000 - recall: 1.0000 - auc: 1.0000 - prc: 1.0000\n",
      "Epoch 62/100\n",
      "1/1 [==============================] - 0s 1ms/step - loss: 0.1580 - tp: 22.0000 - fp: 0.0000e+00 - tn: 10.0000 - fn: 0.0000e+00 - accuracy: 1.0000 - precision: 1.0000 - recall: 1.0000 - auc: 1.0000 - prc: 1.0000\n",
      "Epoch 63/100\n",
      "1/1 [==============================] - 0s 2ms/step - loss: 0.1537 - tp: 22.0000 - fp: 0.0000e+00 - tn: 10.0000 - fn: 0.0000e+00 - accuracy: 1.0000 - precision: 1.0000 - recall: 1.0000 - auc: 1.0000 - prc: 1.0000\n",
      "Epoch 64/100\n",
      "1/1 [==============================] - 0s 2ms/step - loss: 0.1494 - tp: 22.0000 - fp: 0.0000e+00 - tn: 10.0000 - fn: 0.0000e+00 - accuracy: 1.0000 - precision: 1.0000 - recall: 1.0000 - auc: 1.0000 - prc: 1.0000\n",
      "Epoch 65/100\n",
      "1/1 [==============================] - 0s 3ms/step - loss: 0.1451 - tp: 22.0000 - fp: 0.0000e+00 - tn: 10.0000 - fn: 0.0000e+00 - accuracy: 1.0000 - precision: 1.0000 - recall: 1.0000 - auc: 1.0000 - prc: 1.0000\n",
      "Epoch 66/100\n",
      "1/1 [==============================] - 0s 2ms/step - loss: 0.1410 - tp: 22.0000 - fp: 0.0000e+00 - tn: 10.0000 - fn: 0.0000e+00 - accuracy: 1.0000 - precision: 1.0000 - recall: 1.0000 - auc: 1.0000 - prc: 1.0000\n",
      "Epoch 67/100\n",
      "1/1 [==============================] - 0s 2ms/step - loss: 0.1371 - tp: 22.0000 - fp: 0.0000e+00 - tn: 10.0000 - fn: 0.0000e+00 - accuracy: 1.0000 - precision: 1.0000 - recall: 1.0000 - auc: 1.0000 - prc: 1.0000\n",
      "Epoch 68/100\n",
      "1/1 [==============================] - 0s 4ms/step - loss: 0.1331 - tp: 22.0000 - fp: 0.0000e+00 - tn: 10.0000 - fn: 0.0000e+00 - accuracy: 1.0000 - precision: 1.0000 - recall: 1.0000 - auc: 1.0000 - prc: 1.0000\n",
      "Epoch 69/100\n",
      "1/1 [==============================] - 0s 3ms/step - loss: 0.1294 - tp: 22.0000 - fp: 0.0000e+00 - tn: 10.0000 - fn: 0.0000e+00 - accuracy: 1.0000 - precision: 1.0000 - recall: 1.0000 - auc: 1.0000 - prc: 1.0000\n",
      "Epoch 70/100\n",
      "1/1 [==============================] - 0s 2ms/step - loss: 0.1258 - tp: 22.0000 - fp: 0.0000e+00 - tn: 10.0000 - fn: 0.0000e+00 - accuracy: 1.0000 - precision: 1.0000 - recall: 1.0000 - auc: 1.0000 - prc: 1.0000\n",
      "Epoch 71/100\n",
      "1/1 [==============================] - 0s 1ms/step - loss: 0.1224 - tp: 22.0000 - fp: 0.0000e+00 - tn: 10.0000 - fn: 0.0000e+00 - accuracy: 1.0000 - precision: 1.0000 - recall: 1.0000 - auc: 1.0000 - prc: 1.0000\n",
      "Epoch 72/100\n",
      "1/1 [==============================] - 0s 3ms/step - loss: 0.1191 - tp: 22.0000 - fp: 0.0000e+00 - tn: 10.0000 - fn: 0.0000e+00 - accuracy: 1.0000 - precision: 1.0000 - recall: 1.0000 - auc: 1.0000 - prc: 1.0000\n",
      "Epoch 73/100\n",
      "1/1 [==============================] - 0s 2ms/step - loss: 0.1159 - tp: 22.0000 - fp: 0.0000e+00 - tn: 10.0000 - fn: 0.0000e+00 - accuracy: 1.0000 - precision: 1.0000 - recall: 1.0000 - auc: 1.0000 - prc: 1.0000\n",
      "Epoch 74/100\n",
      "1/1 [==============================] - 0s 3ms/step - loss: 0.1129 - tp: 22.0000 - fp: 0.0000e+00 - tn: 10.0000 - fn: 0.0000e+00 - accuracy: 1.0000 - precision: 1.0000 - recall: 1.0000 - auc: 1.0000 - prc: 1.0000\n",
      "Epoch 75/100\n",
      "1/1 [==============================] - 0s 1ms/step - loss: 0.1099 - tp: 22.0000 - fp: 0.0000e+00 - tn: 10.0000 - fn: 0.0000e+00 - accuracy: 1.0000 - precision: 1.0000 - recall: 1.0000 - auc: 1.0000 - prc: 1.0000\n",
      "Epoch 76/100\n",
      "1/1 [==============================] - 0s 2ms/step - loss: 0.1071 - tp: 22.0000 - fp: 0.0000e+00 - tn: 10.0000 - fn: 0.0000e+00 - accuracy: 1.0000 - precision: 1.0000 - recall: 1.0000 - auc: 1.0000 - prc: 1.0000\n",
      "Epoch 77/100\n",
      "1/1 [==============================] - 0s 2ms/step - loss: 0.1045 - tp: 22.0000 - fp: 0.0000e+00 - tn: 10.0000 - fn: 0.0000e+00 - accuracy: 1.0000 - precision: 1.0000 - recall: 1.0000 - auc: 1.0000 - prc: 1.0000\n",
      "Epoch 78/100\n",
      "1/1 [==============================] - 0s 2ms/step - loss: 0.1019 - tp: 22.0000 - fp: 0.0000e+00 - tn: 10.0000 - fn: 0.0000e+00 - accuracy: 1.0000 - precision: 1.0000 - recall: 1.0000 - auc: 1.0000 - prc: 1.0000\n",
      "Epoch 79/100\n",
      "1/1 [==============================] - 0s 3ms/step - loss: 0.0995 - tp: 22.0000 - fp: 0.0000e+00 - tn: 10.0000 - fn: 0.0000e+00 - accuracy: 1.0000 - precision: 1.0000 - recall: 1.0000 - auc: 1.0000 - prc: 1.0000\n",
      "Epoch 80/100\n",
      "1/1 [==============================] - 0s 2ms/step - loss: 0.0971 - tp: 22.0000 - fp: 0.0000e+00 - tn: 10.0000 - fn: 0.0000e+00 - accuracy: 1.0000 - precision: 1.0000 - recall: 1.0000 - auc: 1.0000 - prc: 1.0000\n",
      "Epoch 81/100\n",
      "1/1 [==============================] - 0s 3ms/step - loss: 0.0948 - tp: 22.0000 - fp: 0.0000e+00 - tn: 10.0000 - fn: 0.0000e+00 - accuracy: 1.0000 - precision: 1.0000 - recall: 1.0000 - auc: 1.0000 - prc: 1.0000\n",
      "Epoch 82/100\n",
      "1/1 [==============================] - 0s 8ms/step - loss: 0.0927 - tp: 22.0000 - fp: 0.0000e+00 - tn: 10.0000 - fn: 0.0000e+00 - accuracy: 1.0000 - precision: 1.0000 - recall: 1.0000 - auc: 1.0000 - prc: 1.0000\n",
      "Epoch 83/100\n",
      "1/1 [==============================] - 0s 3ms/step - loss: 0.0906 - tp: 22.0000 - fp: 0.0000e+00 - tn: 10.0000 - fn: 0.0000e+00 - accuracy: 1.0000 - precision: 1.0000 - recall: 1.0000 - auc: 1.0000 - prc: 1.0000\n",
      "Epoch 84/100\n",
      "1/1 [==============================] - 0s 2ms/step - loss: 0.0886 - tp: 22.0000 - fp: 0.0000e+00 - tn: 10.0000 - fn: 0.0000e+00 - accuracy: 1.0000 - precision: 1.0000 - recall: 1.0000 - auc: 1.0000 - prc: 1.0000\n",
      "Epoch 85/100\n",
      "1/1 [==============================] - 0s 5ms/step - loss: 0.0867 - tp: 22.0000 - fp: 0.0000e+00 - tn: 10.0000 - fn: 0.0000e+00 - accuracy: 1.0000 - precision: 1.0000 - recall: 1.0000 - auc: 1.0000 - prc: 1.0000\n",
      "Epoch 86/100\n",
      "1/1 [==============================] - 0s 7ms/step - loss: 0.0848 - tp: 22.0000 - fp: 0.0000e+00 - tn: 10.0000 - fn: 0.0000e+00 - accuracy: 1.0000 - precision: 1.0000 - recall: 1.0000 - auc: 1.0000 - prc: 1.0000\n",
      "Epoch 87/100\n",
      "1/1 [==============================] - 0s 2ms/step - loss: 0.0831 - tp: 22.0000 - fp: 0.0000e+00 - tn: 10.0000 - fn: 0.0000e+00 - accuracy: 1.0000 - precision: 1.0000 - recall: 1.0000 - auc: 1.0000 - prc: 1.0000\n",
      "Epoch 88/100\n",
      "1/1 [==============================] - 0s 3ms/step - loss: 0.0814 - tp: 22.0000 - fp: 0.0000e+00 - tn: 10.0000 - fn: 0.0000e+00 - accuracy: 1.0000 - precision: 1.0000 - recall: 1.0000 - auc: 1.0000 - prc: 1.0000\n",
      "Epoch 89/100\n",
      "1/1 [==============================] - 0s 1ms/step - loss: 0.0797 - tp: 22.0000 - fp: 0.0000e+00 - tn: 10.0000 - fn: 0.0000e+00 - accuracy: 1.0000 - precision: 1.0000 - recall: 1.0000 - auc: 1.0000 - prc: 1.0000\n",
      "Epoch 90/100\n",
      "1/1 [==============================] - 0s 2ms/step - loss: 0.0781 - tp: 22.0000 - fp: 0.0000e+00 - tn: 10.0000 - fn: 0.0000e+00 - accuracy: 1.0000 - precision: 1.0000 - recall: 1.0000 - auc: 1.0000 - prc: 1.0000\n",
      "Epoch 91/100\n",
      "1/1 [==============================] - 0s 2ms/step - loss: 0.0766 - tp: 22.0000 - fp: 0.0000e+00 - tn: 10.0000 - fn: 0.0000e+00 - accuracy: 1.0000 - precision: 1.0000 - recall: 1.0000 - auc: 1.0000 - prc: 1.0000\n",
      "Epoch 92/100\n",
      "1/1 [==============================] - 0s 1ms/step - loss: 0.0751 - tp: 22.0000 - fp: 0.0000e+00 - tn: 10.0000 - fn: 0.0000e+00 - accuracy: 1.0000 - precision: 1.0000 - recall: 1.0000 - auc: 1.0000 - prc: 1.0000\n",
      "Epoch 93/100\n",
      "1/1 [==============================] - 0s 978us/step - loss: 0.0737 - tp: 22.0000 - fp: 0.0000e+00 - tn: 10.0000 - fn: 0.0000e+00 - accuracy: 1.0000 - precision: 1.0000 - recall: 1.0000 - auc: 1.0000 - prc: 1.0000\n",
      "Epoch 94/100\n",
      "1/1 [==============================] - 0s 3ms/step - loss: 0.0723 - tp: 22.0000 - fp: 0.0000e+00 - tn: 10.0000 - fn: 0.0000e+00 - accuracy: 1.0000 - precision: 1.0000 - recall: 1.0000 - auc: 1.0000 - prc: 1.0000\n",
      "Epoch 95/100\n",
      "1/1 [==============================] - 0s 2ms/step - loss: 0.0710 - tp: 22.0000 - fp: 0.0000e+00 - tn: 10.0000 - fn: 0.0000e+00 - accuracy: 1.0000 - precision: 1.0000 - recall: 1.0000 - auc: 1.0000 - prc: 1.0000\n",
      "Epoch 96/100\n",
      "1/1 [==============================] - 0s 2ms/step - loss: 0.0697 - tp: 22.0000 - fp: 0.0000e+00 - tn: 10.0000 - fn: 0.0000e+00 - accuracy: 1.0000 - precision: 1.0000 - recall: 1.0000 - auc: 1.0000 - prc: 1.0000\n",
      "Epoch 97/100\n",
      "1/1 [==============================] - 0s 2ms/step - loss: 0.0685 - tp: 22.0000 - fp: 0.0000e+00 - tn: 10.0000 - fn: 0.0000e+00 - accuracy: 1.0000 - precision: 1.0000 - recall: 1.0000 - auc: 1.0000 - prc: 1.0000\n",
      "Epoch 98/100\n",
      "1/1 [==============================] - 0s 2ms/step - loss: 0.0673 - tp: 22.0000 - fp: 0.0000e+00 - tn: 10.0000 - fn: 0.0000e+00 - accuracy: 1.0000 - precision: 1.0000 - recall: 1.0000 - auc: 1.0000 - prc: 1.0000\n",
      "Epoch 99/100\n",
      "1/1 [==============================] - 0s 2ms/step - loss: 0.0661 - tp: 22.0000 - fp: 0.0000e+00 - tn: 10.0000 - fn: 0.0000e+00 - accuracy: 1.0000 - precision: 1.0000 - recall: 1.0000 - auc: 1.0000 - prc: 1.0000\n",
      "Epoch 100/100\n",
      "1/1 [==============================] - 0s 3ms/step - loss: 0.0649 - tp: 22.0000 - fp: 0.0000e+00 - tn: 10.0000 - fn: 0.0000e+00 - accuracy: 1.0000 - precision: 1.0000 - recall: 1.0000 - auc: 1.0000 - prc: 1.0000\n"
     ]
    },
    {
     "data": {
      "text/plain": [
       "<tensorflow.python.keras.callbacks.History at 0x1c4708b1ee0>"
      ]
     },
     "execution_count": 148,
     "metadata": {},
     "output_type": "execute_result"
    }
   ],
   "source": [
    "model_simple = make_simple_model()\n",
    "model_simple.fit(feat, labs, epochs=100)"
   ]
  },
  {
   "cell_type": "code",
   "execution_count": 149,
   "metadata": {},
   "outputs": [
    {
     "name": "stdout",
     "output_type": "stream",
     "text": [
      "29/29 [==============================] - 0s 2ms/step - loss: 0.5950 - tp: 581.0000 - fp: 123.0000 - tn: 44.0000 - fn: 152.0000 - accuracy: 0.6944 - precision: 0.8253 - recall: 0.7926 - auc: 0.5599 - prc: 0.8417\n"
     ]
    },
    {
     "data": {
      "text/plain": [
       "[0.595022976398468,\n",
       " 581.0,\n",
       " 123.0,\n",
       " 44.0,\n",
       " 152.0,\n",
       " 0.6944444179534912,\n",
       " 0.8252840638160706,\n",
       " 0.7926329970359802,\n",
       " 0.5599415302276611,\n",
       " 0.8416948318481445]"
      ]
     },
     "execution_count": 149,
     "metadata": {},
     "output_type": "execute_result"
    }
   ],
   "source": [
    "model_simple.evaluate(tf_val_dataset)"
   ]
  }
 ],
 "metadata": {
  "interpreter": {
   "hash": "b9523be2c5a0c2bad1a3f640ba7683ed79762fe800620d3f2faaf3e806b8eb3d"
  },
  "kernelspec": {
   "display_name": "Python 3.8.13 ('lbc')",
   "language": "python",
   "name": "python3"
  },
  "language_info": {
   "codemirror_mode": {
    "name": "ipython",
    "version": 3
   },
   "file_extension": ".py",
   "mimetype": "text/x-python",
   "name": "python",
   "nbconvert_exporter": "python",
   "pygments_lexer": "ipython3",
   "version": "3.8.13"
  },
  "orig_nbformat": 4
 },
 "nbformat": 4,
 "nbformat_minor": 2
}
